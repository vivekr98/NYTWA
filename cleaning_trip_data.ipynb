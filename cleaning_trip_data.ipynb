{
 "cells": [
  {
   "cell_type": "code",
   "execution_count": 1,
   "id": "c120d1e9",
   "metadata": {},
   "outputs": [],
   "source": [
    "import pandas as pd\n",
    "import pyarrow as pa\n",
    "import pyarrow.parquet as pq\n",
    "import matplotlib.pyplot as plt\n",
    "import numpy as np\n",
    "import math\n",
    "pd.set_option('display.float_format', lambda x: '%.5f' % x)"
   ]
  },
  {
   "cell_type": "code",
   "execution_count": 2,
   "id": "091177d5",
   "metadata": {},
   "outputs": [],
   "source": [
    "# constants\n",
    "\n",
    "NON_WAV_PER_MILE = 1.161\n",
    "NON_WAV_PER_MIN = 0.529\n",
    "\n",
    "WAV_PER_MILE = 1.504\n",
    "WAV_PER_MIN = 0.529\n",
    "\n",
    "OUT_CITY_NON_WAV_PER_MILE = 1.348\n",
    "OUT_CITY_WAV_PER_MILE = 1.746\n",
    "OUT_CITY_PER_MIN = 0.613\n",
    "\n",
    "JUNO = \"HV0002\"\n",
    "UBER = \"HV0003\"\n",
    "VIA = \"HV0004\"\n",
    "LYFT = \"HV0005\""
   ]
  },
  {
   "cell_type": "code",
   "execution_count": 3,
   "id": "f6ce8eba",
   "metadata": {},
   "outputs": [],
   "source": [
    "# import the taxi zone data\n",
    "\n",
    "taxi_zones = pd.read_csv(\"/Users/aya/Desktop/NYTWA/taxi_zones.csv\")[[\"zone\", \"LocationID\", \"borough\"]]"
   ]
  },
  {
   "cell_type": "code",
   "execution_count": 4,
   "id": "c5567aa6",
   "metadata": {},
   "outputs": [],
   "source": [
    "# import the trip data\n",
    "feb_2019 = pd.read_parquet(\"/Users/aya/Desktop/Aya_NYTWA/Data/fhvhv_tripdata_2019-02.parquet\", engine = \"fastparquet\")[[\"hvfhs_license_num\", \"PULocationID\", \"DOLocationID\", \"trip_miles\", \"trip_time\", \"base_passenger_fare\", \"driver_pay\", \"wav_match_flag\", \"shared_match_flag\"]]\n",
    "april_2022 = pd.read_parquet(\"/Users/aya/Desktop/Aya_NYTWA/Data/fhvhv_tripdata_2022-04.parquet\", engine = \"fastparquet\")[[\"hvfhs_license_num\", \"PULocationID\", \"DOLocationID\", \"trip_miles\", \"trip_time\", \"base_passenger_fare\", \"driver_pay\", \"wav_match_flag\", \"shared_match_flag\"]]"
   ]
  },
  {
   "cell_type": "markdown",
   "id": "be2e9ed9",
   "metadata": {},
   "source": [
    "# February 2019"
   ]
  },
  {
   "cell_type": "markdown",
   "id": "571b4921",
   "metadata": {},
   "source": [
    "## Cleaning"
   ]
  },
  {
   "cell_type": "code",
   "execution_count": 37,
   "id": "e6545846",
   "metadata": {},
   "outputs": [],
   "source": [
    "df = feb_2019"
   ]
  },
  {
   "cell_type": "code",
   "execution_count": 38,
   "id": "0ca0673a",
   "metadata": {},
   "outputs": [
    {
     "data": {
      "text/plain": [
       "0.0003322072580415536"
      ]
     },
     "execution_count": 38,
     "metadata": {},
     "output_type": "execute_result"
    }
   ],
   "source": [
    "len(df[df[\"trip_miles\"] <= 0])/len(df)"
   ]
  },
  {
   "cell_type": "code",
   "execution_count": 39,
   "id": "700b58ba",
   "metadata": {},
   "outputs": [
    {
     "data": {
      "text/plain": [
       "0.0001702952839863601"
      ]
     },
     "execution_count": 39,
     "metadata": {},
     "output_type": "execute_result"
    }
   ],
   "source": [
    "len(df[df[\"trip_time\"] <= 0])/len(df)"
   ]
  },
  {
   "cell_type": "code",
   "execution_count": 40,
   "id": "692683cc",
   "metadata": {},
   "outputs": [
    {
     "data": {
      "text/plain": [
       "0.004472371834816849"
      ]
     },
     "execution_count": 40,
     "metadata": {},
     "output_type": "execute_result"
    }
   ],
   "source": [
    "len(df[df[\"base_passenger_fare\"] <= 0.01])/len(df)"
   ]
  },
  {
   "cell_type": "code",
   "execution_count": 41,
   "id": "1ba1d62d",
   "metadata": {},
   "outputs": [
    {
     "data": {
      "text/plain": [
       "0.10823626965129697"
      ]
     },
     "execution_count": 41,
     "metadata": {},
     "output_type": "execute_result"
    }
   ],
   "source": [
    "len(df[df[\"driver_pay\"] <= 0.01])/len(df)"
   ]
  },
  {
   "cell_type": "code",
   "execution_count": 42,
   "id": "bdc88445",
   "metadata": {},
   "outputs": [
    {
     "data": {
      "text/plain": [
       "1.602253909921186e-05"
      ]
     },
     "execution_count": 42,
     "metadata": {},
     "output_type": "execute_result"
    }
   ],
   "source": [
    "len(df[df[\"trip_time\"] > 5*60*60])/len(df)"
   ]
  },
  {
   "cell_type": "code",
   "execution_count": 44,
   "id": "25e3b3bf",
   "metadata": {},
   "outputs": [
    {
     "data": {
      "text/plain": [
       "20159102"
      ]
     },
     "execution_count": 44,
     "metadata": {},
     "output_type": "execute_result"
    }
   ],
   "source": [
    "num_before = len(df)\n",
    "num_before"
   ]
  },
  {
   "cell_type": "code",
   "execution_count": 45,
   "id": "c67d23a5",
   "metadata": {},
   "outputs": [],
   "source": [
    "# drop rows where the trip miles or time is less than or equal to 0\n",
    "df = df.drop(df[df[\"trip_miles\"] <= 0].index)\n",
    "df = df.drop(df[df[\"trip_time\"] <= 0].index)\n",
    "\n",
    "# drop rows where the trip time is longer than 5 hours\n",
    "df = df.drop(df[df[\"trip_time\"] > 5*60*60].index)\n",
    "\n",
    "# drop rows where the base passenger fare or driver pay is less than $0.01\n",
    "df = df.drop(df[df[\"base_passenger_fare\"] <= 0.01].index)\n",
    "df = df.drop(df[df[\"driver_pay\"] <= 0.01].index)"
   ]
  },
  {
   "cell_type": "code",
   "execution_count": 46,
   "id": "043a04e2",
   "metadata": {},
   "outputs": [],
   "source": [
    "num_after = len(df)\n",
    "num_dropped = num_before - num_after"
   ]
  },
  {
   "cell_type": "code",
   "execution_count": 47,
   "id": "0240ad12",
   "metadata": {},
   "outputs": [
    {
     "data": {
      "text/plain": [
       "17888790"
      ]
     },
     "execution_count": 47,
     "metadata": {},
     "output_type": "execute_result"
    }
   ],
   "source": [
    "num_after"
   ]
  },
  {
   "cell_type": "code",
   "execution_count": 48,
   "id": "f76a5857",
   "metadata": {},
   "outputs": [
    {
     "data": {
      "text/plain": [
       "2270312"
      ]
     },
     "execution_count": 48,
     "metadata": {},
     "output_type": "execute_result"
    }
   ],
   "source": [
    "num_dropped"
   ]
  },
  {
   "cell_type": "code",
   "execution_count": 49,
   "id": "d72128c6",
   "metadata": {},
   "outputs": [
    {
     "data": {
      "text/plain": [
       "0.11261969903222872"
      ]
     },
     "execution_count": 49,
     "metadata": {},
     "output_type": "execute_result"
    }
   ],
   "source": [
    "num_dropped/num_before"
   ]
  },
  {
   "cell_type": "markdown",
   "id": "68249c62",
   "metadata": {},
   "source": [
    "## Adding flags for out of city"
   ]
  },
  {
   "cell_type": "code",
   "execution_count": 50,
   "id": "7eb7da9c",
   "metadata": {},
   "outputs": [],
   "source": [
    "df['out_of_city'] = np.where(\n",
    "    df['DOLocationID'].isnull(), np.NaN, np.where(\n",
    "    df[\"DOLocationID\"].isin(taxi_zones[\"LocationID\"]), False,True)) "
   ]
  },
  {
   "cell_type": "code",
   "execution_count": 51,
   "id": "d8097773",
   "metadata": {},
   "outputs": [],
   "source": [
    "df[\"out_of_city\"] = df[\"out_of_city\"].astype(\"bool\")"
   ]
  },
  {
   "cell_type": "code",
   "execution_count": 52,
   "id": "f5e0312c",
   "metadata": {},
   "outputs": [],
   "source": [
    "table = pa.Table.from_pandas(df)\n",
    "pq.write_table(table, '/Users/aya/Desktop/Aya_NYTWA/Data/february_2019_cleaned.parquet')"
   ]
  },
  {
   "cell_type": "markdown",
   "id": "767b4f3b",
   "metadata": {},
   "source": [
    "# April 2022"
   ]
  },
  {
   "cell_type": "markdown",
   "id": "f694608d",
   "metadata": {},
   "source": [
    "## Cleaning"
   ]
  },
  {
   "cell_type": "code",
   "execution_count": 53,
   "id": "62ae482a",
   "metadata": {},
   "outputs": [],
   "source": [
    "df = april_2022"
   ]
  },
  {
   "cell_type": "code",
   "execution_count": 54,
   "id": "5c1f2ca4",
   "metadata": {},
   "outputs": [
    {
     "data": {
      "text/plain": [
       "0.00018983176568158252"
      ]
     },
     "execution_count": 54,
     "metadata": {},
     "output_type": "execute_result"
    }
   ],
   "source": [
    "len(df[df[\"trip_miles\"] <= 0])/len(df)"
   ]
  },
  {
   "cell_type": "code",
   "execution_count": 55,
   "id": "8ae0d9a7",
   "metadata": {},
   "outputs": [
    {
     "data": {
      "text/plain": [
       "5.632990079572181e-08"
      ]
     },
     "execution_count": 55,
     "metadata": {},
     "output_type": "execute_result"
    }
   ],
   "source": [
    "len(df[df[\"trip_time\"] <= 0])/len(df)"
   ]
  },
  {
   "cell_type": "code",
   "execution_count": 56,
   "id": "a70576a7",
   "metadata": {},
   "outputs": [
    {
     "data": {
      "text/plain": [
       "0.0011658599567690544"
      ]
     },
     "execution_count": 56,
     "metadata": {},
     "output_type": "execute_result"
    }
   ],
   "source": [
    "len(df[df[\"base_passenger_fare\"] <= 0.01])/len(df)"
   ]
  },
  {
   "cell_type": "code",
   "execution_count": 57,
   "id": "a999f20e",
   "metadata": {},
   "outputs": [
    {
     "data": {
      "text/plain": [
       "0.0034525722795713813"
      ]
     },
     "execution_count": 57,
     "metadata": {},
     "output_type": "execute_result"
    }
   ],
   "source": [
    "len(df[df[\"driver_pay\"] <= 0.01])/len(df)"
   ]
  },
  {
   "cell_type": "code",
   "execution_count": 58,
   "id": "97c14b57",
   "metadata": {},
   "outputs": [
    {
     "data": {
      "text/plain": [
       "1.4533114405296227e-05"
      ]
     },
     "execution_count": 58,
     "metadata": {},
     "output_type": "execute_result"
    }
   ],
   "source": [
    "len(df[df[\"trip_time\"] > 5*60*60])/len(df)"
   ]
  },
  {
   "cell_type": "code",
   "execution_count": 59,
   "id": "df1bdca6",
   "metadata": {},
   "outputs": [],
   "source": [
    "num_before = len(df)"
   ]
  },
  {
   "cell_type": "code",
   "execution_count": 60,
   "id": "715e7b8a",
   "metadata": {},
   "outputs": [
    {
     "data": {
      "text/plain": [
       "17752561"
      ]
     },
     "execution_count": 60,
     "metadata": {},
     "output_type": "execute_result"
    }
   ],
   "source": [
    "num_before"
   ]
  },
  {
   "cell_type": "code",
   "execution_count": 61,
   "id": "42017110",
   "metadata": {},
   "outputs": [],
   "source": [
    "# drop rows where the trip miles or time is less than or equal to 0\n",
    "df = df.drop(df[df[\"trip_miles\"] <= 0].index)\n",
    "df = df.drop(df[df[\"trip_time\"] <= 0].index)\n",
    "\n",
    "# drop rows where the trip time is longer than 5 hours\n",
    "df = df.drop(df[df[\"trip_time\"] > 5*60*60].index)\n",
    "\n",
    "# drop rows where the base passenger fare or driver pay is less than $0.01\n",
    "df = df.drop(df[df[\"base_passenger_fare\"] <= 0.01].index)\n",
    "df = df.drop(df[df[\"driver_pay\"] <= 0.01].index)"
   ]
  },
  {
   "cell_type": "code",
   "execution_count": 62,
   "id": "dcb42673",
   "metadata": {},
   "outputs": [],
   "source": [
    "num_after = len(df)\n",
    "num_dropped = num_before - num_after"
   ]
  },
  {
   "cell_type": "code",
   "execution_count": 63,
   "id": "be2d043d",
   "metadata": {},
   "outputs": [
    {
     "data": {
      "text/plain": [
       "17669379"
      ]
     },
     "execution_count": 63,
     "metadata": {},
     "output_type": "execute_result"
    }
   ],
   "source": [
    "num_after"
   ]
  },
  {
   "cell_type": "code",
   "execution_count": 64,
   "id": "b86c316e",
   "metadata": {},
   "outputs": [
    {
     "data": {
      "text/plain": [
       "83182"
      ]
     },
     "execution_count": 64,
     "metadata": {},
     "output_type": "execute_result"
    }
   ],
   "source": [
    "num_dropped"
   ]
  },
  {
   "cell_type": "code",
   "execution_count": 65,
   "id": "90028b80",
   "metadata": {},
   "outputs": [
    {
     "data": {
      "text/plain": [
       "0.004685633807989731"
      ]
     },
     "execution_count": 65,
     "metadata": {},
     "output_type": "execute_result"
    }
   ],
   "source": [
    "num_dropped/num_before"
   ]
  },
  {
   "cell_type": "markdown",
   "id": "f99e0f91",
   "metadata": {},
   "source": [
    "## Adding flags for out of city"
   ]
  },
  {
   "cell_type": "code",
   "execution_count": 66,
   "id": "ac63f282",
   "metadata": {},
   "outputs": [],
   "source": [
    "df['out_of_city'] = np.where(\n",
    "    df['DOLocationID'].isnull(), np.NaN, np.where(\n",
    "    df[\"DOLocationID\"].isin(taxi_zones[\"LocationID\"]), False,True)) "
   ]
  },
  {
   "cell_type": "code",
   "execution_count": 67,
   "id": "10ab9a6a",
   "metadata": {},
   "outputs": [],
   "source": [
    "df[\"out_of_city\"] = df[\"out_of_city\"].astype(\"bool\")"
   ]
  },
  {
   "cell_type": "code",
   "execution_count": 68,
   "id": "6455cb77",
   "metadata": {},
   "outputs": [],
   "source": [
    "table = pa.Table.from_pandas(df)\n",
    "pq.write_table(table, '/Users/aya/Desktop/Aya_NYTWA/Data/april_2022_cleaned.parquet')"
   ]
  }
 ],
 "metadata": {
  "kernelspec": {
   "display_name": "Python 3",
   "language": "python",
   "name": "python3"
  },
  "language_info": {
   "codemirror_mode": {
    "name": "ipython",
    "version": 3
   },
   "file_extension": ".py",
   "mimetype": "text/x-python",
   "name": "python",
   "nbconvert_exporter": "python",
   "pygments_lexer": "ipython3",
   "version": "3.7.11"
  }
 },
 "nbformat": 4,
 "nbformat_minor": 5
}
