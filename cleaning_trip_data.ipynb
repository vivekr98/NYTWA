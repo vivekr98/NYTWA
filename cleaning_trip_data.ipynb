{
 "cells": [
  {
   "cell_type": "code",
   "execution_count": 1,
   "id": "c120d1e9",
   "metadata": {},
   "outputs": [],
   "source": [
    "import pandas as pd\n",
    "import pyarrow as pa\n",
    "import pyarrow.parquet as pq\n",
    "import matplotlib.pyplot as plt\n",
    "pd.set_option('display.float_format', lambda x: '%.5f' % x)"
   ]
  },
  {
   "cell_type": "code",
   "execution_count": 4,
   "id": "c5567aa6",
   "metadata": {},
   "outputs": [],
   "source": [
    "# import the trip data\n",
    "feb_2019 = pd.read_parquet(\"/Users/aya/Desktop/Aya_NYTWA/Data/fhvhv_tripdata_2019-02.parquet\", engine = \"fastparquet\")[[\"hvfhs_license_num\", \"PULocationID\", \"DOLocationID\", \"trip_miles\", \"trip_time\", \"base_passenger_fare\", \"driver_pay\", \"wav_match_flag\"]]\n",
    "april_2022 = pd.read_parquet(\"/Users/aya/Desktop/Aya_NYTWA/Data/fhvhv_tripdata_2022-04.parquet\", engine = \"fastparquet\")[[\"hvfhs_license_num\", \"PULocationID\", \"DOLocationID\", \"trip_miles\", \"trip_time\", \"base_passenger_fare\", \"driver_pay\", \"wav_match_flag\"]]"
   ]
  },
  {
   "cell_type": "markdown",
   "id": "be2e9ed9",
   "metadata": {},
   "source": [
    "# Cleaning"
   ]
  },
  {
   "cell_type": "markdown",
   "id": "571b4921",
   "metadata": {},
   "source": [
    "## February 2019"
   ]
  },
  {
   "cell_type": "code",
   "execution_count": 6,
   "id": "e6545846",
   "metadata": {},
   "outputs": [],
   "source": [
    "df = feb_2019"
   ]
  },
  {
   "cell_type": "code",
   "execution_count": 7,
   "id": "0ca0673a",
   "metadata": {},
   "outputs": [
    {
     "data": {
      "text/plain": [
       "0.0003322072580415536"
      ]
     },
     "execution_count": 7,
     "metadata": {},
     "output_type": "execute_result"
    }
   ],
   "source": [
    "len(df[df[\"trip_miles\"] <= 0])/len(df)"
   ]
  },
  {
   "cell_type": "code",
   "execution_count": 8,
   "id": "700b58ba",
   "metadata": {},
   "outputs": [
    {
     "data": {
      "text/plain": [
       "0.0001702952839863601"
      ]
     },
     "execution_count": 8,
     "metadata": {},
     "output_type": "execute_result"
    }
   ],
   "source": [
    "len(df[df[\"trip_time\"] <= 0])/len(df)"
   ]
  },
  {
   "cell_type": "code",
   "execution_count": 9,
   "id": "692683cc",
   "metadata": {},
   "outputs": [
    {
     "data": {
      "text/plain": [
       "0.004472371834816849"
      ]
     },
     "execution_count": 9,
     "metadata": {},
     "output_type": "execute_result"
    }
   ],
   "source": [
    "len(df[df[\"base_passenger_fare\"] <= 0.01])/len(df)"
   ]
  },
  {
   "cell_type": "code",
   "execution_count": 10,
   "id": "1ba1d62d",
   "metadata": {},
   "outputs": [
    {
     "data": {
      "text/plain": [
       "0.10823626965129697"
      ]
     },
     "execution_count": 10,
     "metadata": {},
     "output_type": "execute_result"
    }
   ],
   "source": [
    "len(df[df[\"driver_pay\"] <= 0.01])/len(df)"
   ]
  },
  {
   "cell_type": "code",
   "execution_count": 15,
   "id": "c67d23a5",
   "metadata": {},
   "outputs": [],
   "source": [
    "# drop rows where the trip miles or time is less than or equal to 0\n",
    "df = df.drop(df[df[\"trip_miles\"] <= 0].index)\n",
    "df = df.drop(df[df[\"trip_time\"] <= 0].index)\n",
    "\n",
    "# drop rows where the base passenger fare or driver pay is less than $0.01\n",
    "df = df.drop(df[df[\"base_passenger_fare\"] <= 0.01].index)\n",
    "df = df.drop(df[df[\"driver_pay\"] <= 0.01].index)"
   ]
  },
  {
   "cell_type": "code",
   "execution_count": 17,
   "id": "75edc24f",
   "metadata": {},
   "outputs": [],
   "source": [
    "table = pa.Table.from_pandas(df)\n",
    "pq.write_table(table, '/Users/aya/Desktop/Aya_NYTWA/Data/feb_2019_cleaned.parquet')"
   ]
  },
  {
   "cell_type": "markdown",
   "id": "767b4f3b",
   "metadata": {},
   "source": [
    "## April 2022"
   ]
  },
  {
   "cell_type": "code",
   "execution_count": 18,
   "id": "62ae482a",
   "metadata": {},
   "outputs": [],
   "source": [
    "df = april_2022"
   ]
  },
  {
   "cell_type": "code",
   "execution_count": 19,
   "id": "5c1f2ca4",
   "metadata": {},
   "outputs": [
    {
     "data": {
      "text/plain": [
       "0.00018983176568158252"
      ]
     },
     "execution_count": 19,
     "metadata": {},
     "output_type": "execute_result"
    }
   ],
   "source": [
    "len(df[df[\"trip_miles\"] <= 0])/len(df)"
   ]
  },
  {
   "cell_type": "code",
   "execution_count": 20,
   "id": "8ae0d9a7",
   "metadata": {},
   "outputs": [
    {
     "data": {
      "text/plain": [
       "5.632990079572181e-08"
      ]
     },
     "execution_count": 20,
     "metadata": {},
     "output_type": "execute_result"
    }
   ],
   "source": [
    "len(df[df[\"trip_time\"] <= 0])/len(df)"
   ]
  },
  {
   "cell_type": "code",
   "execution_count": 21,
   "id": "a70576a7",
   "metadata": {},
   "outputs": [
    {
     "data": {
      "text/plain": [
       "0.0011658599567690544"
      ]
     },
     "execution_count": 21,
     "metadata": {},
     "output_type": "execute_result"
    }
   ],
   "source": [
    "len(df[df[\"base_passenger_fare\"] <= 0.01])/len(df)"
   ]
  },
  {
   "cell_type": "code",
   "execution_count": 22,
   "id": "a999f20e",
   "metadata": {},
   "outputs": [
    {
     "data": {
      "text/plain": [
       "0.0034525722795713813"
      ]
     },
     "execution_count": 22,
     "metadata": {},
     "output_type": "execute_result"
    }
   ],
   "source": [
    "len(df[df[\"driver_pay\"] <= 0.01])/len(df)"
   ]
  },
  {
   "cell_type": "code",
   "execution_count": 23,
   "id": "42017110",
   "metadata": {},
   "outputs": [],
   "source": [
    "# drop rows where the trip miles or time is less than or equal to 0\n",
    "df = df.drop(df[df[\"trip_miles\"] <= 0].index)\n",
    "df = df.drop(df[df[\"trip_time\"] <= 0].index)\n",
    "\n",
    "# drop rows where the base passenger fare or driver pay is less than $0.01\n",
    "df = df.drop(df[df[\"base_passenger_fare\"] <= 0.01].index)\n",
    "df = df.drop(df[df[\"driver_pay\"] <= 0.01].index)"
   ]
  },
  {
   "cell_type": "code",
   "execution_count": 24,
   "id": "6455cb77",
   "metadata": {},
   "outputs": [],
   "source": [
    "table = pa.Table.from_pandas(df)\n",
    "pq.write_table(table, '/Users/aya/Desktop/Aya_NYTWA/Data/april_2022_cleaned.parquet')"
   ]
  }
 ],
 "metadata": {
  "kernelspec": {
   "display_name": "Python 3",
   "language": "python",
   "name": "python3"
  },
  "language_info": {
   "codemirror_mode": {
    "name": "ipython",
    "version": 3
   },
   "file_extension": ".py",
   "mimetype": "text/x-python",
   "name": "python",
   "nbconvert_exporter": "python",
   "pygments_lexer": "ipython3",
   "version": "3.7.11"
  }
 },
 "nbformat": 4,
 "nbformat_minor": 5
}
