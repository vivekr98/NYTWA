{
 "cells": [
  {
   "cell_type": "markdown",
   "id": "8b8b5d93",
   "metadata": {},
   "source": [
    "# April 2020 (not adjusted)"
   ]
  },
  {
   "cell_type": "code",
   "execution_count": 2,
   "id": "f23ce3a6",
   "metadata": {},
   "outputs": [],
   "source": [
    "import numpy as np\n",
    "import pandas as pd\n",
    "import pyarrow as pa\n",
    "import pyarrow.parquet as pq\n",
    "import statsmodels.formula.api as sm\n",
    "import matplotlib.pyplot as plt\n",
    "import matplotlib.ticker\n",
    "from matplotlib.ticker import FormatStrFormatter\n",
    "\n",
    "pd.set_option('display.float_format', lambda x: '%.5f' % x)"
   ]
  },
  {
   "cell_type": "code",
   "execution_count": 3,
   "id": "57dc8415",
   "metadata": {},
   "outputs": [],
   "source": [
    "#CONSTANTS\n",
    "\n",
    "# to do: change the rates so that there are company specific values as well (for 2019, need Via rates), maybe store in a dataframe\n",
    "\n",
    "NON_WAV_PER_MILE_20 = 1.10 \n",
    "NON_WAV_PER_MIN_20 = 0.50 \n",
    "\n",
    "WAV_PER_MILE_20 = 1.43 \n",
    "WAV_PER_MIN_20 = 0.50 \n",
    "\n",
    "OUT_CITY_NON_WAV_PER_MILE_20 = 1.28 \n",
    "OUT_CITY_WAV_PER_MILE_20 = 1.66 \n",
    "OUT_CITY_PER_MIN_20 = 0.58 \n",
    "\n",
    "\n",
    "JUNO = \"HV0002\"\n",
    "UBER = \"HV0003\"\n",
    "VIA = \"HV0004\"\n",
    "LYFT = \"HV0005\""
   ]
  },
  {
   "cell_type": "code",
   "execution_count": 4,
   "id": "985c92e8",
   "metadata": {},
   "outputs": [],
   "source": [
    "# Import Cleaned Data\n",
    "\n",
    "apr2020 = pq.read_table(\"april_2020_cleaned.parquet\", memory_map=True).to_pandas()\n"
   ]
  },
  {
   "cell_type": "code",
   "execution_count": 5,
   "id": "7bc4b29c",
   "metadata": {},
   "outputs": [],
   "source": [
    "\n",
    "# Create minimum rates 2019 based on WAV and Out of City Conditions\n",
    "\n",
    "conditions2020 = [\n",
    "    (apr2020['wav_match_flag'] == 'N') & (apr2020['out_of_city'] == False),\n",
    "    (apr2020['wav_match_flag'] == 'Y') & (apr2020['out_of_city'] == False),\n",
    "    (apr2020['wav_match_flag'] == 'N') & (apr2020['out_of_city'] == True),\n",
    "    (apr2020['wav_match_flag'] == 'Y') & (apr2020['out_of_city'] == True)]\n",
    "\n",
    "choices2020 = [apr2020.trip_miles*NON_WAV_PER_MILE_20 + (apr2020.trip_time/60)*NON_WAV_PER_MIN_20,\n",
    "              apr2020.trip_miles*WAV_PER_MILE_20 + (apr2020.trip_time/60)*WAV_PER_MIN_20,\n",
    "              apr2020.trip_miles*OUT_CITY_NON_WAV_PER_MILE_20 + (apr2020.trip_time/60)*OUT_CITY_PER_MIN_20,\n",
    "              apr2020.trip_miles*OUT_CITY_WAV_PER_MILE_20 + (apr2020.trip_time/60)*OUT_CITY_PER_MIN_20]\n",
    "\n",
    "apr2020['min_rate'] = np.select(conditions2020, choices2020, default=apr2020.trip_miles*NON_WAV_PER_MILE_20 + (apr2020.trip_time/60)*NON_WAV_PER_MIN_20)\n",
    "\n",
    "# Determine percent of trips that leave city \n",
    "# Drop Shared rides, out of town rides, and VIA rides\n",
    "\n",
    "apr2020 = apr2020.loc[apr2020['shared_match_flag'] == \"N\"]\n",
    "apr2020 = apr2020.loc[apr2020['hvfhs_license_num'] != VIA]\n",
    "apr2020 = apr2020.loc[apr2020['out_of_city'] == False]\n"
   ]
  },
  {
   "cell_type": "markdown",
   "id": "e23c41e3",
   "metadata": {},
   "source": [
    "## Driver pay analysis"
   ]
  },
  {
   "cell_type": "code",
   "execution_count": 6,
   "id": "8aa955be",
   "metadata": {},
   "outputs": [
    {
     "data": {
      "text/plain": [
       "50232511.360000014"
      ]
     },
     "execution_count": 6,
     "metadata": {},
     "output_type": "execute_result"
    }
   ],
   "source": [
    "apr2020['driver_pay'].sum()"
   ]
  },
  {
   "cell_type": "code",
   "execution_count": 7,
   "id": "5b88246e",
   "metadata": {},
   "outputs": [
    {
     "data": {
      "text/plain": [
       "count   4067419.00000\n",
       "mean         12.34997\n",
       "std           8.35437\n",
       "min           0.02000\n",
       "25%           6.30000\n",
       "50%           9.80000\n",
       "75%          15.28000\n",
       "max         525.00000\n",
       "Name: driver_pay, dtype: float64"
      ]
     },
     "execution_count": 7,
     "metadata": {},
     "output_type": "execute_result"
    }
   ],
   "source": [
    "#### Distribution of driver pay\n",
    "\n",
    "\n",
    "\n",
    "apr2020['driver_pay'].describe()"
   ]
  },
  {
   "cell_type": "markdown",
   "id": "6bc28873",
   "metadata": {},
   "source": [
    "## Passenger Fare Analysis"
   ]
  },
  {
   "cell_type": "code",
   "execution_count": 8,
   "id": "fa0001f6",
   "metadata": {},
   "outputs": [
    {
     "data": {
      "text/plain": [
       "63935580.330000006"
      ]
     },
     "execution_count": 8,
     "metadata": {},
     "output_type": "execute_result"
    }
   ],
   "source": [
    "# Total passenger fare across all rides\n",
    "\n",
    "apr2020['base_passenger_fare'].sum()  "
   ]
  },
  {
   "cell_type": "code",
   "execution_count": 9,
   "id": "2adec83a",
   "metadata": {},
   "outputs": [
    {
     "data": {
      "text/plain": [
       "count   4067419.00000\n",
       "mean         15.71896\n",
       "std          10.59830\n",
       "min           0.02000\n",
       "25%           8.02000\n",
       "50%          12.32000\n",
       "75%          19.44000\n",
       "max         700.00000\n",
       "Name: base_passenger_fare, dtype: float64"
      ]
     },
     "execution_count": 9,
     "metadata": {},
     "output_type": "execute_result"
    }
   ],
   "source": [
    "#### Distribution of passenger fare\n",
    "\n",
    "apr2020.base_passenger_fare.describe()"
   ]
  },
  {
   "cell_type": "code",
   "execution_count": 10,
   "id": "3938190a",
   "metadata": {},
   "outputs": [
    {
     "data": {
      "text/plain": [
       "count   4067419.00000\n",
       "mean          0.80003\n",
       "std           0.68370\n",
       "min           0.00195\n",
       "25%           0.72363\n",
       "50%           0.75856\n",
       "75%           0.82961\n",
       "max         615.50000\n",
       "Name: perc_earnings_fare, dtype: float64"
      ]
     },
     "execution_count": 10,
     "metadata": {},
     "output_type": "execute_result"
    }
   ],
   "source": [
    "## Drivers' earnings compared to passenger fare\n",
    "\n",
    "apr2020['perc_earnings_fare'] = apr2020[\"driver_pay\"]/apr2020[\"base_passenger_fare\"]\n",
    "\n",
    "apr2020[\"perc_earnings_fare\"].describe()"
   ]
  },
  {
   "cell_type": "code",
   "execution_count": 13,
   "id": "774f2c28",
   "metadata": {},
   "outputs": [
    {
     "data": {
      "text/plain": [
       "0.0709936694498403"
      ]
     },
     "execution_count": 13,
     "metadata": {},
     "output_type": "execute_result"
    }
   ],
   "source": [
    "len(apr2020[apr2020[\"perc_earnings_fare\"] > 1])/len(apr2020)\n"
   ]
  },
  {
   "cell_type": "code",
   "execution_count": null,
   "id": "5b252a94",
   "metadata": {},
   "outputs": [],
   "source": [
    "apr2020[apr2020[\"perc_earnings_fare_adj\"] < 1][\"perc_earnings_fare_adj\"].describe()\n"
   ]
  },
  {
   "cell_type": "code",
   "execution_count": 15,
   "id": "0346ee2e",
   "metadata": {},
   "outputs": [],
   "source": [
    "\n",
    "## Losses on rides\n",
    "\n",
    "apr2020['perc_uber_takes'] = 1 - apr2020[\"driver_pay\"]/apr2020[\"base_passenger_fare\"]"
   ]
  },
  {
   "cell_type": "code",
   "execution_count": null,
   "id": "7b197e89",
   "metadata": {},
   "outputs": [],
   "source": [
    "#### Distribution of the percentage losses taken (among rides where a loss was taken)\n",
    "\n",
    "apr2020[apr2020['perc_uber_takes'] < 0]['perc_uber_takes'].describe()"
   ]
  },
  {
   "cell_type": "code",
   "execution_count": null,
   "id": "96c512ef",
   "metadata": {},
   "outputs": [],
   "source": [
    "#### Distribution of the percentage made over the minimum rate (among rides where a loss was taken)\n",
    "\n",
    "apr2020[(apr2020['perc_uber_takes'] < 0) & (apr2020['perc_over_min_rate'] < 0)]['perc_over_min_rate'].describe()\n"
   ]
  },
  {
   "cell_type": "code",
   "execution_count": null,
   "id": "1a9adfa0",
   "metadata": {},
   "outputs": [],
   "source": [
    "\n",
    "#### Distribution of percentage underpaid (among underpaid rides where a loss was taken)\n",
    "\n",
    "apr2020[(apr2020['perc_uber_takes'] < 0) & (apr2020['perc_over_min_rate'] < 0)]['perc_over_min_rate'].describe()\n"
   ]
  },
  {
   "cell_type": "code",
   "execution_count": null,
   "id": "601c2b35",
   "metadata": {},
   "outputs": [],
   "source": [
    "#### Distribution of dollar amount underpaid (among underpaid rides where a loss was taken)\n",
    "\n",
    "apr2020[(apr2020['perc_uber_takes'] < 0) & (apr2020['perc_over_min_rate'] < 0)]['over_min_rate'].describe()\n"
   ]
  },
  {
   "cell_type": "code",
   "execution_count": null,
   "id": "8931115c",
   "metadata": {},
   "outputs": [],
   "source": [
    "#### Distribution of the dollar amount made over the minimum rate (among rides where a loss was taken)\n",
    "\n",
    "apr2020[apr2020['perc_uber_takes'] < 0]['over_min_rate'].describe()\n"
   ]
  },
  {
   "cell_type": "code",
   "execution_count": null,
   "id": "d7d268e9",
   "metadata": {},
   "outputs": [],
   "source": [
    "\n",
    "#### Distribution of the percentage made over the minimum rate (among rides where a loss was not taken)\n",
    "\n",
    "apr2020[apr2020['perc_uber_takes'] >= 0]['perc_over_min_rate'].describe()\n"
   ]
  },
  {
   "cell_type": "code",
   "execution_count": null,
   "id": "0fc8d798",
   "metadata": {},
   "outputs": [],
   "source": [
    "#### Distribution of the dollar amount made over the minimum rate (among rides where a loss was not taken)\n",
    "\n",
    "apr2020[apr2020['perc_uber_takes'] >= 0]['over_min_rate'].describe()\n"
   ]
  },
  {
   "cell_type": "code",
   "execution_count": null,
   "id": "16bc96ac",
   "metadata": {},
   "outputs": [],
   "source": [
    "#### Percentage of rides that made under the minimum rate when a loss was taken\n",
    "\n",
    "len(apr2020[(apr2020['perc_uber_takes'] < 0) & (apr2020['perc_over_min_rate'] < 0)]['perc_over_min_rate'])/ len(apr2020[apr2020['perc_uber_takes'] < 0]['perc_over_min_rate'])\n"
   ]
  },
  {
   "cell_type": "code",
   "execution_count": null,
   "id": "53671449",
   "metadata": {},
   "outputs": [],
   "source": [
    "## Trip lengths\n",
    "\n",
    "apr2020[\"trip_time_min\"].describe()"
   ]
  },
  {
   "cell_type": "code",
   "execution_count": null,
   "id": "a577a38c",
   "metadata": {},
   "outputs": [],
   "source": [
    "apr2020[\"trip_miles\"].describe()\n"
   ]
  },
  {
   "cell_type": "code",
   "execution_count": 20,
   "id": "821acdef",
   "metadata": {},
   "outputs": [
    {
     "data": {
      "text/plain": [
       "Text(0.5, 1.0, 'April 2020, Proportion of Passenger Fare that the Company Takes')"
      ]
     },
     "execution_count": 20,
     "metadata": {},
     "output_type": "execute_result"
    },
    {
     "data": {
      "image/png": "[encoded data removed]",
      "text/plain": [
       "<Figure size 432x288 with 1 Axes>"
      ]
     },
     "metadata": {
      "needs_background": "light"
     },
     "output_type": "display_data"
    }
   ],
   "source": [
    "\n",
    "### Plot of proportion of passenger fare that the company takes\n",
    "\n",
    "apr2020['perc_uber_takes'] = 1 - apr2020[\"driver_pay\"]/apr2020[\"base_passenger_fare\"]\n",
    "\n",
    "bin_labels = ['None', '0% - 10%','10% - 20%', '20% - 30%', '30% - 40%', '40% and over']\n",
    "bins = [float('-inf'), 0, 0.10, 0.20, 0.30, 0.40, float('inf')]\n",
    "\n",
    "apr2020['perc_uber_takes_range'] = pd.cut(apr2020['perc_uber_takes'], bins= bins, labels=bin_labels)\n",
    "\n",
    "fig, ax = plt.subplots(figsize=(6, 4))\n",
    "ax.bar(x = bin_labels, height = apr2020.groupby(\"perc_uber_takes_range\")[\"perc_uber_takes_range\"].count()*100/len(apr2020[\"perc_uber_takes_range\"]))\n",
    "ax.set_ylim(0, 55)\n",
    "ax.set_xlabel('Amount Taken (% of passenger fare)')\n",
    "ax.xaxis.set_tick_params(rotation=45)\n",
    "ax.set_ylabel('Proportion of rides (%)')\n",
    "ax.bar_label(ax.containers[0], fmt = '%.1f', label_type='edge')\n",
    "ax.margins(y=0.1)\n",
    "ax.set_title('April 2020, Proportion of Passenger Fare that the Company Takes')"
   ]
  },
  {
   "cell_type": "code",
   "execution_count": null,
   "id": "eda38bff",
   "metadata": {},
   "outputs": [],
   "source": []
  }
 ],
 "metadata": {
  "kernelspec": {
   "display_name": "Python 3 (ipykernel)",
   "language": "python",
   "name": "python3"
  },
  "language_info": {
   "codemirror_mode": {
    "name": "ipython",
    "version": 3
   },
   "file_extension": ".py",
   "mimetype": "text/x-python",
   "name": "python",
   "nbconvert_exporter": "python",
   "pygments_lexer": "ipython3",
   "version": "3.10.2"
  }
 },
 "nbformat": 4,
 "nbformat_minor": 5
}
