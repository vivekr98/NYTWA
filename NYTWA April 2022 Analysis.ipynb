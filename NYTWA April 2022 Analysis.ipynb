{
 "cells": [
  {
   "cell_type": "code",
   "execution_count": 9,
   "id": "1b155e4b",
   "metadata": {},
   "outputs": [],
   "source": [
    "import numpy as np\n",
    "import pandas as pd\n",
    "import pyarrow as pa\n",
    "import pyarrow.parquet as pq"
   ]
  },
  {
   "cell_type": "code",
   "execution_count": 10,
   "id": "c3f0757f",
   "metadata": {},
   "outputs": [],
   "source": [
    "pd.set_option('display.float_format', lambda x: '%.5f' % x)\n"
   ]
  },
  {
   "cell_type": "code",
   "execution_count": 14,
   "id": "40ea1f1a",
   "metadata": {},
   "outputs": [],
   "source": [
    "rides = pq.read_table(\"fhvhv_tripdata_2022-04.parquet\", memory_map=True).to_pandas()\n"
   ]
  },
  {
   "cell_type": "code",
   "execution_count": 19,
   "id": "c01c6f42",
   "metadata": {},
   "outputs": [],
   "source": [
    "rides['commission'] = rides.base_passenger_fare - rides.driver_pay"
   ]
  },
  {
   "cell_type": "code",
   "execution_count": 20,
   "id": "1e3edc5a",
   "metadata": {},
   "outputs": [],
   "source": [
    "rides['min_rate'] = rides.trip_miles*1.161 + (rides.trip_time/60)*.529"
   ]
  },
  {
   "cell_type": "code",
   "execution_count": 21,
   "id": "3a854f2d",
   "metadata": {},
   "outputs": [],
   "source": [
    "rides['perc_commission'] = rides.driver_pay / rides.base_passenger_fare"
   ]
  },
  {
   "cell_type": "code",
   "execution_count": 22,
   "id": "c8f95790",
   "metadata": {},
   "outputs": [],
   "source": [
    "rides['perc_over_min_rate'] = (rides.driver_pay - rides.min_rate)/rides.min_rate"
   ]
  },
  {
   "cell_type": "code",
   "execution_count": 17,
   "id": "f552055c",
   "metadata": {},
   "outputs": [],
   "source": [
    "bad_trip = rides[rides.min_rate > rides.driver_pay] "
   ]
  },
  {
   "cell_type": "code",
   "execution_count": null,
   "id": "9309b2e9",
   "metadata": {},
   "outputs": [],
   "source": []
  },
  {
   "cell_type": "code",
   "execution_count": 22,
   "id": "c86c15ac",
   "metadata": {},
   "outputs": [
    {
     "name": "stdout",
     "output_type": "stream",
     "text": [
      "17752561 684940 0.0385826022510217\n"
     ]
    }
   ],
   "source": [
    "print(len(rides), len(bad_trip), len(bad_trip)/len(rides))\n",
    "\n"
   ]
  },
  {
   "cell_type": "code",
   "execution_count": 26,
   "id": "f0c63a58",
   "metadata": {},
   "outputs": [
    {
     "data": {
      "text/plain": [
       "count   17752561.00000\n",
       "mean          19.02645\n",
       "std           15.30752\n",
       "min          -17.78000\n",
       "25%            9.07000\n",
       "50%           14.81000\n",
       "75%           23.92000\n",
       "max         2053.10000\n",
       "Name: driver_pay, dtype: float64"
      ]
     },
     "execution_count": 26,
     "metadata": {},
     "output_type": "execute_result"
    }
   ],
   "source": [
    "rides.driver_pay.describe()"
   ]
  },
  {
   "cell_type": "code",
   "execution_count": 27,
   "id": "8be586ff",
   "metadata": {},
   "outputs": [
    {
     "data": {
      "text/plain": [
       "count   17752561.00000\n",
       "mean          24.06397\n",
       "std           19.49136\n",
       "min         -510.82000\n",
       "25%           11.87000\n",
       "50%           18.83000\n",
       "75%           29.76000\n",
       "max         3732.90000\n",
       "Name: base_passenger_fare, dtype: float64"
      ]
     },
     "execution_count": 27,
     "metadata": {},
     "output_type": "execute_result"
    }
   ],
   "source": [
    "rides.base_passenger_fare.describe()"
   ]
  },
  {
   "cell_type": "code",
   "execution_count": 29,
   "id": "b6536685",
   "metadata": {},
   "outputs": [
    {
     "data": {
      "text/plain": [
       "count   17752561.00000\n",
       "mean               inf\n",
       "std                NaN\n",
       "min           -1.23466\n",
       "25%            0.00492\n",
       "50%            0.08630\n",
       "75%            0.31782\n",
       "max                inf\n",
       "Name: perc_over_min_rate, dtype: float64"
      ]
     },
     "execution_count": 29,
     "metadata": {},
     "output_type": "execute_result"
    }
   ],
   "source": [
    "rides.perc_over_min_rate.describe()"
   ]
  },
  {
   "cell_type": "code",
   "execution_count": 23,
   "id": "cb7bf6d3",
   "metadata": {},
   "outputs": [],
   "source": [
    "num_rides_over_20_perc = len(rides[rides.perc_over_min_rate > .2])"
   ]
  },
  {
   "cell_type": "code",
   "execution_count": 24,
   "id": "9f49ceef",
   "metadata": {},
   "outputs": [
    {
     "data": {
      "text/plain": [
       "0.33343172289338985"
      ]
     },
     "execution_count": 24,
     "metadata": {},
     "output_type": "execute_result"
    }
   ],
   "source": [
    "num_rides_over_20_perc/len(rides)"
   ]
  },
  {
   "cell_type": "code",
   "execution_count": 32,
   "id": "bdaa30b2",
   "metadata": {},
   "outputs": [
    {
     "data": {
      "text/plain": [
       "count   17752561.00000\n",
       "mean           5.03752\n",
       "std            7.19563\n",
       "min        -2083.61000\n",
       "25%            1.80000\n",
       "50%            3.76000\n",
       "75%            6.89000\n",
       "max         1679.80000\n",
       "Name: commission, dtype: float64"
      ]
     },
     "execution_count": 32,
     "metadata": {},
     "output_type": "execute_result"
    }
   ],
   "source": [
    "rides.commission.describe()"
   ]
  },
  {
   "cell_type": "code",
   "execution_count": 25,
   "id": "be4b3f04",
   "metadata": {},
   "outputs": [
    {
     "data": {
      "text/plain": [
       "count   5919267.00000\n",
       "mean         18.39164\n",
       "std          16.84929\n",
       "min           0.10000\n",
       "25%           7.94000\n",
       "50%          13.85000\n",
       "75%          22.77000\n",
       "max        2053.10000\n",
       "Name: driver_pay, dtype: float64"
      ]
     },
     "execution_count": 25,
     "metadata": {},
     "output_type": "execute_result"
    }
   ],
   "source": [
    "rides[rides.perc_over_min_rate > .2].driver_pay.describe()"
   ]
  },
  {
   "cell_type": "code",
   "execution_count": null,
   "id": "3ce44523",
   "metadata": {},
   "outputs": [],
   "source": []
  },
  {
   "cell_type": "code",
   "execution_count": null,
   "id": "0814ce1b",
   "metadata": {},
   "outputs": [],
   "source": []
  },
  {
   "cell_type": "code",
   "execution_count": null,
   "id": "db279fca",
   "metadata": {},
   "outputs": [],
   "source": []
  },
  {
   "cell_type": "markdown",
   "id": "7db9b8c9",
   "metadata": {},
   "source": [
    "# **NYTWA FHV Data - April 2022**"
   ]
  },
  {
   "cell_type": "markdown",
   "id": "3253cc0f",
   "metadata": {},
   "source": [
    "### Methodology"
   ]
  },
  {
   "cell_type": "markdown",
   "id": "7182c9a5",
   "metadata": {},
   "source": [
    "The following data is taken from NYC TLC's FHV trip database. Data contains every ride taken in both February 2019 and April 2022. To clean the dataset, driver pay rates and passenger fares less than or equal to 0.01 were dropped. Trips that are listed as below 0 miles or 0 seconds long were also removed. The following displays the remaining total number of rides in the dataset for Feb 2019 and April 2022, respectively:"
   ]
  },
  {
   "cell_type": "code",
   "execution_count": 8,
   "id": "5d40a766",
   "metadata": {},
   "outputs": [
    {
     "ename": "NameError",
     "evalue": "name 'rides' is not defined",
     "output_type": "error",
     "traceback": [
      "\u001b[0;31m---------------------------------------------------------------------------\u001b[0m",
      "\u001b[0;31mNameError\u001b[0m                                 Traceback (most recent call last)",
      "Input \u001b[0;32mIn [8]\u001b[0m, in \u001b[0;36m<module>\u001b[0;34m\u001b[0m\n\u001b[0;32m----> 1\u001b[0m \u001b[38;5;28mprint\u001b[39m(\u001b[38;5;124m\"\u001b[39m\u001b[38;5;124mnumber of rides: \u001b[39m\u001b[38;5;124m\"\u001b[39m, \u001b[38;5;28mlen\u001b[39m(\u001b[43mrides\u001b[49m))\n",
      "\u001b[0;31mNameError\u001b[0m: name 'rides' is not defined"
     ]
    }
   ],
   "source": [
    "print(\"Number of rides: \", len(rides))"
   ]
  },
  {
   "cell_type": "markdown",
   "id": "e49a4a34",
   "metadata": {},
   "source": [
    "The following distributions describe the data in terms of total driver pay per ride:"
   ]
  },
  {
   "cell_type": "code",
   "execution_count": null,
   "id": "a6e257e0",
   "metadata": {},
   "outputs": [],
   "source": [
    "rides.driver_pay.describe()"
   ]
  },
  {
   "cell_type": "code",
   "execution_count": null,
   "id": "6ed1e78d",
   "metadata": {},
   "outputs": [],
   "source": [
    "placeholder for 2019"
   ]
  },
  {
   "cell_type": "code",
   "execution_count": null,
   "id": "c54942c6",
   "metadata": {},
   "outputs": [],
   "source": []
  },
  {
   "cell_type": "markdown",
   "id": "bc85532e",
   "metadata": {},
   "source": [
    "The following shows the distribution of trips in terms of percentage of driver earnings over the minimum required rate for the trip. This is a bit of a confusing statistic. For example, in 25% of trips in April 2022, drivers earned less than __ % over the minimum required rate for the trip."
   ]
  },
  {
   "cell_type": "code",
   "execution_count": null,
   "id": "d3782d6e",
   "metadata": {},
   "outputs": [],
   "source": [
    "rides.perc_over_min_rate.describe()"
   ]
  },
  {
   "cell_type": "code",
   "execution_count": null,
   "id": "0a6d592e",
   "metadata": {},
   "outputs": [],
   "source": [
    "print(\"in \", len(rides[rides.perc_over_min_rate > 0.05])/len(rides), \"% of rides the driver earned more than 5% of the minimum rate\""
   ]
  },
  {
   "cell_type": "markdown",
   "id": "600ab4d8",
   "metadata": {},
   "source": [
    "The following shows the percentage of trips where the driver was paid over 20% of the minimum required rate for the trip"
   ]
  },
  {
   "cell_type": "code",
   "execution_count": null,
   "id": "efd95327",
   "metadata": {},
   "outputs": [],
   "source": [
    "num_rides_over_20_perc/len(rides)"
   ]
  },
  {
   "cell_type": "code",
   "execution_count": null,
   "id": "5bc388ac",
   "metadata": {},
   "outputs": [],
   "source": []
  },
  {
   "cell_type": "markdown",
   "id": "cf6d7274",
   "metadata": {},
   "source": [
    "The distribution of driver pay for trips where the driver was paid over 20% of the minimum required rate for the trip"
   ]
  },
  {
   "cell_type": "code",
   "execution_count": null,
   "id": "d9720065",
   "metadata": {},
   "outputs": [],
   "source": [
    "rides[rides.perc_over_min_rate > .2].driver_pay.describe()"
   ]
  },
  {
   "cell_type": "code",
   "execution_count": null,
   "id": "91bc23a5",
   "metadata": {},
   "outputs": [],
   "source": []
  },
  {
   "cell_type": "code",
   "execution_count": null,
   "id": "36dad1b1",
   "metadata": {},
   "outputs": [],
   "source": []
  },
  {
   "cell_type": "code",
   "execution_count": null,
   "id": "0bae78f1",
   "metadata": {},
   "outputs": [],
   "source": []
  },
  {
   "cell_type": "code",
   "execution_count": null,
   "id": "5a99b82a",
   "metadata": {},
   "outputs": [],
   "source": []
  },
  {
   "cell_type": "code",
   "execution_count": 5,
   "id": "95f6b5c6",
   "metadata": {},
   "outputs": [
    {
     "name": "stdout",
     "output_type": "stream",
     "text": [
      "[main dd4e8d9] new stuff\r\n",
      " 1 file changed, 21 insertions(+), 1 deletion(-)\r\n"
     ]
    }
   ],
   "source": [
    "! git add NYTWA\\ April\\ 2022\\ Analysis.ipynb"
   ]
  },
  {
   "cell_type": "code",
   "execution_count": 7,
   "id": "0acfcdb9",
   "metadata": {},
   "outputs": [
    {
     "name": "stdout",
     "output_type": "stream",
     "text": [
      "error: switch `m' requires a value\r\n"
     ]
    }
   ],
   "source": [
    "! git commit -m \"\""
   ]
  },
  {
   "cell_type": "code",
   "execution_count": 6,
   "id": "5c2b0a26",
   "metadata": {},
   "outputs": [
    {
     "name": "stdout",
     "output_type": "stream",
     "text": [
      "Enumerating objects: 5, done.\n",
      "Counting objects: 100% (5/5), done.\n",
      "Delta compression using up to 4 threads\n",
      "Compressing objects: 100% (3/3), done.\n",
      "Writing objects: 100% (3/3), 397 bytes | 397.00 KiB/s, done.\n",
      "Total 3 (delta 1), reused 0 (delta 0), pack-reused 0\n",
      "remote: Resolving deltas: 100% (1/1), completed with 1 local object.\u001b[K\n",
      "To https://github.com/vivekr98/NYTWA.git\n",
      "   a9cb2e9..dd4e8d9  main -> main\n"
     ]
    }
   ],
   "source": [
    "! git push"
   ]
  },
  {
   "cell_type": "code",
   "execution_count": null,
   "id": "d5f4f8e3",
   "metadata": {},
   "outputs": [],
   "source": []
  }
 ],
 "metadata": {
  "kernelspec": {
   "display_name": "Python 3 (ipykernel)",
   "language": "python",
   "name": "python3"
  },
  "language_info": {
   "codemirror_mode": {
    "name": "ipython",
    "version": 3
   },
   "file_extension": ".py",
   "mimetype": "text/x-python",
   "name": "python",
   "nbconvert_exporter": "python",
   "pygments_lexer": "ipython3",
   "version": "3.10.2"
  }
 },
 "nbformat": 4,
 "nbformat_minor": 5
}
