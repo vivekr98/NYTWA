{
 "cells": [
  {
   "cell_type": "code",
   "execution_count": 15,
   "id": "1b155e4b",
   "metadata": {},
   "outputs": [
    {
     "ename": "ModuleNotFoundError",
     "evalue": "No module named 'statsmodels'",
     "output_type": "error",
     "traceback": [
      "\u001b[0;31m---------------------------------------------------------------------------\u001b[0m",
      "\u001b[0;31mModuleNotFoundError\u001b[0m                       Traceback (most recent call last)",
      "Input \u001b[0;32mIn [15]\u001b[0m, in \u001b[0;36m<module>\u001b[0;34m\u001b[0m\n\u001b[1;32m      3\u001b[0m \u001b[38;5;28;01mimport\u001b[39;00m \u001b[38;5;21;01mpyarrow\u001b[39;00m \u001b[38;5;28;01mas\u001b[39;00m \u001b[38;5;21;01mpa\u001b[39;00m\n\u001b[1;32m      4\u001b[0m \u001b[38;5;28;01mimport\u001b[39;00m \u001b[38;5;21;01mpyarrow\u001b[39;00m\u001b[38;5;21;01m.\u001b[39;00m\u001b[38;5;21;01mparquet\u001b[39;00m \u001b[38;5;28;01mas\u001b[39;00m \u001b[38;5;21;01mpq\u001b[39;00m\n\u001b[0;32m----> 5\u001b[0m \u001b[38;5;28;01mimport\u001b[39;00m \u001b[38;5;21;01mstatsmodels\u001b[39;00m\u001b[38;5;21;01m.\u001b[39;00m\u001b[38;5;21;01mformula\u001b[39;00m\u001b[38;5;21;01m.\u001b[39;00m\u001b[38;5;21;01mapi\u001b[39;00m \u001b[38;5;28;01mas\u001b[39;00m \u001b[38;5;21;01msm\u001b[39;00m\n",
      "\u001b[0;31mModuleNotFoundError\u001b[0m: No module named 'statsmodels'"
     ]
    }
   ],
   "source": [
    "import numpy as np\n",
    "import pandas as pd\n",
    "import pyarrow as pa\n",
    "import pyarrow.parquet as pq"
   ]
  },
  {
   "cell_type": "code",
   "execution_count": 10,
   "id": "c3f0757f",
   "metadata": {},
   "outputs": [],
   "source": [
    "pd.set_option('display.float_format', lambda x: '%.5f' % x)\n"
   ]
  },
  {
   "cell_type": "code",
   "execution_count": 14,
   "id": "40ea1f1a",
   "metadata": {},
   "outputs": [],
   "source": [
    "rides = pq.read_table(\"fhvhv_tripdata_2022-04.parquet\", memory_map=True).to_pandas()\n"
   ]
  },
  {
   "cell_type": "code",
   "execution_count": 19,
   "id": "c01c6f42",
   "metadata": {},
   "outputs": [],
   "source": [
    "rides['commission'] = rides.base_passenger_fare - rides.driver_pay"
   ]
  },
  {
   "cell_type": "code",
   "execution_count": 20,
   "id": "1e3edc5a",
   "metadata": {},
   "outputs": [],
   "source": [
    "rides['min_rate'] = rides.trip_miles*1.161 + (rides.trip_time/60)*.529"
   ]
  },
  {
   "cell_type": "code",
   "execution_count": 21,
   "id": "3a854f2d",
   "metadata": {},
   "outputs": [],
   "source": [
    "rides['perc_commission'] = rides.driver_pay / rides.base_passenger_fare"
   ]
  },
  {
   "cell_type": "code",
   "execution_count": 22,
   "id": "c8f95790",
   "metadata": {},
   "outputs": [],
   "source": [
    "rides['perc_over_min_rate'] = (rides.driver_pay - rides.min_rate)/rides.min_rate"
   ]
  },
  {
   "cell_type": "code",
   "execution_count": null,
   "id": "9309b2e9",
   "metadata": {},
   "outputs": [],
   "source": []
  },
  {
   "cell_type": "code",
   "execution_count": null,
   "id": "014e3cb9",
   "metadata": {},
   "outputs": [],
   "source": []
  },
  {
   "cell_type": "markdown",
   "id": "536e0433",
   "metadata": {},
   "source": [
    "# **NYTWA FHV Data - April 2022**"
   ]
  },
  {
   "cell_type": "markdown",
   "id": "03e7c5b4",
   "metadata": {},
   "source": [
    "### Methodology"
   ]
  },
  {
   "cell_type": "markdown",
   "id": "07f50014",
   "metadata": {},
   "source": [
    "The following data is taken from NYC TLC's FHV trip database. Data contains every ride taken in both February 2019 and April 2022. To clean the dataset, driver pay rates and passenger fares less than or equal to 0.01 were dropped. Trips that are listed as below 0 miles or 0 seconds long were also removed. The following displays the remaining total number of rides in the dataset for Feb 2019 and April 2022, respectively:"
   ]
  },
  {
   "cell_type": "code",
   "execution_count": 42,
   "id": "ddbddf24",
   "metadata": {},
   "outputs": [
    {
     "name": "stdout",
     "output_type": "stream",
     "text": [
      "Number of rides:  17752561\n"
     ]
    }
   ],
   "source": [
    "print(\"Number of rides: \", len(rides))"
   ]
  },
  {
   "cell_type": "markdown",
   "id": "dc7728f1",
   "metadata": {},
   "source": [
    "### Driver Pay"
   ]
  },
  {
   "cell_type": "markdown",
   "id": "e4dfe20a",
   "metadata": {},
   "source": [
    "The following distributions describe the data in terms of total driver pay per ride:"
   ]
  },
  {
   "cell_type": "code",
   "execution_count": null,
   "id": "17bdd973",
   "metadata": {},
   "outputs": [],
   "source": [
    "rides.driver_pay.describe()"
   ]
  },
  {
   "cell_type": "code",
   "execution_count": null,
   "id": "1e528da0",
   "metadata": {},
   "outputs": [],
   "source": [
    "placeholder for 2019"
   ]
  },
  {
   "cell_type": "code",
   "execution_count": null,
   "id": "e906965a",
   "metadata": {},
   "outputs": [],
   "source": []
  },
  {
   "cell_type": "markdown",
   "id": "33c50fff",
   "metadata": {},
   "source": [
    "The following shows the distribution of trips in terms of percentage of driver earnings over the minimum required rate for the trip. This is a bit of a confusing statistic. For example, in 25% of trips in April 2022, drivers earned less than __ % over the minimum required rate for the trip."
   ]
  },
  {
   "cell_type": "code",
   "execution_count": null,
   "id": "5ae6cbcf",
   "metadata": {},
   "outputs": [],
   "source": [
    "rides.perc_over_min_rate.describe()"
   ]
  },
  {
   "cell_type": "code",
   "execution_count": null,
   "id": "10fa7bd6",
   "metadata": {},
   "outputs": [],
   "source": [
    "print(\"in \", len(rides[rides.perc_over_min_rate > 0.05])/len(rides), \"% of rides the driver earned more than 5% of the minimum rate\""
   ]
  },
  {
   "cell_type": "markdown",
   "id": "fa35964f",
   "metadata": {},
   "source": [
    "The following shows the percentage of trips where the driver was paid over 20% of the minimum required rate for the trip"
   ]
  },
  {
   "cell_type": "code",
   "execution_count": null,
   "id": "d0cad256",
   "metadata": {},
   "outputs": [],
   "source": [
    "num_rides_over_20_perc/len(rides)"
   ]
  },
  {
   "cell_type": "code",
   "execution_count": null,
   "id": "3ac111b0",
   "metadata": {},
   "outputs": [],
   "source": []
  },
  {
   "cell_type": "markdown",
   "id": "ca1f6fa5",
   "metadata": {},
   "source": [
    "The distribution of driver pay for trips where the driver was paid over 20% of the minimum required rate for the trip"
   ]
  },
  {
   "cell_type": "code",
   "execution_count": null,
   "id": "151f6354",
   "metadata": {},
   "outputs": [],
   "source": [
    "rides[rides.perc_over_min_rate > .2].driver_pay.describe()"
   ]
  },
  {
   "cell_type": "code",
   "execution_count": null,
   "id": "5f120ef7",
   "metadata": {},
   "outputs": [],
   "source": []
  },
  {
   "cell_type": "markdown",
   "id": "7f16789f",
   "metadata": {},
   "source": [
    "### Consumer Pricing"
   ]
  },
  {
   "cell_type": "markdown",
   "id": "307abe90",
   "metadata": {},
   "source": [
    "The following shows the distribution of base passenger fare by ride:"
   ]
  },
  {
   "cell_type": "code",
   "execution_count": null,
   "id": "2c888641",
   "metadata": {},
   "outputs": [],
   "source": [
    "rides.base_passenger_fare.describe()"
   ]
  },
  {
   "cell_type": "code",
   "execution_count": null,
   "id": "5585653c",
   "metadata": {},
   "outputs": [],
   "source": []
  },
  {
   "cell_type": "markdown",
   "id": "8b4bc415",
   "metadata": {},
   "source": [
    "Changes in unit pricing: The following shows cost of 1 additional mile and 1 additional minute, respectively, on the passenger fare. "
   ]
  },
  {
   "cell_type": "code",
   "execution_count": null,
   "id": "72184213",
   "metadata": {},
   "outputs": [],
   "source": [
    "result = sm.ols(formula=\"base_passenger_fare ~ trip_miles + trip_time\", data=rides).fit()\n",
    "print(result.params)"
   ]
  },
  {
   "cell_type": "code",
   "execution_count": null,
   "id": "1172d9d9",
   "metadata": {},
   "outputs": [],
   "source": []
  },
  {
   "cell_type": "code",
   "execution_count": null,
   "id": "d6b74b71",
   "metadata": {},
   "outputs": [],
   "source": []
  },
  {
   "cell_type": "code",
   "execution_count": null,
   "id": "8830d3d6",
   "metadata": {},
   "outputs": [],
   "source": []
  },
  {
   "cell_type": "code",
   "execution_count": null,
   "id": "64e3d6af",
   "metadata": {},
   "outputs": [],
   "source": []
  },
  {
   "cell_type": "code",
   "execution_count": null,
   "id": "c402a7a6",
   "metadata": {},
   "outputs": [],
   "source": []
  },
  {
   "cell_type": "code",
   "execution_count": 49,
   "id": "b7c0bf7b",
   "metadata": {},
   "outputs": [
    {
     "name": "stdout",
     "output_type": "stream",
     "text": [
      "[main 6c3d8cc] make this into markdown 2\r\n",
      " 1 file changed, 78 insertions(+), 287 deletions(-)\r\n"
     ]
    }
   ],
   "source": [
    "! git commit -m \"make this into markdown 2\""
   ]
  },
  {
   "cell_type": "code",
   "execution_count": 46,
   "id": "fc4d5530",
   "metadata": {},
   "outputs": [],
   "source": [
    "! git add NYTWA\\ April\\ 2022\\ Analysis.ipynb "
   ]
  },
  {
   "cell_type": "code",
   "execution_count": 50,
   "id": "ba0b7cd5",
   "metadata": {},
   "outputs": [
    {
     "name": "stdout",
     "output_type": "stream",
     "text": [
      "Enumerating objects: 5, done.\n",
      "Counting objects: 100% (5/5), done.\n",
      "Delta compression using up to 4 threads\n",
      "Compressing objects: 100% (3/3), done.\n",
      "Writing objects: 100% (3/3), 1.29 KiB | 1.29 MiB/s, done.\n",
      "Total 3 (delta 2), reused 0 (delta 0), pack-reused 0\n",
      "remote: Resolving deltas: 100% (2/2), completed with 2 local objects.\u001b[K\n",
      "To https://github.com/vivekr98/NYTWA.git\n",
      "   65763b1..6c3d8cc  main -> main\n"
     ]
    }
   ],
   "source": [
    "! git push --force"
   ]
  },
  {
   "cell_type": "code",
   "execution_count": null,
   "id": "0a927855",
   "metadata": {},
   "outputs": [],
   "source": []
  }
 ],
 "metadata": {
  "kernelspec": {
   "display_name": "Python 3 (ipykernel)",
   "language": "python",
   "name": "python3"
  },
  "language_info": {
   "codemirror_mode": {
    "name": "ipython",
    "version": 3
   },
   "file_extension": ".py",
   "mimetype": "text/x-python",
   "name": "python",
   "nbconvert_exporter": "python",
   "pygments_lexer": "ipython3",
   "version": "3.10.2"
  }
 },
 "nbformat": 4,
 "nbformat_minor": 5
}
