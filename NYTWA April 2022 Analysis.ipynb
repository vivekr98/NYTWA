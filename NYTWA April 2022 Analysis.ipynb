{
 "cells": [
  {
   "cell_type": "code",
   "execution_count": 7,
   "id": "1b155e4b",
   "metadata": {},
   "outputs": [],
   "source": [
    "import numpy as np\n",
    "import pandas as pd\n",
    "import pyarrow as pa\n",
    "import pyarrow.parquet as pq"
   ]
  },
  {
   "cell_type": "code",
   "execution_count": 25,
   "id": "c3f0757f",
   "metadata": {},
   "outputs": [],
   "source": [
    "pd.set_option('display.float_format', lambda x: '%.5f' % x)\n"
   ]
  },
  {
   "cell_type": "code",
   "execution_count": 13,
   "id": "40ea1f1a",
   "metadata": {},
   "outputs": [],
   "source": [
    "rides = pq.read_table(\"fhvhv_tripdata_2022-04.parquet\", memory_map=True).to_pandas()\n"
   ]
  },
  {
   "cell_type": "code",
   "execution_count": 14,
   "id": "611d416c",
   "metadata": {},
   "outputs": [
    {
     "data": {
      "text/html": [
       "<div>\n",
       "<style scoped>\n",
       "    .dataframe tbody tr th:only-of-type {\n",
       "        vertical-align: middle;\n",
       "    }\n",
       "\n",
       "    .dataframe tbody tr th {\n",
       "        vertical-align: top;\n",
       "    }\n",
       "\n",
       "    .dataframe thead th {\n",
       "        text-align: right;\n",
       "    }\n",
       "</style>\n",
       "<table border=\"1\" class=\"dataframe\">\n",
       "  <thead>\n",
       "    <tr style=\"text-align: right;\">\n",
       "      <th></th>\n",
       "      <th>hvfhs_license_num</th>\n",
       "      <th>dispatching_base_num</th>\n",
       "      <th>originating_base_num</th>\n",
       "      <th>request_datetime</th>\n",
       "      <th>on_scene_datetime</th>\n",
       "      <th>pickup_datetime</th>\n",
       "      <th>dropoff_datetime</th>\n",
       "      <th>PULocationID</th>\n",
       "      <th>DOLocationID</th>\n",
       "      <th>trip_miles</th>\n",
       "      <th>...</th>\n",
       "      <th>sales_tax</th>\n",
       "      <th>congestion_surcharge</th>\n",
       "      <th>airport_fee</th>\n",
       "      <th>tips</th>\n",
       "      <th>driver_pay</th>\n",
       "      <th>shared_request_flag</th>\n",
       "      <th>shared_match_flag</th>\n",
       "      <th>access_a_ride_flag</th>\n",
       "      <th>wav_request_flag</th>\n",
       "      <th>wav_match_flag</th>\n",
       "    </tr>\n",
       "  </thead>\n",
       "  <tbody>\n",
       "    <tr>\n",
       "      <th>0</th>\n",
       "      <td>HV0003</td>\n",
       "      <td>B03404</td>\n",
       "      <td>B03404</td>\n",
       "      <td>2022-04-01 00:18:10</td>\n",
       "      <td>2022-04-01 00:23:57</td>\n",
       "      <td>2022-04-01 00:24:06</td>\n",
       "      <td>2022-04-01 00:38:16</td>\n",
       "      <td>230</td>\n",
       "      <td>137</td>\n",
       "      <td>2.63</td>\n",
       "      <td>...</td>\n",
       "      <td>1.37</td>\n",
       "      <td>2.75</td>\n",
       "      <td>0.0</td>\n",
       "      <td>0.0</td>\n",
       "      <td>12.43</td>\n",
       "      <td>N</td>\n",
       "      <td>N</td>\n",
       "      <td></td>\n",
       "      <td>N</td>\n",
       "      <td>N</td>\n",
       "    </tr>\n",
       "    <tr>\n",
       "      <th>1</th>\n",
       "      <td>HV0003</td>\n",
       "      <td>B03404</td>\n",
       "      <td>B03404</td>\n",
       "      <td>2022-04-01 00:40:52</td>\n",
       "      <td>2022-04-01 00:42:09</td>\n",
       "      <td>2022-04-01 00:44:10</td>\n",
       "      <td>2022-04-01 00:51:41</td>\n",
       "      <td>170</td>\n",
       "      <td>237</td>\n",
       "      <td>2.02</td>\n",
       "      <td>...</td>\n",
       "      <td>1.03</td>\n",
       "      <td>2.75</td>\n",
       "      <td>0.0</td>\n",
       "      <td>0.0</td>\n",
       "      <td>8.23</td>\n",
       "      <td>N</td>\n",
       "      <td>N</td>\n",
       "      <td></td>\n",
       "      <td>N</td>\n",
       "      <td>N</td>\n",
       "    </tr>\n",
       "    <tr>\n",
       "      <th>2</th>\n",
       "      <td>HV0003</td>\n",
       "      <td>B03404</td>\n",
       "      <td>B03404</td>\n",
       "      <td>2022-04-01 00:53:46</td>\n",
       "      <td>2022-04-01 00:56:21</td>\n",
       "      <td>2022-04-01 00:56:31</td>\n",
       "      <td>2022-04-01 01:01:55</td>\n",
       "      <td>237</td>\n",
       "      <td>141</td>\n",
       "      <td>0.73</td>\n",
       "      <td>...</td>\n",
       "      <td>0.69</td>\n",
       "      <td>2.75</td>\n",
       "      <td>0.0</td>\n",
       "      <td>1.0</td>\n",
       "      <td>7.29</td>\n",
       "      <td>N</td>\n",
       "      <td>N</td>\n",
       "      <td></td>\n",
       "      <td>N</td>\n",
       "      <td>N</td>\n",
       "    </tr>\n",
       "    <tr>\n",
       "      <th>3</th>\n",
       "      <td>HV0003</td>\n",
       "      <td>B03404</td>\n",
       "      <td>B03404</td>\n",
       "      <td>2022-04-01 00:03:24</td>\n",
       "      <td>2022-04-01 00:06:03</td>\n",
       "      <td>2022-04-01 00:06:30</td>\n",
       "      <td>2022-04-01 00:13:39</td>\n",
       "      <td>198</td>\n",
       "      <td>198</td>\n",
       "      <td>1.10</td>\n",
       "      <td>...</td>\n",
       "      <td>0.73</td>\n",
       "      <td>0.00</td>\n",
       "      <td>0.0</td>\n",
       "      <td>0.0</td>\n",
       "      <td>6.78</td>\n",
       "      <td>N</td>\n",
       "      <td>N</td>\n",
       "      <td></td>\n",
       "      <td>N</td>\n",
       "      <td>N</td>\n",
       "    </tr>\n",
       "    <tr>\n",
       "      <th>4</th>\n",
       "      <td>HV0003</td>\n",
       "      <td>B03404</td>\n",
       "      <td>B03404</td>\n",
       "      <td>2022-04-01 00:13:38</td>\n",
       "      <td>2022-04-01 00:19:27</td>\n",
       "      <td>2022-04-01 00:21:11</td>\n",
       "      <td>2022-04-01 00:32:11</td>\n",
       "      <td>36</td>\n",
       "      <td>177</td>\n",
       "      <td>1.55</td>\n",
       "      <td>...</td>\n",
       "      <td>0.99</td>\n",
       "      <td>0.00</td>\n",
       "      <td>0.0</td>\n",
       "      <td>0.0</td>\n",
       "      <td>9.00</td>\n",
       "      <td>N</td>\n",
       "      <td>N</td>\n",
       "      <td></td>\n",
       "      <td>N</td>\n",
       "      <td>N</td>\n",
       "    </tr>\n",
       "  </tbody>\n",
       "</table>\n",
       "<p>5 rows × 24 columns</p>\n",
       "</div>"
      ],
      "text/plain": [
       "  hvfhs_license_num dispatching_base_num originating_base_num  \\\n",
       "0            HV0003               B03404               B03404   \n",
       "1            HV0003               B03404               B03404   \n",
       "2            HV0003               B03404               B03404   \n",
       "3            HV0003               B03404               B03404   \n",
       "4            HV0003               B03404               B03404   \n",
       "\n",
       "     request_datetime   on_scene_datetime     pickup_datetime  \\\n",
       "0 2022-04-01 00:18:10 2022-04-01 00:23:57 2022-04-01 00:24:06   \n",
       "1 2022-04-01 00:40:52 2022-04-01 00:42:09 2022-04-01 00:44:10   \n",
       "2 2022-04-01 00:53:46 2022-04-01 00:56:21 2022-04-01 00:56:31   \n",
       "3 2022-04-01 00:03:24 2022-04-01 00:06:03 2022-04-01 00:06:30   \n",
       "4 2022-04-01 00:13:38 2022-04-01 00:19:27 2022-04-01 00:21:11   \n",
       "\n",
       "     dropoff_datetime  PULocationID  DOLocationID  trip_miles  ...  sales_tax  \\\n",
       "0 2022-04-01 00:38:16           230           137        2.63  ...       1.37   \n",
       "1 2022-04-01 00:51:41           170           237        2.02  ...       1.03   \n",
       "2 2022-04-01 01:01:55           237           141        0.73  ...       0.69   \n",
       "3 2022-04-01 00:13:39           198           198        1.10  ...       0.73   \n",
       "4 2022-04-01 00:32:11            36           177        1.55  ...       0.99   \n",
       "\n",
       "   congestion_surcharge  airport_fee  tips  driver_pay  shared_request_flag  \\\n",
       "0                  2.75          0.0   0.0       12.43                    N   \n",
       "1                  2.75          0.0   0.0        8.23                    N   \n",
       "2                  2.75          0.0   1.0        7.29                    N   \n",
       "3                  0.00          0.0   0.0        6.78                    N   \n",
       "4                  0.00          0.0   0.0        9.00                    N   \n",
       "\n",
       "   shared_match_flag  access_a_ride_flag  wav_request_flag wav_match_flag  \n",
       "0                  N                                     N              N  \n",
       "1                  N                                     N              N  \n",
       "2                  N                                     N              N  \n",
       "3                  N                                     N              N  \n",
       "4                  N                                     N              N  \n",
       "\n",
       "[5 rows x 24 columns]"
      ]
     },
     "execution_count": 14,
     "metadata": {},
     "output_type": "execute_result"
    }
   ],
   "source": [
    "rides.head()"
   ]
  },
  {
   "cell_type": "code",
   "execution_count": 15,
   "id": "1e3edc5a",
   "metadata": {},
   "outputs": [],
   "source": [
    "rides['min_rate'] = rides.trip_miles*1.161 + (rides.trip_time/60)*.529"
   ]
  },
  {
   "cell_type": "code",
   "execution_count": 31,
   "id": "c01c6f42",
   "metadata": {},
   "outputs": [],
   "source": [
    "rides['commission'] = rides.base_passenger_fare - rides.driver_pay"
   ]
  },
  {
   "cell_type": "code",
   "execution_count": null,
   "id": "3a854f2d",
   "metadata": {},
   "outputs": [],
   "source": [
    "rides['perc_commission'] = rides.driver_pay / rides.base_passenger_fare"
   ]
  },
  {
   "cell_type": "code",
   "execution_count": 28,
   "id": "c8f95790",
   "metadata": {},
   "outputs": [],
   "source": [
    "rides['perc_over_min_rate'] = (rides.driver_pay - rides.min_rate)/rides.min_rate"
   ]
  },
  {
   "cell_type": "code",
   "execution_count": 17,
   "id": "f552055c",
   "metadata": {},
   "outputs": [],
   "source": [
    "bad_trip = rides[rides.min_rate > rides.driver_pay] "
   ]
  },
  {
   "cell_type": "code",
   "execution_count": null,
   "id": "9309b2e9",
   "metadata": {},
   "outputs": [],
   "source": []
  },
  {
   "cell_type": "code",
   "execution_count": 22,
   "id": "c86c15ac",
   "metadata": {},
   "outputs": [
    {
     "name": "stdout",
     "output_type": "stream",
     "text": [
      "17752561 684940 0.0385826022510217\n"
     ]
    }
   ],
   "source": [
    "print(len(rides), len(bad_trip), len(bad_trip)/len(rides))\n",
    "\n"
   ]
  },
  {
   "cell_type": "code",
   "execution_count": 26,
   "id": "f0c63a58",
   "metadata": {},
   "outputs": [
    {
     "data": {
      "text/plain": [
       "count   17752561.00000\n",
       "mean          19.02645\n",
       "std           15.30752\n",
       "min          -17.78000\n",
       "25%            9.07000\n",
       "50%           14.81000\n",
       "75%           23.92000\n",
       "max         2053.10000\n",
       "Name: driver_pay, dtype: float64"
      ]
     },
     "execution_count": 26,
     "metadata": {},
     "output_type": "execute_result"
    }
   ],
   "source": [
    "rides.driver_pay.describe()"
   ]
  },
  {
   "cell_type": "code",
   "execution_count": 27,
   "id": "8be586ff",
   "metadata": {},
   "outputs": [
    {
     "data": {
      "text/plain": [
       "count   17752561.00000\n",
       "mean          24.06397\n",
       "std           19.49136\n",
       "min         -510.82000\n",
       "25%           11.87000\n",
       "50%           18.83000\n",
       "75%           29.76000\n",
       "max         3732.90000\n",
       "Name: base_passenger_fare, dtype: float64"
      ]
     },
     "execution_count": 27,
     "metadata": {},
     "output_type": "execute_result"
    }
   ],
   "source": [
    "rides.base_passenger_fare.describe()"
   ]
  },
  {
   "cell_type": "raw",
   "id": "877a4b8c",
   "metadata": {},
   "source": []
  },
  {
   "cell_type": "code",
   "execution_count": 29,
   "id": "b6536685",
   "metadata": {},
   "outputs": [
    {
     "data": {
      "text/plain": [
       "count   17752561.00000\n",
       "mean               inf\n",
       "std                NaN\n",
       "min           -1.23466\n",
       "25%            0.00492\n",
       "50%            0.08630\n",
       "75%            0.31782\n",
       "max                inf\n",
       "Name: perc_over_min_rate, dtype: float64"
      ]
     },
     "execution_count": 29,
     "metadata": {},
     "output_type": "execute_result"
    }
   ],
   "source": [
    "rides.perc_over_min_rate.describe()"
   ]
  },
  {
   "cell_type": "code",
   "execution_count": 32,
   "id": "bdaa30b2",
   "metadata": {},
   "outputs": [
    {
     "data": {
      "text/plain": [
       "count   17752561.00000\n",
       "mean           5.03752\n",
       "std            7.19563\n",
       "min        -2083.61000\n",
       "25%            1.80000\n",
       "50%            3.76000\n",
       "75%            6.89000\n",
       "max         1679.80000\n",
       "Name: commission, dtype: float64"
      ]
     },
     "execution_count": 32,
     "metadata": {},
     "output_type": "execute_result"
    }
   ],
   "source": [
    "rides.commission.describe()"
   ]
  },
  {
   "cell_type": "code",
   "execution_count": null,
   "id": "a0cef817",
   "metadata": {},
   "outputs": [],
   "source": [
    "print(\"hello\")"
   ]
  }
 ],
 "metadata": {
  "kernelspec": {
   "display_name": "Python 3 (ipykernel)",
   "language": "python",
   "name": "python3"
  },
  "language_info": {
   "codemirror_mode": {
    "name": "ipython",
    "version": 3
   },
   "file_extension": ".py",
   "mimetype": "text/x-python",
   "name": "python",
   "nbconvert_exporter": "python",
   "pygments_lexer": "ipython3",
   "version": "3.10.2"
  }
 },
 "nbformat": 4,
 "nbformat_minor": 5
}
