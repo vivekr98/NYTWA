{
 "cells": [
  {
   "cell_type": "code",
   "execution_count": 9,
   "id": "1b155e4b",
   "metadata": {},
   "outputs": [],
   "source": [
    "import numpy as np\n",
    "import pandas as pd\n",
    "import pyarrow as pa\n",
    "import pyarrow.parquet as pq\n",
    "import statsmodels.formula.api as sm"
   ]
  },
  {
   "cell_type": "code",
   "execution_count": 10,
   "id": "c3f0757f",
   "metadata": {},
   "outputs": [],
   "source": [
    "pd.set_option('display.float_format', lambda x: '%.5f' % x)\n"
   ]
  },
  {
   "cell_type": "code",
   "execution_count": 14,
   "id": "40ea1f1a",
   "metadata": {},
   "outputs": [],
   "source": [
    "rides = pq.read_table(\"fhvhv_tripdata_2022-04.parquet\", memory_map=True).to_pandas()\n"
   ]
  },
  {
   "cell_type": "code",
   "execution_count": 19,
   "id": "c01c6f42",
   "metadata": {},
   "outputs": [],
   "source": [
    "rides['commission'] = rides.base_passenger_fare - rides.driver_pay"
   ]
  },
  {
   "cell_type": "code",
   "execution_count": 20,
   "id": "1e3edc5a",
   "metadata": {},
   "outputs": [],
   "source": [
    "rides['min_rate'] = rides.trip_miles*1.161 + (rides.trip_time/60)*.529"
   ]
  },
  {
   "cell_type": "code",
   "execution_count": 21,
   "id": "3a854f2d",
   "metadata": {},
   "outputs": [],
   "source": [
    "rides['perc_commission'] = rides.driver_pay / rides.base_passenger_fare"
   ]
  },
  {
   "cell_type": "code",
   "execution_count": 22,
   "id": "c8f95790",
   "metadata": {},
   "outputs": [],
   "source": [
    "rides['perc_over_min_rate'] = (rides.driver_pay - rides.min_rate)/rides.min_rate"
   ]
  },
  {
   "cell_type": "code",
   "execution_count": null,
   "id": "9309b2e9",
   "metadata": {},
   "outputs": [],
   "source": []
  },
  {
   "cell_type": "code",
   "execution_count": null,
   "id": "6bf3c2a2",
   "metadata": {},
   "outputs": [],
   "source": []
  },
  {
   "cell_type": "markdown",
   "id": "bd00a710",
   "metadata": {},
   "source": [
    "# **NYTWA FHV Data - April 2022**"
   ]
  },
  {
   "cell_type": "markdown",
   "id": "e9f06197",
   "metadata": {},
   "source": [
    "### Methodology"
   ]
  },
  {
   "cell_type": "markdown",
   "id": "5a56dcd8",
   "metadata": {},
   "source": [
    "The following data is taken from NYC TLC's FHV trip database. Data contains every ride taken in both February 2019 and April 2022. To clean the dataset, driver pay rates and passenger fares less than or equal to 0.01 were dropped. Trips that are listed as below 0 miles or 0 seconds long were also removed. The following displays the remaining total number of rides in the dataset for Feb 2019 and April 2022, respectively:"
   ]
  },
  {
   "cell_type": "code",
   "execution_count": 42,
   "id": "fcbe5af4",
   "metadata": {},
   "outputs": [
    {
     "name": "stdout",
     "output_type": "stream",
     "text": [
      "Number of rides:  17752561\n"
     ]
    }
   ],
   "source": [
    "print(\"Number of rides: \", len(rides))"
   ]
  },
  {
   "cell_type": "markdown",
   "id": "459b3f6e",
   "metadata": {},
   "source": [
    "### Driver Pay"
   ]
  },
  {
   "cell_type": "markdown",
   "id": "eacc9d4c",
   "metadata": {},
   "source": [
    "The following distributions describe the data in terms of total driver pay per ride:"
   ]
  },
  {
   "cell_type": "code",
   "execution_count": null,
   "id": "9c9e8d25",
   "metadata": {},
   "outputs": [],
   "source": [
    "rides.driver_pay.describe()"
   ]
  },
  {
   "cell_type": "code",
   "execution_count": null,
   "id": "f35bd21b",
   "metadata": {},
   "outputs": [],
   "source": [
    "placeholder for 2019"
   ]
  },
  {
   "cell_type": "code",
   "execution_count": null,
   "id": "19db03f1",
   "metadata": {},
   "outputs": [],
   "source": []
  },
  {
   "cell_type": "markdown",
   "id": "4889dddf",
   "metadata": {},
   "source": [
    "The following shows the distribution of trips in terms of percentage of driver earnings over the minimum required rate for the trip. This is a bit of a confusing statistic. For example, in 25% of trips in April 2022, drivers earned less than __ % over the minimum required rate for the trip."
   ]
  },
  {
   "cell_type": "code",
   "execution_count": null,
   "id": "2866a965",
   "metadata": {},
   "outputs": [],
   "source": [
    "rides.perc_over_min_rate.describe()"
   ]
  },
  {
   "cell_type": "code",
   "execution_count": null,
   "id": "ae636fd7",
   "metadata": {},
   "outputs": [],
   "source": [
    "print(\"in \", len(rides[rides.perc_over_min_rate > 0.05])/len(rides), \"% of rides the driver earned more than 5% of the minimum rate\""
   ]
  },
  {
   "cell_type": "markdown",
   "id": "404dee4f",
   "metadata": {},
   "source": [
    "The following shows the percentage of trips where the driver was paid over 20% of the minimum required rate for the trip"
   ]
  },
  {
   "cell_type": "code",
   "execution_count": null,
   "id": "f53a85ea",
   "metadata": {},
   "outputs": [],
   "source": [
    "num_rides_over_20_perc/len(rides)"
   ]
  },
  {
   "cell_type": "code",
   "execution_count": null,
   "id": "07057aaa",
   "metadata": {},
   "outputs": [],
   "source": []
  },
  {
   "cell_type": "markdown",
   "id": "9b70a75d",
   "metadata": {},
   "source": [
    "The distribution of driver pay for trips where the driver was paid over 20% of the minimum required rate for the trip"
   ]
  },
  {
   "cell_type": "code",
   "execution_count": null,
   "id": "b91e6ef1",
   "metadata": {},
   "outputs": [],
   "source": [
    "rides[rides.perc_over_min_rate > .2].driver_pay.describe()"
   ]
  },
  {
   "cell_type": "code",
   "execution_count": null,
   "id": "89c5422e",
   "metadata": {},
   "outputs": [],
   "source": []
  },
  {
   "cell_type": "markdown",
   "id": "10e55a8f",
   "metadata": {},
   "source": [
    "### Consumer Pricing"
   ]
  },
  {
   "cell_type": "markdown",
   "id": "2691d170",
   "metadata": {},
   "source": [
    "The following shows the distribution of base passenger fare by ride:"
   ]
  },
  {
   "cell_type": "code",
   "execution_count": null,
   "id": "e09b2e25",
   "metadata": {},
   "outputs": [],
   "source": [
    "rides.base_passenger_fare.describe()"
   ]
  },
  {
   "cell_type": "code",
   "execution_count": null,
   "id": "33bf2e20",
   "metadata": {},
   "outputs": [],
   "source": []
  },
  {
   "cell_type": "markdown",
   "id": "12fd2842",
   "metadata": {},
   "source": [
    "Changes in unit pricing: The following shows cost of 1 additional mile and 1 additional minute, respectively, on the passenger fare. "
   ]
  },
  {
   "cell_type": "code",
   "execution_count": null,
   "id": "eaa6862e",
   "metadata": {},
   "outputs": [],
   "source": [
    "result = sm.ols(formula=\"base_passenger_fare ~ trip_miles + trip_time\", data=rides).fit()\n",
    "print(result.params)"
   ]
  },
  {
   "cell_type": "code",
   "execution_count": 44,
   "id": "49cb0f51",
   "metadata": {},
   "outputs": [
    {
     "name": "stdout",
     "output_type": "stream",
     "text": [
      "On branch main\r\n",
      "Your branch is ahead of 'origin/main' by 3 commits.\r\n",
      "  (use \"git push\" to publish your local commits)\r\n",
      "\r\n",
      "Changes not staged for commit:\r\n",
      "  (use \"git add <file>...\" to update what will be committed)\r\n",
      "  (use \"git restore <file>...\" to discard changes in working directory)\r\n",
      "\t\u001b[31mmodified:   NYTWA April 2022 Analysis.ipynb\u001b[m\r\n",
      "\r\n",
      "Untracked files:\r\n",
      "  (use \"git add <file>...\" to include in what will be committed)\r\n",
      "\t\u001b[31m.ipynb_checkpoints/\u001b[m\r\n",
      "\t\u001b[31mfhvhv_tripdata_2022-04.parquet\u001b[m\r\n",
      "\r\n",
      "no changes added to commit (use \"git add\" and/or \"git commit -a\")\r\n"
     ]
    }
   ],
   "source": [
    "! git commit -m \"make this into markdown\""
   ]
  },
  {
   "cell_type": "code",
   "execution_count": null,
   "id": "4713bb6c",
   "metadata": {},
   "outputs": [],
   "source": []
  }
 ],
 "metadata": {
  "kernelspec": {
   "display_name": "Python 3 (ipykernel)",
   "language": "python",
   "name": "python3"
  },
  "language_info": {
   "codemirror_mode": {
    "name": "ipython",
    "version": 3
   },
   "file_extension": ".py",
   "mimetype": "text/x-python",
   "name": "python",
   "nbconvert_exporter": "python",
   "pygments_lexer": "ipython3",
   "version": "3.10.2"
  }
 },
 "nbformat": 4,
 "nbformat_minor": 5
}
