{
 "cells": [
  {
   "cell_type": "code",
   "execution_count": 1,
   "id": "e459391a",
   "metadata": {},
   "outputs": [],
   "source": [
    "import numpy as np\n",
    "import pandas as pd\n",
    "import pyarrow as pa\n",
    "import pyarrow.parquet as pq\n",
    "import statsmodels.formula.api as sm\n",
    "import matplotlib.pyplot as plt\n",
    "import matplotlib.ticker\n",
    "\n",
    "pd.set_option('display.float_format', lambda x: '%.5f' % x)\n"
   ]
  },
  {
   "cell_type": "code",
   "execution_count": 2,
   "id": "4df46f4a",
   "metadata": {},
   "outputs": [],
   "source": [
    "#CONSTANTS\n",
    "\n",
    "# to do: change the rates so that there are company specific values as well (for 2019, need Via rates), maybe store in a dataframe\n",
    "\n",
    "NON_WAV_PER_MILE_22 = 1.161\n",
    "NON_WAV_PER_MIN_22 = 0.529\n",
    "\n",
    "WAV_PER_MILE_22 = 1.504\n",
    "WAV_PER_MIN_22 = 0.529\n",
    "\n",
    "OUT_CITY_NON_WAV_PER_MILE_22 = 1.348\n",
    "OUT_CITY_WAV_PER_MILE_22 = 1.746\n",
    "OUT_CITY_PER_MIN_22 = 0.613\n",
    "\n",
    "\n",
    "NON_WAV_PER_MILE_19 = 1.088\n",
    "NON_WAV_PER_MIN_19 = 0.495\n",
    "\n",
    "WAV_PER_MILE_19 = 1.410\n",
    "WAV_PER_MIN_19 = 0.495\n",
    "\n",
    "OUT_CITY_NON_WAV_PER_MILE_19 = 1.262\n",
    "OUT_CITY_WAV_PER_MILE_19 = 1.636\n",
    "OUT_CITY_PER_MIN_19 = 0.574\n",
    "\n",
    "JUNO = \"HV0002\"\n",
    "UBER = \"HV0003\"\n",
    "VIA = \"HV0004\"\n",
    "LYFT = \"HV0005\""
   ]
  },
  {
   "cell_type": "markdown",
   "id": "2f4a1225",
   "metadata": {},
   "source": [
    "# 2019 (not adjusted)"
   ]
  },
  {
   "cell_type": "code",
   "execution_count": 3,
   "id": "6f00c597",
   "metadata": {},
   "outputs": [],
   "source": [
    "# Import Cleaned Data\n",
    "\n",
    "rides2019 = pq.read_table(\"../Aya_NYTWA/Data/february_2019_cleaned.parquet\", memory_map=True).to_pandas()"
   ]
  },
  {
   "cell_type": "code",
   "execution_count": 4,
   "id": "d02985f3",
   "metadata": {},
   "outputs": [],
   "source": [
    "# Create minimum rates 2019 based on WAV and Out of City Conditions\n",
    "\n",
    "conditions2019 = [\n",
    "    (rides2019['wav_match_flag'] == 'N') & (rides2019['out_of_city'] == False),\n",
    "    (rides2019['wav_match_flag'] == 'Y') & (rides2019['out_of_city'] == False),\n",
    "    (rides2019['wav_match_flag'] == 'N') & (rides2019['out_of_city'] == True),\n",
    "    (rides2019['wav_match_flag'] == 'Y') & (rides2019['out_of_city'] == True)]\n",
    "\n",
    "choices2019 = [rides2019.trip_miles*NON_WAV_PER_MILE_19 + (rides2019.trip_time/60)*NON_WAV_PER_MIN_19,\n",
    "              rides2019.trip_miles*WAV_PER_MILE_19 + (rides2019.trip_time/60)*WAV_PER_MIN_19,\n",
    "              rides2019.trip_miles*OUT_CITY_NON_WAV_PER_MILE_19 + (rides2019.trip_time/60)*OUT_CITY_PER_MIN_19,\n",
    "              rides2019.trip_miles*OUT_CITY_WAV_PER_MILE_19 + (rides2019.trip_time/60)*OUT_CITY_PER_MIN_19]\n",
    "\n",
    "rides2019['min_rate'] = np.select(conditions2019, choices2019, default=rides2019.trip_miles*NON_WAV_PER_MILE_19 + (rides2019.trip_time/60)*NON_WAV_PER_MIN_19)\n",
    "\n"
   ]
  },
  {
   "cell_type": "markdown",
   "id": "44e3205c",
   "metadata": {},
   "source": [
    "## Driver pay analysis"
   ]
  },
  {
   "cell_type": "markdown",
   "id": "3ad1c94e",
   "metadata": {},
   "source": [
    "#### Distribution of driver pay"
   ]
  },
  {
   "cell_type": "code",
   "execution_count": null,
   "id": "bc36e7c3",
   "metadata": {},
   "outputs": [],
   "source": [
    "# Total driver pay across all rides\n",
    "\n",
    "rides2019['driver_pay'].sum()    "
   ]
  },
  {
   "cell_type": "code",
   "execution_count": 5,
   "id": "251d956d",
   "metadata": {},
   "outputs": [],
   "source": [
    "# Create variable for dollar amount of driver pay over min rate\n",
    "\n",
    "rides2019['over_min_rate'] = (rides2019.driver_pay - rides2019.min_rate)"
   ]
  },
  {
   "cell_type": "code",
   "execution_count": 6,
   "id": "42d6bd72",
   "metadata": {},
   "outputs": [],
   "source": [
    "# Create variable for percentage of driver pay over min rate\n",
    "\n",
    "rides2019['perc_over_min_rate'] = (rides2019.over_min_rate/rides2019.min_rate)"
   ]
  },
  {
   "cell_type": "code",
   "execution_count": 7,
   "id": "29f63ce6",
   "metadata": {},
   "outputs": [],
   "source": [
    "# Create rate of passenger fare, by mile and minute\n",
    "\n",
    "rides2019['passenger_fare_mile'] = rides2019.base_passenger_fare/rides2019.trip_miles\n",
    "rides2019['passenger_fare_min'] = rides2019.base_passenger_fare/(rides2019.trip_time/60)"
   ]
  },
  {
   "cell_type": "code",
   "execution_count": 8,
   "id": "abac5de9",
   "metadata": {},
   "outputs": [],
   "source": [
    "# Determine percent of trips that leave city \n",
    "# Drop Shared rides, out of town rides, and VIA rides\n",
    "\n",
    "rides2019 = rides2019.loc[rides2019['shared_match_flag'] == \"N\"]\n",
    "rides2019 = rides2019.loc[rides2019['hvfhs_license_num'] != VIA]\n",
    "rides2019 = rides2019.loc[rides2019['out_of_city'] == False]"
   ]
  },
  {
   "cell_type": "code",
   "execution_count": 9,
   "id": "6feeb072",
   "metadata": {},
   "outputs": [
    {
     "data": {
      "text/plain": [
       "count   14008641.00000\n",
       "mean          15.03863\n",
       "std           12.31794\n",
       "min            0.03000\n",
       "25%            6.88000\n",
       "50%           10.99000\n",
       "75%           18.40000\n",
       "max          708.63000\n",
       "Name: driver_pay, dtype: float64"
      ]
     },
     "execution_count": 9,
     "metadata": {},
     "output_type": "execute_result"
    }
   ],
   "source": [
    "rides2019.driver_pay.describe()\n"
   ]
  },
  {
   "cell_type": "code",
   "execution_count": 14,
   "id": "8479068c",
   "metadata": {},
   "outputs": [
    {
     "data": {
      "text/plain": [
       "count   14008641.00000\n",
       "mean          13.13266\n",
       "std           10.15241\n",
       "min            0.01913\n",
       "25%            6.16928\n",
       "50%           10.10461\n",
       "75%           16.85767\n",
       "max          433.25567\n",
       "Name: min_rate, dtype: float64"
      ]
     },
     "execution_count": 14,
     "metadata": {},
     "output_type": "execute_result"
    }
   ],
   "source": [
    "rides2019.min_rate.describe()"
   ]
  },
  {
   "cell_type": "markdown",
   "id": "f7804a2a",
   "metadata": {},
   "source": [
    "#### Distribution of percentage of driver earnings over the minimum required rate for the trip (In 2022 the bottom 25% of trips made less than 0.5% over the minimum rate, the top 25% of trips made at least 30% over the minimum rate, and the median percent made over the minimum rate was 7%)"
   ]
  },
  {
   "cell_type": "code",
   "execution_count": null,
   "id": "dbf4bdba",
   "metadata": {},
   "outputs": [],
   "source": [
    "rides2019.perc_over_min_rate.describe()"
   ]
  },
  {
   "cell_type": "code",
   "execution_count": null,
   "id": "0889a5b6",
   "metadata": {},
   "outputs": [],
   "source": [
    "test = rides2019[-.5 < rides2019[\"perc_over_min_rate\"] < 1][\"perc_over_min_rate\"]\n",
    "\n",
    "plt.hist(test, weights = np.ones(len(test))/len(test), bins = 30)"
   ]
  },
  {
   "cell_type": "code",
   "execution_count": null,
   "id": "92f590f2",
   "metadata": {},
   "outputs": [],
   "source": [
    "plt.show()"
   ]
  },
  {
   "cell_type": "markdown",
   "id": "0b3d4c9e",
   "metadata": {},
   "source": [
    "#### !! Percentage of rides where the driver made less than the minimum required rate"
   ]
  },
  {
   "cell_type": "code",
   "execution_count": null,
   "id": "33ce0dd3",
   "metadata": {},
   "outputs": [],
   "source": [
    "len(rides2019[rides2019.perc_over_min_rate < 0])/len(rides2019)"
   ]
  },
  {
   "cell_type": "markdown",
   "id": "5cd23352",
   "metadata": {},
   "source": [
    "#### !! Percentage of rides where the driver made 1% or less over the minimum required rate"
   ]
  },
  {
   "cell_type": "code",
   "execution_count": null,
   "id": "bd2d800d",
   "metadata": {},
   "outputs": [],
   "source": [
    "len(rides2019[rides2019.perc_over_min_rate <= 0.01])/len(rides2019)"
   ]
  },
  {
   "cell_type": "markdown",
   "id": "85b58e96",
   "metadata": {},
   "source": [
    "#### !! Percentage of rides where the driver made 10% or less over the minimum required rate"
   ]
  },
  {
   "cell_type": "code",
   "execution_count": null,
   "id": "d4a16ee0",
   "metadata": {},
   "outputs": [],
   "source": [
    "len(rides2019[rides2019.perc_over_min_rate <= 0.10])/len(rides2019)"
   ]
  },
  {
   "cell_type": "markdown",
   "id": "d2569189",
   "metadata": {},
   "source": [
    "#### !! Percentage of rides where the driver made 20% or less over the minimum required rate"
   ]
  },
  {
   "cell_type": "code",
   "execution_count": null,
   "id": "7f10738b",
   "metadata": {},
   "outputs": [],
   "source": [
    "len(rides2019[rides2019.perc_over_min_rate <= 0.20])/len(rides2019)"
   ]
  },
  {
   "cell_type": "markdown",
   "id": "56371b9c",
   "metadata": {},
   "source": [
    "#### Percentage of rides where the driver made more than 5% of the minimum required rate"
   ]
  },
  {
   "cell_type": "code",
   "execution_count": null,
   "id": "b2483f40",
   "metadata": {},
   "outputs": [],
   "source": [
    "len(rides2019[rides2019.perc_over_min_rate > 0.05])/len(rides2019)"
   ]
  },
  {
   "cell_type": "markdown",
   "id": "a7bae70c",
   "metadata": {},
   "source": [
    "#### Percentage of rides where the driver made more than 10% of the minimum required rate"
   ]
  },
  {
   "cell_type": "code",
   "execution_count": null,
   "id": "faaa186f",
   "metadata": {},
   "outputs": [],
   "source": [
    "len(rides2019[rides2019.perc_over_min_rate > 0.10])/len(rides2019)"
   ]
  },
  {
   "cell_type": "markdown",
   "id": "92eea3e4",
   "metadata": {},
   "source": [
    "#### Percentage of rides where the driver made more than 20% of the minimum required rate"
   ]
  },
  {
   "cell_type": "code",
   "execution_count": null,
   "id": "c7d46860",
   "metadata": {},
   "outputs": [],
   "source": [
    "len(rides2019[rides2019.perc_over_min_rate > 0.20])/len(rides2019)"
   ]
  },
  {
   "cell_type": "markdown",
   "id": "8d6c4b4a",
   "metadata": {},
   "source": [
    "#### Distribution of driver pay for rides where the driver made less than the minimum rate"
   ]
  },
  {
   "cell_type": "code",
   "execution_count": null,
   "id": "87e51093",
   "metadata": {
    "scrolled": true
   },
   "outputs": [],
   "source": [
    "rides2019[rides2019.perc_over_min_rate < 0].driver_pay.describe()"
   ]
  },
  {
   "cell_type": "markdown",
   "id": "8ae456e7",
   "metadata": {},
   "source": [
    "#### Distribution of underpayment for rides where the driver made less than the minimum rate"
   ]
  },
  {
   "cell_type": "code",
   "execution_count": null,
   "id": "4384a551",
   "metadata": {},
   "outputs": [],
   "source": [
    "rides2019[rides2019.perc_over_min_rate < 0].over_min_rate.describe()"
   ]
  },
  {
   "cell_type": "markdown",
   "id": "e73c45fd",
   "metadata": {},
   "source": [
    "#### Distribution of minimum rate (in dollars) for rides where the driver made less than minimum rate"
   ]
  },
  {
   "cell_type": "code",
   "execution_count": null,
   "id": "007ac701",
   "metadata": {},
   "outputs": [],
   "source": [
    "rides2019[rides2019.perc_over_min_rate < 0].min_rate.describe()"
   ]
  },
  {
   "cell_type": "markdown",
   "id": "e41bb9f9",
   "metadata": {},
   "source": [
    "#### Distribution of ride length for rides where the driver made less than minimum rate"
   ]
  },
  {
   "cell_type": "code",
   "execution_count": null,
   "id": "7e323a07",
   "metadata": {},
   "outputs": [],
   "source": [
    "rides2019[rides2019.perc_over_min_rate < 0].trip_miles.describe()"
   ]
  },
  {
   "cell_type": "markdown",
   "id": "1eefdddc",
   "metadata": {},
   "source": [
    "#### Distribution of driver pay for rides where the driver made over 20% of the minimum rate"
   ]
  },
  {
   "cell_type": "code",
   "execution_count": null,
   "id": "4bfc5cbe",
   "metadata": {},
   "outputs": [],
   "source": [
    "rides2019[rides2019.perc_over_min_rate > .2].driver_pay.describe()"
   ]
  },
  {
   "cell_type": "markdown",
   "id": "0295e9a4",
   "metadata": {},
   "source": [
    "#### Distribution of overage (in dollars) for rides where the driver made over 20% of the minimum rate"
   ]
  },
  {
   "cell_type": "code",
   "execution_count": null,
   "id": "ddafdff1",
   "metadata": {},
   "outputs": [],
   "source": [
    "rides2019[rides2019.perc_over_min_rate > .2][\"over_min_rate\"].describe()"
   ]
  },
  {
   "cell_type": "markdown",
   "id": "b88dc592",
   "metadata": {},
   "source": [
    "#### Distribution of minimum rate (in dollars) for rides where the driver made over 20% of the minimum rate"
   ]
  },
  {
   "cell_type": "code",
   "execution_count": null,
   "id": "9c7268b6",
   "metadata": {
    "scrolled": true
   },
   "outputs": [],
   "source": [
    "rides2019[rides2019.perc_over_min_rate > .2][\"min_rate\"].describe()"
   ]
  },
  {
   "cell_type": "markdown",
   "id": "5d77dbd0",
   "metadata": {},
   "source": [
    "#### !! Percent of trips where overage is more than \\$1"
   ]
  },
  {
   "cell_type": "code",
   "execution_count": null,
   "id": "4cd4da70",
   "metadata": {},
   "outputs": [],
   "source": [
    "len(rides2019[rides2019['over_min_rate'] > 1])/len(rides2019)"
   ]
  },
  {
   "cell_type": "markdown",
   "id": "4bcb1c82",
   "metadata": {},
   "source": [
    "#### !! Percent of trips where overage was \\$20 or more"
   ]
  },
  {
   "cell_type": "code",
   "execution_count": null,
   "id": "43bc868a",
   "metadata": {
    "scrolled": true
   },
   "outputs": [],
   "source": [
    "len(rides2019[rides2019['over_min_rate'] > 20])/len(rides2019)"
   ]
  },
  {
   "cell_type": "markdown",
   "id": "fd519ecd",
   "metadata": {},
   "source": [
    "#### !! Average overage of all trips in dollars"
   ]
  },
  {
   "cell_type": "code",
   "execution_count": null,
   "id": "8f38b157",
   "metadata": {},
   "outputs": [],
   "source": [
    "rides2019['over_min_rate'].describe()"
   ]
  },
  {
   "cell_type": "markdown",
   "id": "0f9eac43",
   "metadata": {},
   "source": [
    "#### !! Average overage of trips that were 10% or less over in dollars"
   ]
  },
  {
   "cell_type": "code",
   "execution_count": null,
   "id": "454d85f1",
   "metadata": {},
   "outputs": [],
   "source": [
    "rides2019[rides2019['perc_over_min_rate'] < .1]['over_min_rate'].describe()"
   ]
  },
  {
   "cell_type": "markdown",
   "id": "53fcc411",
   "metadata": {},
   "source": [
    "#### !! Average overage of all trips which are over pay rules in dollars"
   ]
  },
  {
   "cell_type": "code",
   "execution_count": null,
   "id": "8ea79fc6",
   "metadata": {},
   "outputs": [],
   "source": [
    "rides2019[rides2019['over_min_rate'] > 0]['over_min_rate'].describe()"
   ]
  },
  {
   "cell_type": "markdown",
   "id": "73891d05",
   "metadata": {},
   "source": [
    "## Passenger Fare Analysis"
   ]
  },
  {
   "cell_type": "code",
   "execution_count": null,
   "id": "bd12005c",
   "metadata": {},
   "outputs": [],
   "source": [
    "# Total passenger fare across all rides\n",
    "\n",
    "rides2019['base_passenger_fare'].sum()    "
   ]
  },
  {
   "cell_type": "code",
   "execution_count": null,
   "id": "cb60ebf7",
   "metadata": {},
   "outputs": [],
   "source": [
    "rides2019['passenger_fare_mile'] = rides2019.base_passenger_fare/rides2019.trip_miles\n",
    "rides2019['passenger_fare_min'] = rides2019.base_passenger_fare/(rides2019.trip_time/60)"
   ]
  },
  {
   "cell_type": "markdown",
   "id": "b1c70388",
   "metadata": {},
   "source": [
    "#### Distribution of passenger fare"
   ]
  },
  {
   "cell_type": "code",
   "execution_count": null,
   "id": "1cb09bd7",
   "metadata": {},
   "outputs": [],
   "source": [
    "rides2019.base_passenger_fare.describe()"
   ]
  },
  {
   "cell_type": "markdown",
   "id": "998aeaf8",
   "metadata": {},
   "source": [
    "#### Average fare per minute cost "
   ]
  },
  {
   "cell_type": "code",
   "execution_count": null,
   "id": "16dcf04b",
   "metadata": {},
   "outputs": [],
   "source": [
    "np.mean(rides2019['passenger_fare_min'])"
   ]
  },
  {
   "cell_type": "markdown",
   "id": "773736e7",
   "metadata": {},
   "source": [
    "#### Average fare per mile cost"
   ]
  },
  {
   "cell_type": "code",
   "execution_count": null,
   "id": "621456ac",
   "metadata": {},
   "outputs": [],
   "source": [
    "np.mean(rides2019['passenger_fare_mile'])"
   ]
  },
  {
   "cell_type": "markdown",
   "id": "53054526",
   "metadata": {},
   "source": [
    "#### Regression of minutes and miles by passenger fare (In 2022, each additional mile per trip increases the fare by 2.03 dollars and each additional minute per trip increases the fare by 0.47 dollars)\n",
    "\n"
   ]
  },
  {
   "cell_type": "code",
   "execution_count": null,
   "id": "0831cf93",
   "metadata": {},
   "outputs": [],
   "source": [
    "# convert trip time to minutes\n",
    "rides2019['trip_time_min'] = rides2019.trip_time/60"
   ]
  },
  {
   "cell_type": "code",
   "execution_count": null,
   "id": "51929c70",
   "metadata": {},
   "outputs": [],
   "source": [
    "result = sm.ols(formula=\"base_passenger_fare ~ trip_miles + trip_time_min\", data=rides2019).fit()\n",
    "print(result.params)"
   ]
  },
  {
   "cell_type": "markdown",
   "id": "83504304",
   "metadata": {},
   "source": [
    "## Drivers' earnings compared to passenger fare"
   ]
  },
  {
   "cell_type": "code",
   "execution_count": 10,
   "id": "11e8a247",
   "metadata": {},
   "outputs": [
    {
     "data": {
      "text/plain": [
       "count   14008641.00000\n",
       "mean           1.01184\n",
       "std            1.93883\n",
       "min            0.00046\n",
       "25%            0.76704\n",
       "50%            0.86162\n",
       "75%            1.05461\n",
       "max         1598.50000\n",
       "Name: perc_earnings_fare, dtype: float64"
      ]
     },
     "execution_count": 10,
     "metadata": {},
     "output_type": "execute_result"
    }
   ],
   "source": [
    "rides2019['perc_earnings_fare'] = rides2019[\"driver_pay\"]/rides2019[\"base_passenger_fare\"]\n",
    "\n",
    "rides2019[\"perc_earnings_fare\"].describe()"
   ]
  },
  {
   "cell_type": "code",
   "execution_count": 16,
   "id": "c011af1e",
   "metadata": {},
   "outputs": [
    {
     "data": {
      "text/plain": [
       "count   4148073.00000\n",
       "mean         15.90777\n",
       "std          13.67965\n",
       "min           0.47000\n",
       "25%           7.01000\n",
       "50%          11.11000\n",
       "75%          19.39000\n",
       "max         440.59000\n",
       "Name: driver_pay, dtype: float64"
      ]
     },
     "execution_count": 16,
     "metadata": {},
     "output_type": "execute_result"
    }
   ],
   "source": [
    "rides2019[rides2019[\"perc_earnings_fare\"] > 1][\"driver_pay\"].describe()"
   ]
  },
  {
   "cell_type": "code",
   "execution_count": 17,
   "id": "568cb922",
   "metadata": {},
   "outputs": [
    {
     "data": {
      "text/plain": [
       "count   9849992.00000\n",
       "mean         14.67533\n",
       "std          11.68090\n",
       "min           0.03000\n",
       "25%           6.82000\n",
       "50%          10.94000\n",
       "75%          18.08000\n",
       "max         708.63000\n",
       "Name: driver_pay, dtype: float64"
      ]
     },
     "execution_count": 17,
     "metadata": {},
     "output_type": "execute_result"
    }
   ],
   "source": [
    "rides2019[rides2019[\"perc_earnings_fare\"] < 1][\"driver_pay\"].describe()"
   ]
  },
  {
   "cell_type": "code",
   "execution_count": 12,
   "id": "a5ba251d",
   "metadata": {},
   "outputs": [
    {
     "data": {
      "text/plain": [
       "0.29610816638102155"
      ]
     },
     "execution_count": 12,
     "metadata": {},
     "output_type": "execute_result"
    }
   ],
   "source": [
    "len(rides2019[rides2019[\"perc_earnings_fare\"] > 1])/len(rides2019[\"perc_earnings_fare\"])"
   ]
  },
  {
   "cell_type": "markdown",
   "id": "70f853f8",
   "metadata": {},
   "source": [
    "# 2019 (adjusted)"
   ]
  },
  {
   "cell_type": "markdown",
   "id": "6e10588f",
   "metadata": {},
   "source": [
    "## Driver pay analysis"
   ]
  },
  {
   "cell_type": "code",
   "execution_count": null,
   "id": "5552d7a8",
   "metadata": {},
   "outputs": [],
   "source": [
    "# adjust 2019 data to 2022 dollar inflation rate\n",
    "\n",
    "rides2019['driver_pay_adj'] = rides2019.driver_pay * 1.159 #inflation rate between 2019 and 2022"
   ]
  },
  {
   "cell_type": "code",
   "execution_count": null,
   "id": "0b54775f",
   "metadata": {},
   "outputs": [],
   "source": [
    "# Total driver pay across all rides\n",
    "\n",
    "rides2019['driver_pay_adj'].sum()    "
   ]
  },
  {
   "cell_type": "code",
   "execution_count": null,
   "id": "bf0c1b32",
   "metadata": {},
   "outputs": [],
   "source": [
    "# Create dollar amount of min rate adjusted to inflation\n",
    "\n",
    "rides2019['min_rate_adj'] = rides2019.min_rate * 1.159"
   ]
  },
  {
   "cell_type": "code",
   "execution_count": null,
   "id": "946b9723",
   "metadata": {},
   "outputs": [],
   "source": [
    "# Create variable for dollar amount of driver pay over min rate\n",
    "\n",
    "rides2019['over_min_rate_adj'] = (rides2019.driver_pay_adj - rides2019.min_rate * 1.159)"
   ]
  },
  {
   "cell_type": "code",
   "execution_count": null,
   "id": "7551ad21",
   "metadata": {},
   "outputs": [],
   "source": [
    "# Create variable for percentage of driver pay over min rate\n",
    "\n",
    "rides2019['perc_over_min_rate_adj'] = (rides2019.over_min_rate_adj/(rides2019.min_rate * 1.159))"
   ]
  },
  {
   "cell_type": "code",
   "execution_count": null,
   "id": "e117ed18",
   "metadata": {},
   "outputs": [],
   "source": [
    "# Create rate of passenger fare, by mile and minute\n",
    "\n",
    "rides2019['passenger_fare_mile_adj'] = rides2019.base_passenger_fare * 1.159/rides2019.trip_miles\n",
    "rides2019['passenger_fare_min_adj'] = rides2019.base_passenger_fare * 1.159/(rides2019.trip_time/60)"
   ]
  },
  {
   "cell_type": "code",
   "execution_count": null,
   "id": "6fe64181",
   "metadata": {},
   "outputs": [],
   "source": [
    "# Determine percent of trips that leave city \n",
    "# Drop Shared rides, out of town rides, and VIA rides\n",
    "\n",
    "rides2019 = rides2019.loc[rides2019['shared_match_flag'] == \"N\"]\n",
    "rides2019 = rides2019.loc[rides2019['hvfhs_license_num'] != VIA]\n",
    "rides2019 = rides2019.loc[rides2019['out_of_city'] == False]"
   ]
  },
  {
   "cell_type": "code",
   "execution_count": null,
   "id": "a5d6b071",
   "metadata": {},
   "outputs": [],
   "source": [
    "rides2019.driver_pay_adj.describe()"
   ]
  },
  {
   "cell_type": "markdown",
   "id": "41d55fdf",
   "metadata": {},
   "source": [
    "#### Distribution of percentage of driver earnings over the minimum required rate for the trip (In 2022 the bottom 25% of trips made less than 0.5% over the minimum rate, the top 25% of trips made at least 30% over the minimum rate, and the median percent made over the minimum rate was 7%)"
   ]
  },
  {
   "cell_type": "code",
   "execution_count": null,
   "id": "0a8c84ca",
   "metadata": {},
   "outputs": [],
   "source": [
    "rides2019.perc_over_min_rate_adj.describe()"
   ]
  },
  {
   "cell_type": "markdown",
   "id": "df7876ba",
   "metadata": {},
   "source": [
    "#### !! Percentage of rides where the driver made less than the minimum required rate"
   ]
  },
  {
   "cell_type": "code",
   "execution_count": null,
   "id": "5e913349",
   "metadata": {},
   "outputs": [],
   "source": [
    "len(rides2019[rides2019.perc_over_min_rate_adj < 0])/len(rides2019)"
   ]
  },
  {
   "cell_type": "markdown",
   "id": "16e68b10",
   "metadata": {},
   "source": [
    "#### !! Percentage of rides where the driver made 1% or less over the minimum required rate"
   ]
  },
  {
   "cell_type": "code",
   "execution_count": null,
   "id": "25221fdc",
   "metadata": {},
   "outputs": [],
   "source": [
    "len(rides2019[rides2019.perc_over_min_rate_adj <= 0.01])/len(rides2019)"
   ]
  },
  {
   "cell_type": "markdown",
   "id": "d5363484",
   "metadata": {},
   "source": [
    "#### !! Percentage of rides where the driver made 10% or less over the minimum required rate"
   ]
  },
  {
   "cell_type": "code",
   "execution_count": null,
   "id": "a54998eb",
   "metadata": {},
   "outputs": [],
   "source": [
    "len(rides2019[rides2019.perc_over_min_rate_adj <= 0.10])/len(rides2019)"
   ]
  },
  {
   "cell_type": "markdown",
   "id": "77a708a0",
   "metadata": {},
   "source": [
    "#### Percentage of rides where the driver made more than 5% of the minimum required rate"
   ]
  },
  {
   "cell_type": "code",
   "execution_count": null,
   "id": "bbcbd152",
   "metadata": {},
   "outputs": [],
   "source": [
    "len(rides2019[rides2019.perc_over_min_rate_adj > 0.05])/len(rides2019)"
   ]
  },
  {
   "cell_type": "markdown",
   "id": "1c50b011",
   "metadata": {},
   "source": [
    "#### Percentage of rides where the driver made more than 10% of the minimum required rate"
   ]
  },
  {
   "cell_type": "code",
   "execution_count": null,
   "id": "d2962eb7",
   "metadata": {},
   "outputs": [],
   "source": [
    "len(rides2019[rides2019.perc_over_min_rate_adj > 0.10])/len(rides2019)"
   ]
  },
  {
   "cell_type": "markdown",
   "id": "ab6c840a",
   "metadata": {},
   "source": [
    "#### Percentage of rides where the driver made more than 20% of the minimum required rate"
   ]
  },
  {
   "cell_type": "code",
   "execution_count": null,
   "id": "b1aec3b9",
   "metadata": {},
   "outputs": [],
   "source": [
    "len(rides2019[rides2019.perc_over_min_rate_adj > 0.20])/len(rides2019)"
   ]
  },
  {
   "cell_type": "markdown",
   "id": "8b9e641b",
   "metadata": {},
   "source": [
    "#### Distribution of driver pay for rides where the driver made less than the minimum rate"
   ]
  },
  {
   "cell_type": "code",
   "execution_count": null,
   "id": "87e51093",
   "metadata": {
    "scrolled": true
   },
   "outputs": [],
   "source": [
    "rides2019[rides2019.perc_over_min_rate_adj < 0].driver_pay_adj.describe()"
   ]
  },
  {
   "cell_type": "markdown",
   "id": "8ae456e7",
   "metadata": {},
   "source": [
    "#### Distribution of underpayment for rides where the driver made less than the minimum rate"
   ]
  },
  {
   "cell_type": "code",
   "execution_count": null,
   "id": "4384a551",
   "metadata": {},
   "outputs": [],
   "source": [
    "rides2019[rides2019.perc_over_min_rate_adj < 0].over_min_rate_adj.describe()"
   ]
  },
  {
   "cell_type": "markdown",
   "id": "e73c45fd",
   "metadata": {},
   "source": [
    "#### Distribution of minimum rate (in dollars) for rides where the driver made less than minimum rate"
   ]
  },
  {
   "cell_type": "code",
   "execution_count": null,
   "id": "007ac701",
   "metadata": {},
   "outputs": [],
   "source": [
    "rides2019[rides2019.perc_over_min_rate_adj < 0].min_rate_adj.describe()"
   ]
  },
  {
   "cell_type": "markdown",
   "id": "daf6ec46",
   "metadata": {},
   "source": [
    "#### Distribution of ride length for rides where the driver made less than minimum rate"
   ]
  },
  {
   "cell_type": "code",
   "execution_count": null,
   "id": "4d5c47f3",
   "metadata": {},
   "outputs": [],
   "source": [
    "rides2019[rides2019.perc_over_min_rate_adj < 0].trip_miles.describe()"
   ]
  },
  {
   "cell_type": "markdown",
   "id": "1eefdddc",
   "metadata": {},
   "source": [
    "#### Distribution of driver pay for rides where the driver made over 20% of the minimum rate"
   ]
  },
  {
   "cell_type": "code",
   "execution_count": null,
   "id": "4bfc5cbe",
   "metadata": {},
   "outputs": [],
   "source": [
    "rides2019[rides2019.perc_over_min_rate_adj > .2].driver_pay_adj.describe()"
   ]
  },
  {
   "cell_type": "markdown",
   "id": "0295e9a4",
   "metadata": {},
   "source": [
    "#### Distribution of overage (in dollars) for rides where the driver made over 20% of the minimum rate"
   ]
  },
  {
   "cell_type": "code",
   "execution_count": null,
   "id": "ddafdff1",
   "metadata": {},
   "outputs": [],
   "source": [
    "rides2019[rides2019.perc_over_min_rate_adj > .2][\"over_min_rate_adj\"].describe()"
   ]
  },
  {
   "cell_type": "markdown",
   "id": "b88dc592",
   "metadata": {},
   "source": [
    "#### Distribution of minimum rate (in dollars) for rides where the driver made over 20% of the minimum rate"
   ]
  },
  {
   "cell_type": "code",
   "execution_count": null,
   "id": "9c7268b6",
   "metadata": {
    "scrolled": true
   },
   "outputs": [],
   "source": [
    "rides2019[rides2019.perc_over_min_rate > .2][\"min_rate_adj\"].describe()"
   ]
  },
  {
   "cell_type": "code",
   "execution_count": null,
   "id": "92529900",
   "metadata": {},
   "outputs": [],
   "source": []
  },
  {
   "cell_type": "markdown",
   "id": "a5fc69c2",
   "metadata": {},
   "source": [
    "#### Distribution of driver pay for rides where the driver made over 20% of the minimum rate (2022 dollars)"
   ]
  },
  {
   "cell_type": "code",
   "execution_count": null,
   "id": "2fd01f20",
   "metadata": {},
   "outputs": [],
   "source": [
    "rides2019[rides2019.perc_over_min_rate_adj > .2].driver_pay_adj.describe()"
   ]
  },
  {
   "cell_type": "markdown",
   "id": "a4b51c1a",
   "metadata": {},
   "source": [
    "#### !! Percent of trips where overage is more than \\$1"
   ]
  },
  {
   "cell_type": "code",
   "execution_count": null,
   "id": "219a3a0d",
   "metadata": {},
   "outputs": [],
   "source": [
    "len(rides2019[rides2019['over_min_rate_adj'] > 1])/len(rides2019)"
   ]
  },
  {
   "cell_type": "markdown",
   "id": "d1d26106",
   "metadata": {},
   "source": [
    "#### !! Percent of trips where overage was \\$20 or more"
   ]
  },
  {
   "cell_type": "code",
   "execution_count": null,
   "id": "a18d2f10",
   "metadata": {
    "scrolled": true
   },
   "outputs": [],
   "source": [
    "len(rides2019[rides2019['over_min_rate_adj'] > 20])/len(rides2019)"
   ]
  },
  {
   "cell_type": "markdown",
   "id": "6f83a8e8",
   "metadata": {},
   "source": [
    "#### !! Average overage of all trips in dollars"
   ]
  },
  {
   "cell_type": "code",
   "execution_count": null,
   "id": "83b59e5f",
   "metadata": {},
   "outputs": [],
   "source": [
    "rides2019['over_min_rate_adj'].describe()"
   ]
  },
  {
   "cell_type": "markdown",
   "id": "902c892a",
   "metadata": {},
   "source": [
    "#### !! Average overage of trips that were 10% or less over in dollars"
   ]
  },
  {
   "cell_type": "code",
   "execution_count": null,
   "id": "4fb17ad1",
   "metadata": {},
   "outputs": [],
   "source": [
    "rides2019[rides2019['perc_over_min_rate_adj'] < .1]['over_min_rate_adj'].describe()"
   ]
  },
  {
   "cell_type": "markdown",
   "id": "bc1c3876",
   "metadata": {},
   "source": [
    "#### !! Average overage of all trips which are over pay rules in dollars"
   ]
  },
  {
   "cell_type": "code",
   "execution_count": null,
   "id": "d795980a",
   "metadata": {
    "scrolled": true
   },
   "outputs": [],
   "source": [
    "rides2019[rides2019['over_min_rate_adj'] > 0]['over_min_rate_adj'].describe()"
   ]
  },
  {
   "cell_type": "markdown",
   "id": "fb588386",
   "metadata": {},
   "source": [
    "## Passenger Fare Analysis"
   ]
  },
  {
   "cell_type": "code",
   "execution_count": null,
   "id": "b1d93ce0",
   "metadata": {},
   "outputs": [],
   "source": [
    "# Convert 2019 base passenger fare to 2022 dollars\n",
    "\n",
    "rides2019['passenger_fare_adj'] = rides2019.base_passenger_fare * 1.159 #inflation rate between 2019 and 2022\n",
    "rides2019['passenger_fare_mile_adj'] = rides2019.base_passenger_fare*1.159/rides2019.trip_miles\n",
    "rides2019['passenger_fare_min_adj'] = rides2019.base_passenger_fare*1.159/(rides2019.trip_time/60)"
   ]
  },
  {
   "cell_type": "code",
   "execution_count": null,
   "id": "e93f19ab",
   "metadata": {},
   "outputs": [],
   "source": [
    "# Total passenger fare across all rides\n",
    "\n",
    "rides2019['passenger_fare_adj'].sum()  "
   ]
  },
  {
   "cell_type": "markdown",
   "id": "d817cc9c",
   "metadata": {},
   "source": [
    "#### Distribution of passenger fare"
   ]
  },
  {
   "cell_type": "code",
   "execution_count": null,
   "id": "70e9105e",
   "metadata": {},
   "outputs": [],
   "source": [
    "rides2019.passenger_fare_adj.describe()"
   ]
  },
  {
   "cell_type": "markdown",
   "id": "4821bbb9",
   "metadata": {},
   "source": [
    "#### Average fare per minute cost "
   ]
  },
  {
   "cell_type": "code",
   "execution_count": null,
   "id": "49b50f64",
   "metadata": {},
   "outputs": [],
   "source": [
    "np.mean(rides2019['passenger_fare_min_adj'])"
   ]
  },
  {
   "cell_type": "markdown",
   "id": "1fed64a4",
   "metadata": {},
   "source": [
    "#### Average fare per mile cost (2022 Dollars)"
   ]
  },
  {
   "cell_type": "code",
   "execution_count": null,
   "id": "1b135bd3",
   "metadata": {},
   "outputs": [],
   "source": [
    "np.mean(rides2019['passenger_fare_mile_adj'])"
   ]
  },
  {
   "cell_type": "markdown",
   "id": "890d30fa",
   "metadata": {},
   "source": [
    "#### Regression of minutes and miles by passenger fare (In 2022, each additional mile per trip increases the fare by 2.03 dollars and each additional minute per trip increases the fare by 0.47 dollars)\n",
    "\n"
   ]
  },
  {
   "cell_type": "code",
   "execution_count": null,
   "id": "235c49c4",
   "metadata": {},
   "outputs": [],
   "source": [
    "# convert trip time to minutes\n",
    "rides2019['trip_time_min'] = rides2019.trip_time/60"
   ]
  },
  {
   "cell_type": "code",
   "execution_count": null,
   "id": "b249e39e",
   "metadata": {},
   "outputs": [],
   "source": [
    "result = sm.ols(formula=\"passenger_fare_adj ~ trip_miles + trip_time_min\", data=rides2019).fit()\n",
    "print(result.params)"
   ]
  },
  {
   "cell_type": "markdown",
   "id": "416e24d0",
   "metadata": {},
   "source": [
    "## Drivers' earnings compared to passenger fare"
   ]
  },
  {
   "cell_type": "code",
   "execution_count": null,
   "id": "3d0bcc3a",
   "metadata": {},
   "outputs": [],
   "source": [
    "rides2019['perc_earnings_fare_adj'] = rides2019[\"driver_pay_adj\"]/rides2019[\"passenger_fare_adj\"]\n",
    "\n",
    "rides2019[\"perc_earnings_fare_adj\"].describe()"
   ]
  },
  {
   "cell_type": "code",
   "execution_count": null,
   "id": "ceb0e404",
   "metadata": {},
   "outputs": [],
   "source": [
    "rides2019[rides2019[\"perc_earnings_fare_adj\"] > 1][\"perc_earnings_fare_adj\"].describe()"
   ]
  },
  {
   "cell_type": "code",
   "execution_count": null,
   "id": "1ea9dc2a",
   "metadata": {},
   "outputs": [],
   "source": [
    "rides2019[rides2019[\"perc_earnings_fare_adj\"] < 1][\"perc_earnings_fare_adj\"].describe()"
   ]
  },
  {
   "cell_type": "markdown",
   "id": "45c7f5fb",
   "metadata": {},
   "source": [
    "# 2022"
   ]
  },
  {
   "cell_type": "code",
   "execution_count": null,
   "id": "f454e9e9",
   "metadata": {},
   "outputs": [],
   "source": [
    "rides2022 = pq.read_table(\"../Aya_NYTWA/Data/april_2022_cleaned.parquet\", memory_map=True).to_pandas()"
   ]
  },
  {
   "cell_type": "code",
   "execution_count": null,
   "id": "db207732",
   "metadata": {},
   "outputs": [],
   "source": [
    "# Create minimum rates 2022 based on WAV and Out of City Conditions\n",
    "\n",
    "conditions2022 = [\n",
    "    (rides2022['wav_match_flag'] == 'N') & (rides2022['out_of_city'] == False),\n",
    "    (rides2022['wav_match_flag'] == 'Y') & (rides2022['out_of_city'] == False),\n",
    "    (rides2022['wav_match_flag'] == 'N') & (rides2022['out_of_city'] == True),\n",
    "    (rides2022['wav_match_flag'] == 'Y') & (rides2022['out_of_city'] == True)]\n",
    "\n",
    "choices2022 = [rides2022.trip_miles*NON_WAV_PER_MILE_22 + (rides2022.trip_time/60)*NON_WAV_PER_MIN_22,\n",
    "              rides2022.trip_miles*WAV_PER_MILE_22 + (rides2022.trip_time/60)*WAV_PER_MIN_22,\n",
    "              rides2022.trip_miles*OUT_CITY_NON_WAV_PER_MILE_22 + (rides2022.trip_time/60)*OUT_CITY_PER_MIN_22,\n",
    "              rides2022.trip_miles*OUT_CITY_WAV_PER_MILE_22 + (rides2022.trip_time/60)*OUT_CITY_PER_MIN_22]\n",
    "\n",
    "rides2022['min_rate'] = np.select(conditions2022, choices2022, default=rides2022.trip_miles*NON_WAV_PER_MILE_22 + (rides2022.trip_time/60)*NON_WAV_PER_MIN_22)\n"
   ]
  },
  {
   "cell_type": "code",
   "execution_count": null,
   "id": "f47de8a4",
   "metadata": {},
   "outputs": [],
   "source": [
    "# Create variable for dollar amount of driver pay over min rate\n",
    "\n",
    "rides2022['over_min_rate'] = (rides2022.driver_pay - rides2022.min_rate)"
   ]
  },
  {
   "cell_type": "code",
   "execution_count": null,
   "id": "d0078156",
   "metadata": {},
   "outputs": [],
   "source": [
    "# Create variable for percentage of driver pay over min rate\n",
    "\n",
    "rides2022['perc_over_min_rate'] = (rides2022.over_min_rate/rides2022.min_rate)"
   ]
  },
  {
   "cell_type": "code",
   "execution_count": null,
   "id": "0cc30a95",
   "metadata": {},
   "outputs": [],
   "source": [
    "# Create rate of passenger fare, by mile and minute\n",
    "\n",
    "\n",
    "rides2022['passenger_fare_mile'] = rides2022.base_passenger_fare/rides2022.trip_miles\n",
    "rides2022['passenger_fare_min'] = rides2022.base_passenger_fare/(rides2022.trip_time/60)"
   ]
  },
  {
   "cell_type": "code",
   "execution_count": null,
   "id": "1e375381",
   "metadata": {},
   "outputs": [],
   "source": [
    "# Determine percent of trips that leave city \n",
    "# Drop Shared rides, out of town rides, and VIA rides\n",
    "\n",
    "rides2022 = rides2022.loc[rides2022['hvfhs_license_num'] != VIA]\n",
    "\n",
    "rides2022 = rides2022.loc[rides2022['out_of_city'] == False]"
   ]
  },
  {
   "cell_type": "markdown",
   "id": "20670857",
   "metadata": {},
   "source": [
    "## Driver Pay Analysis\n"
   ]
  },
  {
   "cell_type": "code",
   "execution_count": null,
   "id": "7509f295",
   "metadata": {},
   "outputs": [],
   "source": [
    "# Total driver pay across all rides\n",
    "\n",
    "rides2022['driver_pay'].sum()    "
   ]
  },
  {
   "cell_type": "markdown",
   "id": "e4152fa1",
   "metadata": {},
   "source": [
    "#### Distribution of driver pay (in 2022 dollars)"
   ]
  },
  {
   "cell_type": "code",
   "execution_count": null,
   "id": "838f66ec",
   "metadata": {},
   "outputs": [],
   "source": [
    "rides2022.driver_pay.describe()"
   ]
  },
  {
   "cell_type": "code",
   "execution_count": null,
   "id": "a91b3183",
   "metadata": {},
   "outputs": [],
   "source": [
    "rides.min_rate.describe()"
   ]
  },
  {
   "cell_type": "markdown",
   "id": "fe79ff0a",
   "metadata": {},
   "source": [
    "#### Distribution of percentage of driver earnings over the minimum required rate for the trip (In 2022 the bottom 25% of trips made less than 0.5% over the minimum rate, the top 25% of trips made at least 30% over the minimum rate, and the median percent made over the minimum rate was 7%)"
   ]
  },
  {
   "cell_type": "code",
   "execution_count": null,
   "id": "4ceaeb33",
   "metadata": {},
   "outputs": [],
   "source": [
    "rides2022.perc_over_min_rate.describe()"
   ]
  },
  {
   "cell_type": "markdown",
   "id": "0e32e2c9",
   "metadata": {},
   "source": [
    "#### !! Percentage of rides where the driver made less than the minimum required rate"
   ]
  },
  {
   "cell_type": "code",
   "execution_count": null,
   "id": "379b8f06",
   "metadata": {},
   "outputs": [],
   "source": [
    "len(rides2022[rides2022.perc_over_min_rate < 0])/len(rides2022)"
   ]
  },
  {
   "cell_type": "markdown",
   "id": "ec43bfc2",
   "metadata": {},
   "source": [
    "#### !! Percentage of rides where the driver made 1% or less over the minimum required rate"
   ]
  },
  {
   "cell_type": "code",
   "execution_count": null,
   "id": "f555de3a",
   "metadata": {},
   "outputs": [],
   "source": [
    "len(rides2022[rides2022.perc_over_min_rate <= 0.01])/len(rides2022)"
   ]
  },
  {
   "cell_type": "markdown",
   "id": "62f6d616",
   "metadata": {},
   "source": [
    "#### !! Percentage of rides where the driver made 10% or less over the minimum required rate"
   ]
  },
  {
   "cell_type": "code",
   "execution_count": null,
   "id": "38d20a0e",
   "metadata": {},
   "outputs": [],
   "source": [
    "len(rides2022[rides2022.perc_over_min_rate <= 0.10])/len(rides2022)"
   ]
  },
  {
   "cell_type": "markdown",
   "id": "5564ebe0",
   "metadata": {},
   "source": [
    "#### Percentage of rides where the driver made more than 5% of the minimum required rate"
   ]
  },
  {
   "cell_type": "code",
   "execution_count": null,
   "id": "bfb3457f",
   "metadata": {},
   "outputs": [],
   "source": [
    "len(rides2022[rides2022.perc_over_min_rate > 0.05])/len(rides2022)"
   ]
  },
  {
   "cell_type": "markdown",
   "id": "f34cb176",
   "metadata": {},
   "source": [
    "#### Percentage of rides where the driver made more than 10% of the minimum required rate"
   ]
  },
  {
   "cell_type": "code",
   "execution_count": null,
   "id": "62760f17",
   "metadata": {},
   "outputs": [],
   "source": [
    "len(rides2022[rides2022.perc_over_min_rate > 0.10])/len(rides2022)"
   ]
  },
  {
   "cell_type": "markdown",
   "id": "5f5bab73",
   "metadata": {},
   "source": [
    "#### Percentage of rides where the driver made more than 20% of the minimum required rate"
   ]
  },
  {
   "cell_type": "code",
   "execution_count": null,
   "id": "7bf08f7a",
   "metadata": {},
   "outputs": [],
   "source": [
    "len(rides2022[rides2022.perc_over_min_rate > 0.20])/len(rides2022)"
   ]
  },
  {
   "cell_type": "markdown",
   "id": "8d6c4b4a",
   "metadata": {},
   "source": [
    "#### Distribution of driver pay for rides where the driver made less than the minimum rate"
   ]
  },
  {
   "cell_type": "code",
   "execution_count": null,
   "id": "87e51093",
   "metadata": {
    "scrolled": true
   },
   "outputs": [],
   "source": [
    "rides2022[rides2022.perc_over_min_rate < 0].driver_pay.describe()"
   ]
  },
  {
   "cell_type": "markdown",
   "id": "8ae456e7",
   "metadata": {},
   "source": [
    "#### Distribution of underpayment for rides where the driver made less than the minimum rate"
   ]
  },
  {
   "cell_type": "code",
   "execution_count": null,
   "id": "4384a551",
   "metadata": {},
   "outputs": [],
   "source": [
    "rides2022[rides2022.perc_over_min_rate < 0].over_min_rate.describe()"
   ]
  },
  {
   "cell_type": "markdown",
   "id": "e73c45fd",
   "metadata": {},
   "source": [
    "#### Distribution of minimum rate (in dollars) for rides where the driver made less than minimum rate"
   ]
  },
  {
   "cell_type": "code",
   "execution_count": null,
   "id": "007ac701",
   "metadata": {},
   "outputs": [],
   "source": [
    "rides2022[rides2022.perc_over_min_rate < 0].min_rate.describe()"
   ]
  },
  {
   "cell_type": "markdown",
   "id": "daf10d18",
   "metadata": {},
   "source": [
    "#### Distribution of ride length for rides where the driver made less than minimum rate"
   ]
  },
  {
   "cell_type": "code",
   "execution_count": null,
   "id": "6c1fbf64",
   "metadata": {},
   "outputs": [],
   "source": [
    "rides2022[rides2022.perc_over_min_rate < 0].trip_miles.describe()"
   ]
  },
  {
   "cell_type": "markdown",
   "id": "1eefdddc",
   "metadata": {},
   "source": [
    "#### Distribution of driver pay for rides where the driver made over 20% of the minimum rate"
   ]
  },
  {
   "cell_type": "code",
   "execution_count": null,
   "id": "4bfc5cbe",
   "metadata": {},
   "outputs": [],
   "source": [
    "rides2022[rides2022.perc_over_min_rate > .2].driver_pay.describe()"
   ]
  },
  {
   "cell_type": "markdown",
   "id": "0295e9a4",
   "metadata": {},
   "source": [
    "#### Distribution of overage (in dollars) for rides where the driver made over 20% of the minimum rate"
   ]
  },
  {
   "cell_type": "code",
   "execution_count": null,
   "id": "ddafdff1",
   "metadata": {},
   "outputs": [],
   "source": [
    "rides2022[rides2022.perc_over_min_rate > .2][\"over_min_rate\"].describe()"
   ]
  },
  {
   "cell_type": "markdown",
   "id": "b88dc592",
   "metadata": {},
   "source": [
    "#### Distribution of minimum rate (in dollars) for rides where the driver made over 20% of the minimum rate"
   ]
  },
  {
   "cell_type": "code",
   "execution_count": null,
   "id": "9c7268b6",
   "metadata": {
    "scrolled": true
   },
   "outputs": [],
   "source": [
    "rides2022[rides2022.perc_over_min_rate > .2][\"min_rate\"].describe()"
   ]
  },
  {
   "cell_type": "code",
   "execution_count": null,
   "id": "167213ee",
   "metadata": {},
   "outputs": [],
   "source": []
  },
  {
   "cell_type": "markdown",
   "id": "e69cbe55",
   "metadata": {},
   "source": [
    "#### Distribution of driver pay for rides where the driver made over 20% of the minimum rate (2022 dollars)"
   ]
  },
  {
   "cell_type": "code",
   "execution_count": null,
   "id": "577fcf4a",
   "metadata": {},
   "outputs": [],
   "source": [
    "rides2022[rides2022.perc_over_min_rate > .2].driver_pay.describe()"
   ]
  },
  {
   "cell_type": "markdown",
   "id": "be078a43",
   "metadata": {},
   "source": [
    "#### !! Percent of trips where overage is more than \\$1"
   ]
  },
  {
   "cell_type": "code",
   "execution_count": null,
   "id": "e5d4eade",
   "metadata": {},
   "outputs": [],
   "source": [
    "len(rides2022[rides2022['over_min_rate'] > 1])/len(rides2022)"
   ]
  },
  {
   "cell_type": "markdown",
   "id": "702ad908",
   "metadata": {},
   "source": [
    "#### !! Percent of trips where overage was \\$20 or more"
   ]
  },
  {
   "cell_type": "code",
   "execution_count": null,
   "id": "ad3a6b69",
   "metadata": {
    "scrolled": true
   },
   "outputs": [],
   "source": [
    "len(rides2022[rides2022['over_min_rate'] > 20])/len(rides2022)"
   ]
  },
  {
   "cell_type": "markdown",
   "id": "5c1b882f",
   "metadata": {},
   "source": [
    "#### !! Average overage of all trips in dollars"
   ]
  },
  {
   "cell_type": "code",
   "execution_count": null,
   "id": "bbfdc50b",
   "metadata": {},
   "outputs": [],
   "source": [
    "rides2022['over_min_rate'].describe()"
   ]
  },
  {
   "cell_type": "markdown",
   "id": "be4fc8eb",
   "metadata": {},
   "source": [
    "#### !! Average overage of trips that were 10% or less over in dollars"
   ]
  },
  {
   "cell_type": "code",
   "execution_count": null,
   "id": "1783ea68",
   "metadata": {},
   "outputs": [],
   "source": [
    "rides2022[rides2022['perc_over_min_rate'] < .1]['over_min_rate'].describe()"
   ]
  },
  {
   "cell_type": "markdown",
   "id": "3a0acb0a",
   "metadata": {},
   "source": [
    "#### !! Average overage of all trips which are over pay rules in dollars"
   ]
  },
  {
   "cell_type": "code",
   "execution_count": null,
   "id": "cc68ab24",
   "metadata": {},
   "outputs": [],
   "source": [
    "rides2022[rides2022['over_min_rate'] > 0]['over_min_rate'].describe()"
   ]
  },
  {
   "cell_type": "markdown",
   "id": "cb224e34",
   "metadata": {},
   "source": [
    "## Passenger Fare Analysis"
   ]
  },
  {
   "cell_type": "code",
   "execution_count": null,
   "id": "6df15982",
   "metadata": {},
   "outputs": [],
   "source": [
    "# Total passenger fare across all rides\n",
    "\n",
    "rides2022['base_passenger_fare'].sum()  "
   ]
  },
  {
   "cell_type": "markdown",
   "id": "cea464eb",
   "metadata": {},
   "source": [
    "#### Distribution of passenger fare (2022 Dollars)"
   ]
  },
  {
   "cell_type": "code",
   "execution_count": null,
   "id": "6cb4a7ab",
   "metadata": {},
   "outputs": [],
   "source": [
    "rides2022.base_passenger_fare.describe()"
   ]
  },
  {
   "cell_type": "markdown",
   "id": "8a6d0c90",
   "metadata": {},
   "source": [
    "#### Average fare per minute cost (2022 Dollars)"
   ]
  },
  {
   "cell_type": "code",
   "execution_count": null,
   "id": "4973dfd3",
   "metadata": {},
   "outputs": [],
   "source": [
    "np.mean(rides2022['passenger_fare_min'])"
   ]
  },
  {
   "cell_type": "markdown",
   "id": "f6220632",
   "metadata": {},
   "source": [
    "#### Average fare per mile cost (2022 Dollars)"
   ]
  },
  {
   "cell_type": "code",
   "execution_count": null,
   "id": "3b3f4324",
   "metadata": {},
   "outputs": [],
   "source": [
    "np.mean(rides2022['passenger_fare_mile'])"
   ]
  },
  {
   "cell_type": "markdown",
   "id": "367a9a55",
   "metadata": {},
   "source": [
    "#### Regression of minutes and miles by passenger fare (In 2022, each additional mile per trip increases the fare by 2.03 dollars and each additional minute per trip increases the fare by 0.47 dollars)\n",
    "\n"
   ]
  },
  {
   "cell_type": "code",
   "execution_count": null,
   "id": "e8a84188",
   "metadata": {},
   "outputs": [],
   "source": [
    "# convert trip time to minutes\n",
    "rides2022['trip_time_min'] = rides2022.trip_time/60"
   ]
  },
  {
   "cell_type": "code",
   "execution_count": null,
   "id": "4004e203",
   "metadata": {},
   "outputs": [],
   "source": [
    "result = sm.ols(formula=\"base_passenger_fare ~ trip_miles + trip_time_min\", data=rides2022).fit()\n",
    "print(result.params)"
   ]
  },
  {
   "cell_type": "markdown",
   "id": "09476724",
   "metadata": {},
   "source": [
    "## Drivers' earnings compared to passenger fare"
   ]
  },
  {
   "cell_type": "code",
   "execution_count": null,
   "id": "aac060f1",
   "metadata": {},
   "outputs": [],
   "source": [
    "rides2022['perc_earnings_fare'] = rides2022[\"driver_pay\"]/rides2022[\"base_passenger_fare\"]\n",
    "\n",
    "rides2022[\"perc_earnings_fare\"].describe()"
   ]
  },
  {
   "cell_type": "code",
   "execution_count": null,
   "id": "ba69a319",
   "metadata": {},
   "outputs": [],
   "source": [
    "len(rides2022[rides2022[\"perc_earnings_fare\"] > 1])/len(rides2022[\"perc_earnings_fare\"])"
   ]
  },
  {
   "cell_type": "code",
   "execution_count": null,
   "id": "74fe666e",
   "metadata": {},
   "outputs": [],
   "source": [
    "rides2022[rides2022[\"perc_earnings_fare\"] > 1][\"over_min_rate\"].describe()"
   ]
  },
  {
   "cell_type": "code",
   "execution_count": null,
   "id": "ed6d5c34",
   "metadata": {},
   "outputs": [],
   "source": []
  }
 ],
 "metadata": {
  "kernelspec": {
   "display_name": "Python 3 (ipykernel)",
   "language": "python",
   "name": "python3"
  },
  "language_info": {
   "codemirror_mode": {
    "name": "ipython",
    "version": 3
   },
   "file_extension": ".py",
   "mimetype": "text/x-python",
   "name": "python",
   "nbconvert_exporter": "python",
   "pygments_lexer": "ipython3",
   "version": "3.10.2"
  }
 },
 "nbformat": 4,
 "nbformat_minor": 5
}
