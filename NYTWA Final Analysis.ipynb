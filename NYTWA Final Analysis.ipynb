{
 "cells": [
  {
   "cell_type": "code",
   "execution_count": 1,
   "id": "ecd9e844",
   "metadata": {},
   "outputs": [],
   "source": [
    "import numpy as np\n",
    "import pandas as pd\n",
    "import pyarrow as pa\n",
    "import pyarrow.parquet as pq\n",
    "import statsmodels.formula.api as sm\n",
    "import matplotlib.pyplot as plt\n",
    "import matplotlib.ticker\n",
    "\n",
    "pd.set_option('display.float_format', lambda x: '%.5f' % x)\n"
   ]
  },
  {
   "cell_type": "code",
   "execution_count": 2,
   "id": "7fb7f1dc",
   "metadata": {},
   "outputs": [],
   "source": [
    "#CONSTANTS\n",
    "\n",
    "# to do: change the rates so that there are company specific values as well (for 2019, need Via rates), maybe store in a dataframe\n",
    "\n",
    "NON_WAV_PER_MILE_22 = 1.161\n",
    "NON_WAV_PER_MIN_22 = 0.529\n",
    "\n",
    "WAV_PER_MILE_22 = 1.504\n",
    "WAV_PER_MIN_22 = 0.529\n",
    "\n",
    "OUT_CITY_NON_WAV_PER_MILE_22 = 1.348\n",
    "OUT_CITY_WAV_PER_MILE_22 = 1.746\n",
    "OUT_CITY_PER_MIN_22 = 0.613\n",
    "\n",
    "\n",
    "NON_WAV_PER_MILE_19 = 1.088\n",
    "NON_WAV_PER_MIN_19 = 0.495\n",
    "\n",
    "WAV_PER_MILE_19 = 1.410\n",
    "WAV_PER_MIN_19 = 0.495\n",
    "\n",
    "OUT_CITY_NON_WAV_PER_MILE_19 = 1.262\n",
    "OUT_CITY_WAV_PER_MILE_19 = 1.636\n",
    "OUT_CITY_PER_MIN_19 = 0.574\n",
    "\n",
    "JUNO = \"HV0002\"\n",
    "UBER = \"HV0003\"\n",
    "VIA = \"HV0004\"\n",
    "LYFT = \"HV0005\""
   ]
  },
  {
   "cell_type": "markdown",
   "id": "63d0f492",
   "metadata": {},
   "source": [
    "# 2019 (not adjusted)"
   ]
  },
  {
   "cell_type": "code",
   "execution_count": null,
   "id": "4da46f29",
   "metadata": {},
   "outputs": [],
   "source": [
    "# Import Cleaned Data\n",
    "\n",
    "rides2019 = pq.read_table(\"../Aya_NYTWA/Data/february_2019_cleaned.parquet\", memory_map=True).to_pandas()"
   ]
  },
  {
   "cell_type": "code",
   "execution_count": null,
   "id": "f4cb96c1",
   "metadata": {},
   "outputs": [],
   "source": [
    "# Create minimum rates 2019 based on WAV and Out of City Conditions\n",
    "\n",
    "conditions2019 = [\n",
    "    (rides2019['wav_match_flag'] == 'N') & (rides2019['out_of_city'] == False),\n",
    "    (rides2019['wav_match_flag'] == 'Y') & (rides2019['out_of_city'] == False),\n",
    "    (rides2019['wav_match_flag'] == 'N') & (rides2019['out_of_city'] == True),\n",
    "    (rides2019['wav_match_flag'] == 'Y') & (rides2019['out_of_city'] == True)]\n",
    "\n",
    "choices2019 = [rides2019.trip_miles*NON_WAV_PER_MILE_19 + (rides2019.trip_time/60)*NON_WAV_PER_MIN_19,\n",
    "              rides2019.trip_miles*WAV_PER_MILE_19 + (rides2019.trip_time/60)*WAV_PER_MIN_19,\n",
    "              rides2019.trip_miles*OUT_CITY_NON_WAV_PER_MILE_19 + (rides2019.trip_time/60)*OUT_CITY_PER_MIN_19,\n",
    "              rides2019.trip_miles*OUT_CITY_WAV_PER_MILE_19 + (rides2019.trip_time/60)*OUT_CITY_PER_MIN_19]\n",
    "\n",
    "rides2019['min_rate'] = np.select(conditions2019, choices2019, default=rides2019.trip_miles*NON_WAV_PER_MILE_19 + (rides2019.trip_time/60)*NON_WAV_PER_MIN_19)\n",
    "\n"
   ]
  },
  {
   "cell_type": "markdown",
   "id": "ef529124",
   "metadata": {},
   "source": [
    "## Driver pay analysis"
   ]
  },
  {
   "cell_type": "markdown",
   "id": "aa3b4c8c",
   "metadata": {},
   "source": [
    "#### Distribution of driver pay"
   ]
  },
  {
   "cell_type": "code",
   "execution_count": null,
   "id": "030900b6",
   "metadata": {},
   "outputs": [],
   "source": [
    "# Total driver pay across all rides\n",
    "\n",
    "rides2019['driver_pay'].sum()    "
   ]
  },
  {
   "cell_type": "code",
   "execution_count": null,
   "id": "7d47f494",
   "metadata": {},
   "outputs": [],
   "source": [
    "# Create variable for dollar amount of driver pay over min rate\n",
    "\n",
    "rides2019['over_min_rate'] = (rides2019.driver_pay - rides2019.min_rate)"
   ]
  },
  {
   "cell_type": "code",
   "execution_count": null,
   "id": "e1a1de4b",
   "metadata": {},
   "outputs": [],
   "source": [
    "# Create variable for percentage of driver pay over min rate\n",
    "\n",
    "rides2019['perc_over_min_rate'] = (rides2019.over_min_rate/rides2019.min_rate)"
   ]
  },
  {
   "cell_type": "code",
   "execution_count": null,
   "id": "00f8244c",
   "metadata": {},
   "outputs": [],
   "source": [
    "# Create rate of passenger fare, by mile and minute\n",
    "\n",
    "rides2019['passenger_fare_mile'] = rides2019.base_passenger_fare/rides2019.trip_miles\n",
    "rides2019['passenger_fare_min'] = rides2019.base_passenger_fare/(rides2019.trip_time/60)"
   ]
  },
  {
   "cell_type": "code",
   "execution_count": null,
   "id": "7f585dc1",
   "metadata": {},
   "outputs": [],
   "source": [
    "# Determine percent of trips that leave city \n",
    "# Drop Shared rides, out of town rides, and VIA rides\n",
    "\n",
    "rides2019 = rides2019.loc[rides2019['shared_match_flag'] == \"N\"]\n",
    "rides2019 = rides2019.loc[rides2019['hvfhs_license_num'] != VIA]\n",
    "rides2019 = rides2019.loc[rides2019['out_of_city'] == False]"
   ]
  },
  {
   "cell_type": "code",
   "execution_count": null,
   "id": "ddac9873",
   "metadata": {},
   "outputs": [],
   "source": [
    "rides2019.driver_pay.describe()"
   ]
  },
  {
   "cell_type": "code",
   "execution_count": null,
   "id": "ec6579bf",
   "metadata": {},
   "outputs": [],
   "source": [
    "rides2019.min_rate.describe()"
   ]
  },
  {
   "cell_type": "markdown",
   "id": "35c17196",
   "metadata": {},
   "source": [
    "#### Distribution of percentage of driver earnings over the minimum required rate for the trip (In 2022 the bottom 25% of trips made less than 0.5% over the minimum rate, the top 25% of trips made at least 30% over the minimum rate, and the median percent made over the minimum rate was 7%)"
   ]
  },
  {
   "cell_type": "code",
   "execution_count": null,
   "id": "93bcfcd8",
   "metadata": {},
   "outputs": [],
   "source": [
    "rides2019.perc_over_min_rate.describe()"
   ]
  },
  {
   "cell_type": "code",
   "execution_count": null,
   "id": "57d14123",
   "metadata": {},
   "outputs": [],
   "source": [
    "bin_labels = ['less than 0%', '0% - 5%','5% - 10%', '10% - 15%', '15% and over']\n",
    "bins = [float('-inf'), 0, 0.05, 0.10, 0.15, float('inf')]\n",
    "\n",
    "# TODO: fix indices\n",
    "\n",
    "rides2019['perc_over_range'] = pd.cut(rides2019['perc_over_min_rate'], bins= bins, labels=bin_labels)"
   ]
  },
  {
   "cell_type": "code",
   "execution_count": null,
   "id": "5b6c242f",
   "metadata": {},
   "outputs": [],
   "source": [
    "rides2019['perc_over_range']"
   ]
  },
  {
   "cell_type": "code",
   "execution_count": null,
   "id": "6c2e0c3e",
   "metadata": {},
   "outputs": [],
   "source": [
    "plt.bar(bin_labels, rides2019.groupby(\"perc_over_range\")[\"perc_over_range\"].count()*100/len(rides2019[\"perc_over_range\"]))\n",
    "plt.ylim([0, 60])\n",
    "plt.xticks(rotation = 45)\n",
    "plt.xlabel('Overpayment (% of minimum rate)')\n",
    "plt.ylabel('Proportion of rides (%)')\n",
    "plt.title('February 2019 Driver Overpayment as a Proportion of Minimum Rate')\n",
    "\n",
    "plt.show()"
   ]
  },
  {
   "cell_type": "markdown",
   "id": "87151dd9",
   "metadata": {},
   "source": [
    "#### !! Percentage of rides where the driver made less than the minimum required rate"
   ]
  },
  {
   "cell_type": "code",
   "execution_count": null,
   "id": "2297f7a7",
   "metadata": {},
   "outputs": [],
   "source": [
    "len(rides2019[rides2019.perc_over_min_rate < 0])/len(rides2019)"
   ]
  },
  {
   "cell_type": "markdown",
   "id": "e9e8cd51",
   "metadata": {},
   "source": [
    "#### !! Percentage of rides where the driver made 1% or less over the minimum required rate"
   ]
  },
  {
   "cell_type": "code",
   "execution_count": null,
   "id": "bfc23f93",
   "metadata": {},
   "outputs": [],
   "source": [
    "len(rides2019[rides2019.perc_over_min_rate <= 0.01])/len(rides2019)"
   ]
  },
  {
   "cell_type": "markdown",
   "id": "2e0f9fa5",
   "metadata": {},
   "source": [
    "#### !! Percentage of rides where the driver made 10% or less over the minimum required rate"
   ]
  },
  {
   "cell_type": "code",
   "execution_count": null,
   "id": "5a526bd7",
   "metadata": {},
   "outputs": [],
   "source": [
    "len(rides2019[rides2019.perc_over_min_rate <= 0.10])/len(rides2019)"
   ]
  },
  {
   "cell_type": "markdown",
   "id": "e8d25c76",
   "metadata": {},
   "source": [
    "#### !! Percentage of rides where the driver made 20% or less over the minimum required rate"
   ]
  },
  {
   "cell_type": "code",
   "execution_count": null,
   "id": "5c022107",
   "metadata": {},
   "outputs": [],
   "source": [
    "len(rides2019[rides2019.perc_over_min_rate <= 0.20])/len(rides2019)"
   ]
  },
  {
   "cell_type": "markdown",
   "id": "c989d45b",
   "metadata": {},
   "source": [
    "#### Percentage of rides where the driver made more than 5% of the minimum required rate"
   ]
  },
  {
   "cell_type": "code",
   "execution_count": null,
   "id": "1a550b4b",
   "metadata": {},
   "outputs": [],
   "source": [
    "len(rides2019[rides2019.perc_over_min_rate > 0.05])/len(rides2019)"
   ]
  },
  {
   "cell_type": "markdown",
   "id": "9ed4bd95",
   "metadata": {},
   "source": [
    "#### Percentage of rides where the driver made more than 10% of the minimum required rate"
   ]
  },
  {
   "cell_type": "code",
   "execution_count": null,
   "id": "5a24d9de",
   "metadata": {},
   "outputs": [],
   "source": [
    "len(rides2019[rides2019.perc_over_min_rate > 0.10])/len(rides2019)"
   ]
  },
  {
   "cell_type": "markdown",
   "id": "892f90d6",
   "metadata": {},
   "source": [
    "#### Percentage of rides where the driver made more than 20% of the minimum required rate"
   ]
  },
  {
   "cell_type": "code",
   "execution_count": null,
   "id": "17ffa31f",
   "metadata": {},
   "outputs": [],
   "source": [
    "len(rides2019[rides2019.perc_over_min_rate > 0.20])/len(rides2019)"
   ]
  },
  {
   "cell_type": "markdown",
   "id": "5643f541",
   "metadata": {},
   "source": [
    "#### Distribution of driver pay for rides where the driver made less than the minimum rate"
   ]
  },
  {
   "cell_type": "code",
   "execution_count": null,
   "id": "bdf15b85",
   "metadata": {
    "scrolled": true
   },
   "outputs": [],
   "source": [
    "rides2019[rides2019.perc_over_min_rate < 0].driver_pay.describe()"
   ]
  },
  {
   "cell_type": "markdown",
   "id": "f61ba6e6",
   "metadata": {},
   "source": [
    "#### Distribution of underpayment for rides where the driver made less than the minimum rate"
   ]
  },
  {
   "cell_type": "code",
   "execution_count": null,
   "id": "4b4ce05a",
   "metadata": {},
   "outputs": [],
   "source": [
    "rides2019[rides2019.perc_over_min_rate < 0].over_min_rate.describe()"
   ]
  },
  {
   "cell_type": "markdown",
   "id": "e234c8c9",
   "metadata": {},
   "source": [
    "#### (NEW) Distribution of proportion underpaid for rides where the driver made less than the minimum rate"
   ]
  },
  {
   "cell_type": "code",
   "execution_count": null,
   "id": "36015040",
   "metadata": {},
   "outputs": [],
   "source": [
    "rides2019[rides2019.perc_over_min_rate < 0].perc_over_min_rate.describe()"
   ]
  },
  {
   "cell_type": "markdown",
   "id": "b62ff5be",
   "metadata": {},
   "source": [
    "#### Total dollar amount underpaid"
   ]
  },
  {
   "cell_type": "code",
   "execution_count": null,
   "id": "696dae38",
   "metadata": {
    "scrolled": true
   },
   "outputs": [],
   "source": [
    "(rides2019[rides2019.perc_over_min_rate < 0][\"over_min_rate\"] * -1).sum()"
   ]
  },
  {
   "cell_type": "markdown",
   "id": "c2683a5b",
   "metadata": {},
   "source": [
    "#### Percent of underpaid trips underpaid by 1% or more"
   ]
  },
  {
   "cell_type": "code",
   "execution_count": null,
   "id": "bd984429",
   "metadata": {},
   "outputs": [],
   "source": [
    "num_underpaid = len(rides2019[rides2019.perc_over_min_rate < 0])\n",
    "\n",
    "len(rides2019[rides2019.perc_over_min_rate <= -0.01])/num_underpaid"
   ]
  },
  {
   "cell_type": "markdown",
   "id": "2f498c2c",
   "metadata": {},
   "source": [
    "#### Percent of underpaid trips underpaid by 2% or more"
   ]
  },
  {
   "cell_type": "code",
   "execution_count": null,
   "id": "b486faff",
   "metadata": {},
   "outputs": [],
   "source": [
    "len(rides2019[rides2019.perc_over_min_rate <= -0.02])/num_underpaid"
   ]
  },
  {
   "cell_type": "markdown",
   "id": "a2ff2cd2",
   "metadata": {},
   "source": [
    "#### Percent of underpaid trips underpaid by 5% or more"
   ]
  },
  {
   "cell_type": "code",
   "execution_count": null,
   "id": "47e115a1",
   "metadata": {},
   "outputs": [],
   "source": [
    "len(rides2019[rides2019.perc_over_min_rate <= -0.05])/num_underpaid"
   ]
  },
  {
   "cell_type": "markdown",
   "id": "0a706019",
   "metadata": {},
   "source": [
    "#### Percent of underpaid trips underpaid by 10% or more"
   ]
  },
  {
   "cell_type": "code",
   "execution_count": null,
   "id": "c828c4ae",
   "metadata": {},
   "outputs": [],
   "source": [
    "len(rides2019[rides2019.perc_over_min_rate <= -0.10])/num_underpaid"
   ]
  },
  {
   "cell_type": "markdown",
   "id": "816ab026",
   "metadata": {},
   "source": [
    "#### Percent of underpaid trips underpaid by 25% or more"
   ]
  },
  {
   "cell_type": "code",
   "execution_count": null,
   "id": "7184c2d1",
   "metadata": {},
   "outputs": [],
   "source": [
    "len(rides2019[rides2019.perc_over_min_rate <= -0.25])/num_underpaid"
   ]
  },
  {
   "cell_type": "markdown",
   "id": "8d265465",
   "metadata": {},
   "source": [
    "#### Percent of underpaid trips underpaid by 50% or more"
   ]
  },
  {
   "cell_type": "code",
   "execution_count": null,
   "id": "4ccacd07",
   "metadata": {},
   "outputs": [],
   "source": [
    "len(rides2019[rides2019.perc_over_min_rate <= -0.50])/num_underpaid"
   ]
  },
  {
   "cell_type": "markdown",
   "id": "c175516c",
   "metadata": {},
   "source": [
    "#### Percent of underpaid trips underpaid by 0 - 5%"
   ]
  },
  {
   "cell_type": "code",
   "execution_count": null,
   "id": "786b97f6",
   "metadata": {},
   "outputs": [],
   "source": [
    "len(rides2019[(rides2019.perc_over_min_rate < 0) & (rides2019.perc_over_min_rate >= -0.05)])/num_underpaid"
   ]
  },
  {
   "cell_type": "markdown",
   "id": "9433e810",
   "metadata": {},
   "source": [
    "#### Percent of underpaid trips underpaid by 5- 10%"
   ]
  },
  {
   "cell_type": "code",
   "execution_count": null,
   "id": "5ece5cc6",
   "metadata": {},
   "outputs": [],
   "source": [
    "len(rides2019[(rides2019.perc_over_min_rate < -0.05) & (rides2019.perc_over_min_rate >= -0.1)])/num_underpaid"
   ]
  },
  {
   "cell_type": "markdown",
   "id": "e9b9a4b6",
   "metadata": {},
   "source": [
    "#### Percent of underpaid trips underpaid by 10 - 15%"
   ]
  },
  {
   "cell_type": "code",
   "execution_count": null,
   "id": "626e749c",
   "metadata": {},
   "outputs": [],
   "source": [
    "len(rides2019[(rides2019.perc_over_min_rate < -0.1) & (rides2019.perc_over_min_rate >= -.15)])/num_underpaid"
   ]
  },
  {
   "cell_type": "markdown",
   "id": "589a934a",
   "metadata": {},
   "source": [
    "#### Percent of underpaid trips underpaid by 15 - 20%"
   ]
  },
  {
   "cell_type": "code",
   "execution_count": null,
   "id": "0f42fcb4",
   "metadata": {},
   "outputs": [],
   "source": [
    "len(rides2019[(rides2019.perc_over_min_rate < -0.15) & (rides2019.perc_over_min_rate >= -.2)])/num_underpaid"
   ]
  },
  {
   "cell_type": "markdown",
   "id": "65fe63aa",
   "metadata": {},
   "source": [
    "#### Percent of underpaid trips underpaid by 20% or more"
   ]
  },
  {
   "cell_type": "code",
   "execution_count": null,
   "id": "0b042a85",
   "metadata": {
    "scrolled": false
   },
   "outputs": [],
   "source": [
    "len(rides2019[(rides2019.perc_over_min_rate < -0.20)])/num_underpaid"
   ]
  },
  {
   "cell_type": "code",
   "execution_count": null,
   "id": "dfc97b26",
   "metadata": {
    "scrolled": true
   },
   "outputs": [],
   "source": [
    "underpaid = pd.DataFrame(data = rides2019[rides2019[\"perc_over_min_rate\"] < 0], columns = [\"perc_over_min_rate\"]).reset_index(drop = True)"
   ]
  },
  {
   "cell_type": "code",
   "execution_count": null,
   "id": "a0e58961",
   "metadata": {},
   "outputs": [],
   "source": [
    "underpaid['perc_under'] = underpaid[underpaid[\"perc_over_min_rate\"] < 0][\"perc_over_min_rate\"]*(-1)"
   ]
  },
  {
   "cell_type": "code",
   "execution_count": null,
   "id": "7433d447",
   "metadata": {},
   "outputs": [],
   "source": [
    "bin_labels = ['0% - 5%','5% - 10%', '10% - 15%', '15% - 20%', '20% and over']\n",
    "bins = [0, 0.05, 0.10, 0.15, 0.2, float('inf')]\n",
    "\n",
    "underpaid['perc_under_range'] = pd.cut(underpaid[\"perc_under\"], bins= bins, labels=bin_labels)"
   ]
  },
  {
   "cell_type": "code",
   "execution_count": null,
   "id": "10b1e20b",
   "metadata": {},
   "outputs": [],
   "source": [
    "plt.bar(bin_labels, underpaid.groupby(\"perc_under_range\")[\"perc_under_range\"].count()*100/len(underpaid[\"perc_under_range\"]))\n",
    "plt.ylim([0, 80])\n",
    "plt.xticks(rotation = 45)\n",
    "plt.xlabel('Underpayment (% of minimum rate)')\n",
    "plt.ylabel('Proportion of underpaid rides (%)')\n",
    "plt.title('February 2019 Driver Underpayment as a Proportion of Minimum Rate')\n",
    "\n",
    "plt.show()"
   ]
  },
  {
   "cell_type": "markdown",
   "id": "13f1ad03",
   "metadata": {},
   "source": [
    "#### Percent of underpaid trips underpaid by \\\\$0.50 or more"
   ]
  },
  {
   "cell_type": "code",
   "execution_count": null,
   "id": "c58275fc",
   "metadata": {},
   "outputs": [],
   "source": [
    "len(rides2019[(rides2019.over_min_rate <= -0.50)])/num_underpaid"
   ]
  },
  {
   "cell_type": "markdown",
   "id": "088e5a05",
   "metadata": {},
   "source": [
    "#### Percent of underpaid trips underpaid by \\\\$1.00 or more"
   ]
  },
  {
   "cell_type": "code",
   "execution_count": null,
   "id": "104e721f",
   "metadata": {},
   "outputs": [],
   "source": [
    "len(rides2019[(rides2019.over_min_rate <= -1.00)])/num_underpaid"
   ]
  },
  {
   "cell_type": "markdown",
   "id": "d414ddba",
   "metadata": {},
   "source": [
    "#### Percent of underpaid trips underpaid by \\\\$1.50 or more"
   ]
  },
  {
   "cell_type": "code",
   "execution_count": null,
   "id": "f22979e0",
   "metadata": {},
   "outputs": [],
   "source": [
    "len(rides2019[(rides2019.over_min_rate <= -1.50)])/num_underpaid"
   ]
  },
  {
   "cell_type": "markdown",
   "id": "1c7cc19a",
   "metadata": {},
   "source": [
    "#### Percent of underpaid trips underpaid by \\\\$2.00 or more"
   ]
  },
  {
   "cell_type": "code",
   "execution_count": null,
   "id": "94791640",
   "metadata": {},
   "outputs": [],
   "source": [
    "len(rides2019[(rides2019.over_min_rate <= -2.00)])/num_underpaid"
   ]
  },
  {
   "cell_type": "code",
   "execution_count": null,
   "id": "80982ff0",
   "metadata": {},
   "outputs": [],
   "source": [
    "underpaid_dollar = pd.DataFrame(data = rides2019[rides2019[\"over_min_rate\"] < 0], columns = [\"over_min_rate\"]).reset_index(drop = True)"
   ]
  },
  {
   "cell_type": "code",
   "execution_count": null,
   "id": "e38d54de",
   "metadata": {},
   "outputs": [],
   "source": [
    "underpaid_dollar['dollar_under'] = underpaid_dollar[\"over_min_rate\"]*(-1)\n",
    "underpaid_dollar"
   ]
  },
  {
   "cell_type": "code",
   "execution_count": null,
   "id": "15f1965a",
   "metadata": {},
   "outputs": [],
   "source": [
    "bin_labels = ['\\$0.00 to \\$0.50','\\$0.50 to \\$1.00', '\\$1.00 to \\$1.50','\\$1.50 to \\$2.00','\\$2.00 to \\$2.50','\\$2.50 to \\$3.00', '\\$3.00 to \\$3.50', '\\$3.50 or more']\n",
    "bins = [0, 0.50, 1.00, 1.50, 2.00, 2.50, 3.00, 3.50, float('inf')]\n",
    "\n",
    "underpaid_dollar['dollar_under_range'] = pd.cut(underpaid_dollar['dollar_under'], bins= bins, labels=bin_labels)"
   ]
  },
  {
   "cell_type": "code",
   "execution_count": null,
   "id": "7e6de791",
   "metadata": {
    "scrolled": true
   },
   "outputs": [],
   "source": [
    "plt.bar(bin_labels, underpaid_dollar.groupby(\"dollar_under_range\")[\"dollar_under_range\"].count()*100/len(underpaid_dollar[\"dollar_under_range\"]))\n",
    "plt.ylim([0, 60])\n",
    "plt.xticks(rotation = 45)\n",
    "plt.xlabel('Underpayment ($ under minimum rate)')\n",
    "plt.ylabel('Proportion of rides (%)')\n",
    "plt.title('February 2019 Driver Underpayment in Dollars')\n",
    "\n",
    "plt.show()"
   ]
  },
  {
   "cell_type": "markdown",
   "id": "585a7778",
   "metadata": {},
   "source": [
    "#### Distribution of minimum rate (in dollars) for rides where the driver made less than minimum rate"
   ]
  },
  {
   "cell_type": "code",
   "execution_count": null,
   "id": "e3480d33",
   "metadata": {
    "scrolled": true
   },
   "outputs": [],
   "source": [
    "rides2019[rides2019.perc_over_min_rate < 0].min_rate.describe()"
   ]
  },
  {
   "cell_type": "markdown",
   "id": "f9d8ef5f",
   "metadata": {},
   "source": [
    "#### Distribution of ride length (in miles) for rides where the driver made less than minimum rate"
   ]
  },
  {
   "cell_type": "code",
   "execution_count": null,
   "id": "7b408dbb",
   "metadata": {},
   "outputs": [],
   "source": [
    "rides2019[rides2019.perc_over_min_rate < 0].trip_miles.describe()"
   ]
  },
  {
   "cell_type": "markdown",
   "id": "d465e7a3",
   "metadata": {},
   "source": [
    "#### (NEW) Distribution of ride length (in minutes) for rides where the driver made less than minimum rate"
   ]
  },
  {
   "cell_type": "code",
   "execution_count": null,
   "id": "88eae9d6",
   "metadata": {
    "scrolled": true
   },
   "outputs": [],
   "source": [
    "rides2019[\"trip_time_min\"] = rides2019[\"trip_time\"]/60\n",
    "rides2019[rides2019.perc_over_min_rate < 0][\"trip_time_min\"].describe()"
   ]
  },
  {
   "cell_type": "markdown",
   "id": "f7e82747",
   "metadata": {},
   "source": [
    "#### Distribution of driver pay for rides where the driver made over 20% of the minimum rate"
   ]
  },
  {
   "cell_type": "code",
   "execution_count": null,
   "id": "5c91ed56",
   "metadata": {},
   "outputs": [],
   "source": [
    "rides2019[rides2019.perc_over_min_rate > .2].driver_pay.describe()"
   ]
  },
  {
   "cell_type": "markdown",
   "id": "db50b469",
   "metadata": {},
   "source": [
    "#### Distribution of overage (in dollars) for rides where the driver made over 20% of the minimum rate"
   ]
  },
  {
   "cell_type": "code",
   "execution_count": null,
   "id": "5340275a",
   "metadata": {},
   "outputs": [],
   "source": [
    "rides2019[rides2019.perc_over_min_rate > .2][\"over_min_rate\"].describe()"
   ]
  },
  {
   "cell_type": "markdown",
   "id": "92e0c28a",
   "metadata": {},
   "source": [
    "#### Distribution of minimum rate (in dollars) for rides where the driver made over 20% of the minimum rate"
   ]
  },
  {
   "cell_type": "code",
   "execution_count": null,
   "id": "8ab237a6",
   "metadata": {
    "scrolled": true
   },
   "outputs": [],
   "source": [
    "rides2019[rides2019.perc_over_min_rate > .2][\"min_rate\"].describe()"
   ]
  },
  {
   "cell_type": "markdown",
   "id": "93c3fcef",
   "metadata": {},
   "source": [
    "#### !! Percent of trips where overage is more than \\$1"
   ]
  },
  {
   "cell_type": "code",
   "execution_count": null,
   "id": "8dc169d1",
   "metadata": {},
   "outputs": [],
   "source": [
    "len(rides2019[rides2019['over_min_rate'] > 1])/len(rides2019)"
   ]
  },
  {
   "cell_type": "markdown",
   "id": "0f646d32",
   "metadata": {},
   "source": [
    "#### !! Percent of trips where overage was \\$20 or more"
   ]
  },
  {
   "cell_type": "code",
   "execution_count": null,
   "id": "f2b4bcda",
   "metadata": {
    "scrolled": true
   },
   "outputs": [],
   "source": [
    "len(rides2019[rides2019['over_min_rate'] > 20])/len(rides2019)"
   ]
  },
  {
   "cell_type": "markdown",
   "id": "ccf1b672",
   "metadata": {},
   "source": [
    "#### !! Average overage of all trips in dollars"
   ]
  },
  {
   "cell_type": "code",
   "execution_count": null,
   "id": "e0ba4b42",
   "metadata": {},
   "outputs": [],
   "source": [
    "rides2019['over_min_rate'].describe()"
   ]
  },
  {
   "cell_type": "markdown",
   "id": "4bb1e4bd",
   "metadata": {},
   "source": [
    "#### !! Average overage of trips that were 10% or less over in dollars"
   ]
  },
  {
   "cell_type": "code",
   "execution_count": null,
   "id": "78444933",
   "metadata": {},
   "outputs": [],
   "source": [
    "rides2019[rides2019['perc_over_min_rate'] < .1]['over_min_rate'].describe()"
   ]
  },
  {
   "cell_type": "markdown",
   "id": "5c26962a",
   "metadata": {},
   "source": [
    "#### !! Average overage of all trips which are over pay rules in dollars"
   ]
  },
  {
   "cell_type": "code",
   "execution_count": null,
   "id": "76b682d5",
   "metadata": {},
   "outputs": [],
   "source": [
    "rides2019[rides2019['over_min_rate'] > 0]['over_min_rate'].describe()"
   ]
  },
  {
   "cell_type": "markdown",
   "id": "6fa78f53",
   "metadata": {},
   "source": [
    "#### Driver pay per minute/per mile"
   ]
  },
  {
   "cell_type": "code",
   "execution_count": null,
   "id": "7df79630",
   "metadata": {},
   "outputs": [],
   "source": [
    "rides2019['driver_pay_mile'] = rides2019.driver_pay/rides2019.trip_miles\n",
    "rides2019['driver_pay_min'] = rides2019.driver_pay/(rides2019.trip_time/60)"
   ]
  },
  {
   "cell_type": "code",
   "execution_count": null,
   "id": "760a2a12",
   "metadata": {},
   "outputs": [],
   "source": [
    "np.mean(rides2019['driver_pay_mile'])"
   ]
  },
  {
   "cell_type": "code",
   "execution_count": null,
   "id": "8b671626",
   "metadata": {},
   "outputs": [],
   "source": [
    "np.mean(rides['driver_pay_min'])"
   ]
  },
  {
   "cell_type": "markdown",
   "id": "e9a23db3",
   "metadata": {},
   "source": [
    "## Passenger Fare Analysis"
   ]
  },
  {
   "cell_type": "code",
   "execution_count": null,
   "id": "a5cbad7d",
   "metadata": {},
   "outputs": [],
   "source": [
    "# Total passenger fare across all rides\n",
    "\n",
    "rides2019['base_passenger_fare'].sum()    "
   ]
  },
  {
   "cell_type": "code",
   "execution_count": null,
   "id": "0d2c764b",
   "metadata": {},
   "outputs": [],
   "source": [
    "rides2019['passenger_fare_mile'] = rides2019.base_passenger_fare/rides2019.trip_miles\n",
    "rides2019['passenger_fare_min'] = rides2019.base_passenger_fare/(rides2019.trip_time/60)"
   ]
  },
  {
   "cell_type": "markdown",
   "id": "85e360d5",
   "metadata": {},
   "source": [
    "#### Distribution of passenger fare"
   ]
  },
  {
   "cell_type": "code",
   "execution_count": null,
   "id": "9f662928",
   "metadata": {},
   "outputs": [],
   "source": [
    "rides2019.base_passenger_fare.describe()"
   ]
  },
  {
   "cell_type": "markdown",
   "id": "bc6e6f97",
   "metadata": {},
   "source": [
    "#### Average fare per minute cost "
   ]
  },
  {
   "cell_type": "code",
   "execution_count": null,
   "id": "334db313",
   "metadata": {},
   "outputs": [],
   "source": [
    "np.mean(rides2019['passenger_fare_min'])"
   ]
  },
  {
   "cell_type": "markdown",
   "id": "b9e32019",
   "metadata": {},
   "source": [
    "#### Average fare per mile cost"
   ]
  },
  {
   "cell_type": "code",
   "execution_count": null,
   "id": "d6be2f25",
   "metadata": {},
   "outputs": [],
   "source": [
    "np.mean(rides2019['passenger_fare_mile'])"
   ]
  },
  {
   "cell_type": "markdown",
   "id": "e23743f5",
   "metadata": {},
   "source": [
    "#### Regression of minutes and miles by passenger fare (In 2022, each additional mile per trip increases the fare by 2.03 dollars and each additional minute per trip increases the fare by 0.47 dollars)\n",
    "\n"
   ]
  },
  {
   "cell_type": "code",
   "execution_count": null,
   "id": "828dc01c",
   "metadata": {},
   "outputs": [],
   "source": [
    "# convert trip time to minutes\n",
    "rides2019['trip_time_min'] = rides2019.trip_time/60"
   ]
  },
  {
   "cell_type": "code",
   "execution_count": null,
   "id": "ebd56d27",
   "metadata": {},
   "outputs": [],
   "source": [
    "result = sm.ols(formula=\"base_passenger_fare ~ trip_miles + trip_time_min\", data=rides2019).fit()\n",
    "print(result.params)"
   ]
  },
  {
   "cell_type": "markdown",
   "id": "d1f40954",
   "metadata": {},
   "source": [
    "## Drivers' earnings compared to passenger fare"
   ]
  },
  {
   "cell_type": "code",
   "execution_count": null,
   "id": "dc511243",
   "metadata": {},
   "outputs": [],
   "source": [
    "rides2019['perc_earnings_fare'] = rides2019[\"driver_pay\"]/rides2019[\"base_passenger_fare\"]\n",
    "\n",
    "rides2019[\"perc_earnings_fare\"].describe()"
   ]
  },
  {
   "cell_type": "code",
   "execution_count": null,
   "id": "27abc4f9",
   "metadata": {},
   "outputs": [],
   "source": [
    "rides2019[rides2019[\"perc_earnings_fare\"] > 1][\"driver_pay\"].describe()"
   ]
  },
  {
   "cell_type": "code",
   "execution_count": null,
   "id": "d8828c08",
   "metadata": {},
   "outputs": [],
   "source": [
    "rides2019[rides2019[\"perc_earnings_fare\"] < 1][\"driver_pay\"].describe()"
   ]
  },
  {
   "cell_type": "code",
   "execution_count": null,
   "id": "1b85d063",
   "metadata": {},
   "outputs": [],
   "source": [
    "len(rides2019[rides2019[\"perc_earnings_fare\"] > 1])/len(rides2019[\"perc_earnings_fare\"])"
   ]
  },
  {
   "cell_type": "markdown",
   "id": "7daf6807",
   "metadata": {},
   "source": [
    "### Plot of proportion of passenger fare that the company takes"
   ]
  },
  {
   "cell_type": "code",
   "execution_count": null,
   "id": "b933bfaa",
   "metadata": {},
   "outputs": [],
   "source": [
    "rides2019['perc_uber_takes'] = 1 - rides2019[\"driver_pay\"]/rides2019[\"base_passenger_fare\"]"
   ]
  },
  {
   "cell_type": "code",
   "execution_count": null,
   "id": "1b539a96",
   "metadata": {},
   "outputs": [],
   "source": [
    "bin_labels = ['less than 0%', '0% - 10%','10% - 20%', '20% - 30%', '30% - 40%', '40% and over']\n",
    "bins = [float('-inf'), 0, 0.10, 0.20, 0.30, 0.40, float('inf')]\n",
    "\n",
    "rides2019['perc_uber_takes_range'] = pd.cut(rides2019['perc_uber_takes'], bins= bins, labels=bin_labels)"
   ]
  },
  {
   "cell_type": "code",
   "execution_count": null,
   "id": "92e8d25d",
   "metadata": {},
   "outputs": [],
   "source": [
    "plt.bar(bin_labels, rides2019.groupby(\"perc_uber_takes_range\")[\"perc_uber_takes_range\"].count()*100/len(rides2019[\"perc_uber_takes_range\"]))\n",
    "plt.xticks(rotation = 45)\n",
    "plt.ylim([0, 35])\n",
    "plt.xlabel('Amount Taken (% of passenger fare)')\n",
    "plt.ylabel('Proportion of rides (%)')\n",
    "plt.title('February 2019, Proportion of Passenger Fare that the Company Takes')\n",
    "\n",
    "plt.show()"
   ]
  },
  {
   "cell_type": "raw",
   "id": "72fe1e1f",
   "metadata": {},
   "source": []
  },
  {
   "cell_type": "markdown",
   "id": "e134d255",
   "metadata": {},
   "source": [
    "## Trip lengths"
   ]
  },
  {
   "cell_type": "code",
   "execution_count": null,
   "id": "2ab5f0a1",
   "metadata": {},
   "outputs": [],
   "source": [
    "rides2019[\"trip_time_min\"].describe()"
   ]
  },
  {
   "cell_type": "code",
   "execution_count": null,
   "id": "06ae6ef3",
   "metadata": {},
   "outputs": [],
   "source": [
    "rides2019[\"trip_miles\"].describe()"
   ]
  },
  {
   "cell_type": "markdown",
   "id": "091dc7b1",
   "metadata": {},
   "source": [
    "# 2019 (adjusted)"
   ]
  },
  {
   "cell_type": "markdown",
   "id": "33c77c7d",
   "metadata": {},
   "source": [
    "## Driver pay analysis"
   ]
  },
  {
   "cell_type": "code",
   "execution_count": null,
   "id": "ae8f8971",
   "metadata": {},
   "outputs": [],
   "source": [
    "# adjust 2019 data to 2022 dollar inflation rate\n",
    "\n",
    "rides2019['driver_pay_adj'] = rides2019.driver_pay * 1.159 #inflation rate between 2019 and 2022"
   ]
  },
  {
   "cell_type": "code",
   "execution_count": null,
   "id": "911b7a73",
   "metadata": {},
   "outputs": [],
   "source": [
    "# Total driver pay across all rides\n",
    "\n",
    "rides2019['driver_pay_adj'].sum()    "
   ]
  },
  {
   "cell_type": "code",
   "execution_count": null,
   "id": "eefda07b",
   "metadata": {},
   "outputs": [],
   "source": [
    "# Create dollar amount of min rate adjusted to inflation\n",
    "\n",
    "rides2019['min_rate_adj'] = rides2019.min_rate * 1.159"
   ]
  },
  {
   "cell_type": "code",
   "execution_count": null,
   "id": "824d20ee",
   "metadata": {},
   "outputs": [],
   "source": [
    "# Create variable for dollar amount of driver pay over min rate\n",
    "\n",
    "rides2019['over_min_rate_adj'] = (rides2019.driver_pay_adj - rides2019.min_rate_adj)"
   ]
  },
  {
   "cell_type": "code",
   "execution_count": null,
   "id": "00b88ad4",
   "metadata": {},
   "outputs": [],
   "source": [
    "# Create variable for percentage of driver pay over min rate\n",
    "\n",
    "rides2019['perc_over_min_rate_adj'] = (rides2019.over_min_rate_adj/(rides2019.min_rate_adj))"
   ]
  },
  {
   "cell_type": "code",
   "execution_count": null,
   "id": "9de097fa",
   "metadata": {},
   "outputs": [],
   "source": [
    "# Create rate of passenger fare, by mile and minute\n",
    "\n",
    "rides2019['passenger_fare_mile_adj'] = rides2019.base_passenger_fare * 1.159/rides2019.trip_miles\n",
    "rides2019['passenger_fare_min_adj'] = rides2019.base_passenger_fare * 1.159/(rides2019.trip_time/60)"
   ]
  },
  {
   "cell_type": "code",
   "execution_count": null,
   "id": "cdc2744b",
   "metadata": {},
   "outputs": [],
   "source": [
    "# Determine percent of trips that leave city \n",
    "# Drop Shared rides, out of town rides, and VIA rides\n",
    "\n",
    "rides2019 = rides2019.loc[rides2019['shared_match_flag'] == \"N\"]\n",
    "rides2019 = rides2019.loc[rides2019['hvfhs_license_num'] != VIA]\n",
    "rides2019 = rides2019.loc[rides2019['out_of_city'] == False]"
   ]
  },
  {
   "cell_type": "code",
   "execution_count": null,
   "id": "182497b7",
   "metadata": {},
   "outputs": [],
   "source": [
    "rides2019.driver_pay_adj.describe()"
   ]
  },
  {
   "cell_type": "markdown",
   "id": "00ee2609",
   "metadata": {},
   "source": [
    "#### Distribution of percentage of driver earnings over the minimum required rate for the trip (In 2022 the bottom 25% of trips made less than 0.5% over the minimum rate, the top 25% of trips made at least 30% over the minimum rate, and the median percent made over the minimum rate was 7%)"
   ]
  },
  {
   "cell_type": "code",
   "execution_count": null,
   "id": "62f9e349",
   "metadata": {},
   "outputs": [],
   "source": [
    "rides2019.perc_over_min_rate_adj.describe()"
   ]
  },
  {
   "cell_type": "markdown",
   "id": "9e7edb4a",
   "metadata": {},
   "source": [
    "#### !! Percentage of rides where the driver made less than the minimum required rate"
   ]
  },
  {
   "cell_type": "code",
   "execution_count": null,
   "id": "d6aefbee",
   "metadata": {},
   "outputs": [],
   "source": [
    "len(rides2019[rides2019.perc_over_min_rate_adj < 0])/len(rides2019)"
   ]
  },
  {
   "cell_type": "markdown",
   "id": "78de5117",
   "metadata": {},
   "source": [
    "#### !! Percentage of rides where the driver made 1% or less over the minimum required rate"
   ]
  },
  {
   "cell_type": "code",
   "execution_count": null,
   "id": "65913b7d",
   "metadata": {},
   "outputs": [],
   "source": [
    "len(rides2019[rides2019.perc_over_min_rate_adj <= 0.01])/len(rides2019)"
   ]
  },
  {
   "cell_type": "markdown",
   "id": "f3b875f6",
   "metadata": {},
   "source": [
    "#### !! Percentage of rides where the driver made 10% or less over the minimum required rate"
   ]
  },
  {
   "cell_type": "code",
   "execution_count": null,
   "id": "8db9e38b",
   "metadata": {},
   "outputs": [],
   "source": [
    "len(rides2019[rides2019.perc_over_min_rate_adj <= 0.10])/len(rides2019)"
   ]
  },
  {
   "cell_type": "markdown",
   "id": "ca2602ac",
   "metadata": {},
   "source": [
    "#### Percentage of rides where the driver made more than 5% of the minimum required rate"
   ]
  },
  {
   "cell_type": "code",
   "execution_count": null,
   "id": "f2b31c3f",
   "metadata": {},
   "outputs": [],
   "source": [
    "len(rides2019[rides2019.perc_over_min_rate_adj > 0.05])/len(rides2019)"
   ]
  },
  {
   "cell_type": "markdown",
   "id": "005baae1",
   "metadata": {},
   "source": [
    "#### Percentage of rides where the driver made more than 10% of the minimum required rate"
   ]
  },
  {
   "cell_type": "code",
   "execution_count": null,
   "id": "57ad7c88",
   "metadata": {},
   "outputs": [],
   "source": [
    "len(rides2019[rides2019.perc_over_min_rate_adj > 0.10])/len(rides2019)"
   ]
  },
  {
   "cell_type": "markdown",
   "id": "c38ca7a4",
   "metadata": {},
   "source": [
    "#### Percentage of rides where the driver made more than 20% of the minimum required rate"
   ]
  },
  {
   "cell_type": "code",
   "execution_count": null,
   "id": "0aadab1e",
   "metadata": {},
   "outputs": [],
   "source": [
    "len(rides2019[rides2019.perc_over_min_rate_adj > 0.20])/len(rides2019)"
   ]
  },
  {
   "cell_type": "markdown",
   "id": "ff9ed766",
   "metadata": {},
   "source": [
    "#### Distribution of driver pay for rides where the driver made less than the minimum rate"
   ]
  },
  {
   "cell_type": "code",
   "execution_count": null,
   "id": "9f145b1b",
   "metadata": {
    "scrolled": true
   },
   "outputs": [],
   "source": [
    "rides2019[rides2019.perc_over_min_rate_adj < 0].driver_pay_adj.describe()"
   ]
  },
  {
   "cell_type": "markdown",
   "id": "f0196bc8",
   "metadata": {},
   "source": [
    "#### Distribution of underpayment for rides where the driver made less than the minimum rate"
   ]
  },
  {
   "cell_type": "code",
   "execution_count": null,
   "id": "973f4121",
   "metadata": {},
   "outputs": [],
   "source": [
    "rides2019[rides2019.perc_over_min_rate_adj < 0].over_min_rate_adj.describe()"
   ]
  },
  {
   "cell_type": "markdown",
   "id": "d2aaea17",
   "metadata": {},
   "source": [
    "#### (NEW) Distribution of proportion underpaid for rides where the driver made less than the minimum rate"
   ]
  },
  {
   "cell_type": "code",
   "execution_count": null,
   "id": "e66a8b83",
   "metadata": {},
   "outputs": [],
   "source": [
    "rides2019[rides2019.perc_over_min_rate_adj < 0][\"perc_over_min_rate_adj\"].describe()"
   ]
  },
  {
   "cell_type": "code",
   "execution_count": null,
   "id": "a62652c7",
   "metadata": {},
   "outputs": [],
   "source": [
    "num_underpaid = len(rides2019[rides2019.perc_over_min_rate_adj < 0])"
   ]
  },
  {
   "cell_type": "markdown",
   "id": "38678a9c",
   "metadata": {},
   "source": [
    "#### Percent of underpaid trips underpaid by 0 - 5%"
   ]
  },
  {
   "cell_type": "code",
   "execution_count": null,
   "id": "5c240577",
   "metadata": {},
   "outputs": [],
   "source": [
    "len(rides2019[(rides2019.perc_over_min_rate_adj < 0) & (rides2019.perc_over_min_rate_adj >= -0.05)])/num_underpaid"
   ]
  },
  {
   "cell_type": "markdown",
   "id": "af939a48",
   "metadata": {},
   "source": [
    "#### Percent of underpaid trips underpaid by 5- 10%"
   ]
  },
  {
   "cell_type": "code",
   "execution_count": null,
   "id": "1be50f8a",
   "metadata": {},
   "outputs": [],
   "source": [
    "len(rides2019[(rides2019.perc_over_min_rate_adj < -0.05) & (rides2019.perc_over_min_rate_adj >= -0.1)])/num_underpaid"
   ]
  },
  {
   "cell_type": "markdown",
   "id": "7d62aab3",
   "metadata": {},
   "source": [
    "#### Percent of underpaid trips underpaid by 10 - 15%"
   ]
  },
  {
   "cell_type": "code",
   "execution_count": null,
   "id": "74d805ec",
   "metadata": {},
   "outputs": [],
   "source": [
    "len(rides2019[(rides2019.perc_over_min_rate_adj < -0.1) & (rides2019.perc_over_min_rate_adj >= -.15)])/num_underpaid"
   ]
  },
  {
   "cell_type": "markdown",
   "id": "63b3983d",
   "metadata": {},
   "source": [
    "#### Percent of underpaid trips underpaid by 15 - 20%"
   ]
  },
  {
   "cell_type": "code",
   "execution_count": null,
   "id": "a1e84c53",
   "metadata": {},
   "outputs": [],
   "source": [
    "len(rides2019[(rides2019.perc_over_min_rate_adj < -0.15) & (rides2019.perc_over_min_rate_adj >= -.2)])/num_underpaid"
   ]
  },
  {
   "cell_type": "markdown",
   "id": "e8dec8fb",
   "metadata": {},
   "source": [
    "#### Percent of underpaid trips underpaid by 20% or more"
   ]
  },
  {
   "cell_type": "code",
   "execution_count": null,
   "id": "6c26a4dc",
   "metadata": {
    "scrolled": false
   },
   "outputs": [],
   "source": [
    "len(rides2019[(rides2019.perc_over_min_rate_adj < -0.20)])/num_underpaid"
   ]
  },
  {
   "cell_type": "code",
   "execution_count": null,
   "id": "f3ec6d5b",
   "metadata": {
    "scrolled": true
   },
   "outputs": [],
   "source": [
    "underpaid = pd.DataFrame(data = rides2019[rides2019[\"perc_over_min_rate\"] < 0], columns = [\"perc_over_min_rate\"]).reset_index(drop = True)"
   ]
  },
  {
   "cell_type": "code",
   "execution_count": null,
   "id": "707d884f",
   "metadata": {},
   "outputs": [],
   "source": [
    "underpaid['perc_under'] = underpaid[underpaid[\"perc_over_min_rate\"] < 0][\"perc_over_min_rate\"]*(-1)"
   ]
  },
  {
   "cell_type": "code",
   "execution_count": null,
   "id": "1982efff",
   "metadata": {},
   "outputs": [],
   "source": [
    "bin_labels = ['0% - 5%','5% - 10%', '10% - 15%', '15% - 20%', '20% and over']\n",
    "bins = [0, 0.05, 0.10, 0.15, 0.2, float('inf')]\n",
    "\n",
    "underpaid['perc_under_range'] = pd.cut(underpaid[\"perc_under\"], bins= bins, labels=bin_labels)"
   ]
  },
  {
   "cell_type": "code",
   "execution_count": null,
   "id": "f881bcde",
   "metadata": {},
   "outputs": [],
   "source": [
    "plt.bar(bin_labels, underpaid.groupby(\"perc_under_range\")[\"perc_under_range\"].count()*100/len(underpaid[\"perc_under_range\"]))\n",
    "plt.ylim([0, 80])\n",
    "plt.xticks(rotation = 45)\n",
    "plt.xlabel('Underpayment (% of minimum rate)')\n",
    "plt.ylabel('Proportion of underpaid rides (%)')\n",
    "plt.title('February 2019 Driver Underpayment as a Proportion of Minimum Rate')\n",
    "\n",
    "plt.show()"
   ]
  },
  {
   "cell_type": "markdown",
   "id": "d867b21d",
   "metadata": {},
   "source": [
    "#### Percent of underpaid trips underpaid by \\\\$0.50 or more"
   ]
  },
  {
   "cell_type": "code",
   "execution_count": null,
   "id": "ae425b52",
   "metadata": {},
   "outputs": [],
   "source": [
    "len(rides2019[(rides2019.over_min_rate <= -0.50)])/num_underpaid"
   ]
  },
  {
   "cell_type": "markdown",
   "id": "fcbe942d",
   "metadata": {},
   "source": [
    "#### Percent of underpaid trips underpaid by \\\\$1.00 or more"
   ]
  },
  {
   "cell_type": "code",
   "execution_count": null,
   "id": "3e5167ea",
   "metadata": {},
   "outputs": [],
   "source": [
    "len(rides2019[(rides2019.over_min_rate <= -1.00)])/num_underpaid"
   ]
  },
  {
   "cell_type": "markdown",
   "id": "8351e678",
   "metadata": {},
   "source": [
    "#### Percent of underpaid trips underpaid by \\\\$1.50 or more"
   ]
  },
  {
   "cell_type": "code",
   "execution_count": null,
   "id": "b6c190c3",
   "metadata": {},
   "outputs": [],
   "source": [
    "len(rides2019[(rides2019.over_min_rate <= -1.50)])/num_underpaid"
   ]
  },
  {
   "cell_type": "markdown",
   "id": "df7b6e7b",
   "metadata": {},
   "source": [
    "#### Percent of underpaid trips underpaid by \\\\$2.00 or more"
   ]
  },
  {
   "cell_type": "code",
   "execution_count": null,
   "id": "32ccf484",
   "metadata": {},
   "outputs": [],
   "source": [
    "len(rides2019[(rides2019.over_min_rate <= -2.00)])/num_underpaid"
   ]
  },
  {
   "cell_type": "code",
   "execution_count": null,
   "id": "6bde87da",
   "metadata": {},
   "outputs": [],
   "source": [
    "underpaid_dollar = pd.DataFrame(data = rides2019[rides2019[\"over_min_rate\"] < 0], columns = [\"over_min_rate\"]).reset_index(drop = True)"
   ]
  },
  {
   "cell_type": "code",
   "execution_count": null,
   "id": "8ea903bd",
   "metadata": {},
   "outputs": [],
   "source": [
    "underpaid_dollar['dollar_under'] = underpaid_dollar[\"over_min_rate\"]*(-1)\n",
    "underpaid_dollar"
   ]
  },
  {
   "cell_type": "code",
   "execution_count": null,
   "id": "20554e98",
   "metadata": {},
   "outputs": [],
   "source": [
    "bin_labels = ['\\$0.00 to \\$0.50','\\$0.50 to \\$1.00', '\\$1.00 to \\$1.50','\\$1.50 to \\$2.00','\\$2.00 to \\$2.50','\\$2.50 to \\$3.00', '\\$3.00 to \\$3.50', '\\$3.50 or more']\n",
    "bins = [0, 0.50, 1.00, 1.50, 2.00, 2.50, 3.00, 3.50, float('inf')]\n",
    "\n",
    "underpaid_dollar['dollar_under_range'] = pd.cut(underpaid_dollar['dollar_under'], bins= bins, labels=bin_labels)"
   ]
  },
  {
   "cell_type": "code",
   "execution_count": null,
   "id": "a21f89aa",
   "metadata": {
    "scrolled": true
   },
   "outputs": [],
   "source": [
    "plt.bar(bin_labels, underpaid_dollar.groupby(\"dollar_under_range\")[\"dollar_under_range\"].count()*100/len(underpaid_dollar[\"dollar_under_range\"]))\n",
    "plt.ylim([0, 60])\n",
    "plt.xticks(rotation = 45)\n",
    "plt.xlabel('Underpayment ($ under minimum rate)')\n",
    "plt.ylabel('Proportion of rides (%)')\n",
    "plt.title('February 2019 Driver Underpayment in Dollars')\n",
    "\n",
    "plt.show()"
   ]
  },
  {
   "cell_type": "markdown",
   "id": "edeb431c",
   "metadata": {},
   "source": [
    "#### Distribution of minimum rate (in dollars) for rides where the driver made less than minimum rate"
   ]
  },
  {
   "cell_type": "code",
   "execution_count": null,
   "id": "c802e61e",
   "metadata": {},
   "outputs": [],
   "source": [
    "rides2019[rides2019.perc_over_min_rate_adj < 0].min_rate_adj.describe()"
   ]
  },
  {
   "cell_type": "markdown",
   "id": "e95e30bf",
   "metadata": {},
   "source": [
    "#### Distribution of ride length for rides where the driver made less than minimum rate"
   ]
  },
  {
   "cell_type": "code",
   "execution_count": null,
   "id": "0bd77045",
   "metadata": {},
   "outputs": [],
   "source": [
    "rides2019[rides2019.perc_over_min_rate_adj < 0].trip_miles.describe()"
   ]
  },
  {
   "cell_type": "markdown",
   "id": "b70c1ee7",
   "metadata": {},
   "source": [
    "#### (NEW) Distribution of ride length (in minutes) for rides where the driver made less than minimum rate"
   ]
  },
  {
   "cell_type": "code",
   "execution_count": null,
   "id": "2830cca8",
   "metadata": {
    "scrolled": true
   },
   "outputs": [],
   "source": [
    "rides2019[\"trip_time_min\"] = rides2019[\"trip_time\"]/60\n",
    "rides2019[rides2019.perc_over_min_rate < 0][\"trip_time_min\"].describe()"
   ]
  },
  {
   "cell_type": "markdown",
   "id": "16b6548c",
   "metadata": {},
   "source": [
    "#### Distribution of driver pay for rides where the driver made over 20% of the minimum rate"
   ]
  },
  {
   "cell_type": "code",
   "execution_count": null,
   "id": "242f0b2a",
   "metadata": {},
   "outputs": [],
   "source": [
    "rides2019[rides2019.perc_over_min_rate_adj > .2].driver_pay_adj.describe()"
   ]
  },
  {
   "cell_type": "markdown",
   "id": "5e2e2b50",
   "metadata": {},
   "source": [
    "#### Distribution of overage (in dollars) for rides where the driver made over 20% of the minimum rate"
   ]
  },
  {
   "cell_type": "code",
   "execution_count": null,
   "id": "378a63c8",
   "metadata": {},
   "outputs": [],
   "source": [
    "rides2019[rides2019.perc_over_min_rate_adj > .2][\"over_min_rate_adj\"].describe()"
   ]
  },
  {
   "cell_type": "markdown",
   "id": "0eb10da2",
   "metadata": {},
   "source": [
    "#### Distribution of minimum rate (in dollars) for rides where the driver made over 20% of the minimum rate"
   ]
  },
  {
   "cell_type": "code",
   "execution_count": null,
   "id": "be0f0800",
   "metadata": {
    "scrolled": true
   },
   "outputs": [],
   "source": [
    "rides2019[rides2019.perc_over_min_rate > .2][\"min_rate_adj\"].describe()"
   ]
  },
  {
   "cell_type": "code",
   "execution_count": null,
   "id": "adf69e06",
   "metadata": {},
   "outputs": [],
   "source": []
  },
  {
   "cell_type": "markdown",
   "id": "60a83e37",
   "metadata": {},
   "source": [
    "#### Distribution of driver pay for rides where the driver made over 20% of the minimum rate (2022 dollars)"
   ]
  },
  {
   "cell_type": "code",
   "execution_count": null,
   "id": "3f39a078",
   "metadata": {},
   "outputs": [],
   "source": [
    "rides2019[rides2019.perc_over_min_rate_adj > .2].driver_pay_adj.describe()"
   ]
  },
  {
   "cell_type": "markdown",
   "id": "113b715b",
   "metadata": {},
   "source": [
    "#### !! Percent of trips where overage is more than \\$1"
   ]
  },
  {
   "cell_type": "code",
   "execution_count": null,
   "id": "3ee6842e",
   "metadata": {},
   "outputs": [],
   "source": [
    "len(rides2019[rides2019['over_min_rate_adj'] > 1])/len(rides2019)"
   ]
  },
  {
   "cell_type": "markdown",
   "id": "7cf6fec1",
   "metadata": {},
   "source": [
    "#### !! Percent of trips where overage was \\$20 or more"
   ]
  },
  {
   "cell_type": "code",
   "execution_count": null,
   "id": "93b73713",
   "metadata": {
    "scrolled": true
   },
   "outputs": [],
   "source": [
    "len(rides2019[rides2019['over_min_rate_adj'] > 20])/len(rides2019)"
   ]
  },
  {
   "cell_type": "markdown",
   "id": "d7b00bee",
   "metadata": {},
   "source": [
    "#### !! Average overage of all trips in dollars"
   ]
  },
  {
   "cell_type": "code",
   "execution_count": null,
   "id": "5adc3886",
   "metadata": {},
   "outputs": [],
   "source": [
    "rides2019['over_min_rate_adj'].describe()"
   ]
  },
  {
   "cell_type": "markdown",
   "id": "fbfb56b1",
   "metadata": {},
   "source": [
    "#### !! Average overage of trips that were 10% or less over in dollars"
   ]
  },
  {
   "cell_type": "code",
   "execution_count": null,
   "id": "f988100b",
   "metadata": {},
   "outputs": [],
   "source": [
    "rides2019[rides2019['perc_over_min_rate_adj'] < .1]['over_min_rate_adj'].describe()"
   ]
  },
  {
   "cell_type": "markdown",
   "id": "9b6c7c63",
   "metadata": {},
   "source": [
    "#### !! Average overage of all trips which are over pay rules in dollars"
   ]
  },
  {
   "cell_type": "code",
   "execution_count": null,
   "id": "ee22058b",
   "metadata": {
    "scrolled": true
   },
   "outputs": [],
   "source": [
    "rides2019[rides2019['over_min_rate_adj'] > 0]['over_min_rate_adj'].describe()"
   ]
  },
  {
   "cell_type": "markdown",
   "id": "d6f4db66",
   "metadata": {},
   "source": [
    "#### Driver Pay Min/mile"
   ]
  },
  {
   "cell_type": "code",
   "execution_count": null,
   "id": "0bfc5865",
   "metadata": {},
   "outputs": [],
   "source": [
    "rides2019['driver_pay_mile_adj'] = rides2019.driver_pay_adj/rides2019.trip_miles\n",
    "rides2019['driver_pay_min_adj'] = rides2019.driver_pay_adj/(rides2019.trip_time/60)"
   ]
  },
  {
   "cell_type": "code",
   "execution_count": null,
   "id": "b932c27c",
   "metadata": {},
   "outputs": [],
   "source": [
    "np.mean(rides2019['driver_pay_mile_adj'])"
   ]
  },
  {
   "cell_type": "code",
   "execution_count": null,
   "id": "006db322",
   "metadata": {},
   "outputs": [],
   "source": [
    "np.mean(rides2019['driver_pay_min_adj'])"
   ]
  },
  {
   "cell_type": "markdown",
   "id": "3217b872",
   "metadata": {},
   "source": [
    "## Passenger Fare Analysis"
   ]
  },
  {
   "cell_type": "code",
   "execution_count": null,
   "id": "247169bc",
   "metadata": {},
   "outputs": [],
   "source": [
    "# Convert 2019 base passenger fare to 2022 dollars\n",
    "\n",
    "rides2019['passenger_fare_adj'] = rides2019.base_passenger_fare * 1.159 #inflation rate between 2019 and 2022\n",
    "rides2019['passenger_fare_mile_adj'] = rides2019.base_passenger_fare*1.159/rides2019.trip_miles\n",
    "rides2019['passenger_fare_min_adj'] = rides2019.base_passenger_fare*1.159/(rides2019.trip_time/60)"
   ]
  },
  {
   "cell_type": "code",
   "execution_count": null,
   "id": "081ac4cf",
   "metadata": {},
   "outputs": [],
   "source": [
    "# Total passenger fare across all rides\n",
    "\n",
    "rides2019['passenger_fare_adj'].sum()  "
   ]
  },
  {
   "cell_type": "markdown",
   "id": "90311a16",
   "metadata": {},
   "source": [
    "#### Distribution of passenger fare"
   ]
  },
  {
   "cell_type": "code",
   "execution_count": null,
   "id": "f1f1cf0f",
   "metadata": {},
   "outputs": [],
   "source": [
    "rides2019.passenger_fare_adj.describe()"
   ]
  },
  {
   "cell_type": "markdown",
   "id": "eb5ee3ff",
   "metadata": {},
   "source": [
    "#### Average fare per minute cost "
   ]
  },
  {
   "cell_type": "code",
   "execution_count": null,
   "id": "862b17ee",
   "metadata": {},
   "outputs": [],
   "source": [
    "np.mean(rides2019['passenger_fare_min_adj'])"
   ]
  },
  {
   "cell_type": "markdown",
   "id": "1f98f42c",
   "metadata": {},
   "source": [
    "#### Average fare per mile cost (2022 Dollars)"
   ]
  },
  {
   "cell_type": "code",
   "execution_count": null,
   "id": "7d09d0f4",
   "metadata": {},
   "outputs": [],
   "source": [
    "np.mean(rides2019['passenger_fare_mile_adj'])"
   ]
  },
  {
   "cell_type": "markdown",
   "id": "7b1b8def",
   "metadata": {},
   "source": [
    "#### Regression of minutes and miles by passenger fare (In 2022, each additional mile per trip increases the fare by 2.03 dollars and each additional minute per trip increases the fare by 0.47 dollars)\n",
    "\n"
   ]
  },
  {
   "cell_type": "code",
   "execution_count": null,
   "id": "1c039f61",
   "metadata": {},
   "outputs": [],
   "source": [
    "# convert trip time to minutes\n",
    "rides2019['trip_time_min'] = rides2019.trip_time/60"
   ]
  },
  {
   "cell_type": "code",
   "execution_count": null,
   "id": "e001abc5",
   "metadata": {},
   "outputs": [],
   "source": [
    "result = sm.ols(formula=\"passenger_fare_adj ~ trip_miles + trip_time_min\", data=rides2019).fit()\n",
    "print(result.params)"
   ]
  },
  {
   "cell_type": "markdown",
   "id": "63c20031",
   "metadata": {},
   "source": [
    "## Drivers' earnings compared to passenger fare"
   ]
  },
  {
   "cell_type": "code",
   "execution_count": null,
   "id": "7ce0ed51",
   "metadata": {},
   "outputs": [],
   "source": [
    "rides2019['perc_earnings_fare_adj'] = rides2019[\"driver_pay_adj\"]/rides2019[\"passenger_fare_adj\"]\n",
    "\n",
    "rides2019[\"perc_earnings_fare_adj\"].describe()"
   ]
  },
  {
   "cell_type": "code",
   "execution_count": null,
   "id": "228836e7",
   "metadata": {},
   "outputs": [],
   "source": [
    "rides2019[rides2019[\"perc_earnings_fare_adj\"] > 1][\"perc_earnings_fare_adj\"].describe()"
   ]
  },
  {
   "cell_type": "code",
   "execution_count": null,
   "id": "0979c359",
   "metadata": {},
   "outputs": [],
   "source": [
    "rides2019[rides2019[\"perc_earnings_fare_adj\"] < 1][\"perc_earnings_fare_adj\"].describe()"
   ]
  },
  {
   "cell_type": "markdown",
   "id": "4bf0d8bf",
   "metadata": {},
   "source": [
    "## Trip lengths"
   ]
  },
  {
   "cell_type": "code",
   "execution_count": null,
   "id": "aa02ff68",
   "metadata": {},
   "outputs": [],
   "source": [
    "rides2019[\"trip_time_min\"].describe()"
   ]
  },
  {
   "cell_type": "code",
   "execution_count": null,
   "id": "233e835b",
   "metadata": {},
   "outputs": [],
   "source": [
    "rides2019[\"trip_miles\"].describe()"
   ]
  },
  {
   "cell_type": "markdown",
   "id": "7fba7acd",
   "metadata": {},
   "source": [
    "# 2022"
   ]
  },
  {
   "cell_type": "code",
   "execution_count": 3,
   "id": "6f2efe17",
   "metadata": {},
   "outputs": [],
   "source": [
    "rides2022 = pq.read_table(\"../Aya_NYTWA/Data/april_2022_cleaned.parquet\", memory_map=True).to_pandas()"
   ]
  },
  {
   "cell_type": "code",
   "execution_count": 4,
   "id": "ae50e8ba",
   "metadata": {},
   "outputs": [],
   "source": [
    "# Create minimum rates 2022 based on WAV and Out of City Conditions\n",
    "\n",
    "conditions2022 = [\n",
    "    (rides2022['wav_match_flag'] == 'N') & (rides2022['out_of_city'] == False),\n",
    "    (rides2022['wav_match_flag'] == 'Y') & (rides2022['out_of_city'] == False),\n",
    "    (rides2022['wav_match_flag'] == 'N') & (rides2022['out_of_city'] == True),\n",
    "    (rides2022['wav_match_flag'] == 'Y') & (rides2022['out_of_city'] == True)]\n",
    "\n",
    "choices2022 = [rides2022.trip_miles*NON_WAV_PER_MILE_22 + (rides2022.trip_time/60)*NON_WAV_PER_MIN_22,\n",
    "              rides2022.trip_miles*WAV_PER_MILE_22 + (rides2022.trip_time/60)*WAV_PER_MIN_22,\n",
    "              rides2022.trip_miles*OUT_CITY_NON_WAV_PER_MILE_22 + (rides2022.trip_time/60)*OUT_CITY_PER_MIN_22,\n",
    "              rides2022.trip_miles*OUT_CITY_WAV_PER_MILE_22 + (rides2022.trip_time/60)*OUT_CITY_PER_MIN_22]\n",
    "\n",
    "rides2022['min_rate'] = np.select(conditions2022, choices2022, default=rides2022.trip_miles*NON_WAV_PER_MILE_22 + (rides2022.trip_time/60)*NON_WAV_PER_MIN_22)\n"
   ]
  },
  {
   "cell_type": "code",
   "execution_count": 5,
   "id": "38c3de87",
   "metadata": {},
   "outputs": [],
   "source": [
    "# Create variable for dollar amount of driver pay over min rate\n",
    "\n",
    "rides2022['over_min_rate'] = (rides2022.driver_pay - rides2022.min_rate)"
   ]
  },
  {
   "cell_type": "code",
   "execution_count": 6,
   "id": "f23b69b9",
   "metadata": {},
   "outputs": [],
   "source": [
    "# Create variable for percentage of driver pay over min rate\n",
    "\n",
    "rides2022['perc_over_min_rate'] = (rides2022.over_min_rate/rides2022.min_rate)"
   ]
  },
  {
   "cell_type": "code",
   "execution_count": 7,
   "id": "357d71bf",
   "metadata": {},
   "outputs": [],
   "source": [
    "# Create rate of passenger fare, by mile and minute\n",
    "\n",
    "\n",
    "rides2022['passenger_fare_mile'] = rides2022.base_passenger_fare/rides2022.trip_miles\n",
    "rides2022['passenger_fare_min'] = rides2022.base_passenger_fare/(rides2022.trip_time/60)"
   ]
  },
  {
   "cell_type": "code",
   "execution_count": 8,
   "id": "1b41cabb",
   "metadata": {},
   "outputs": [],
   "source": [
    "# Determine percent of trips that leave city \n",
    "# Drop Shared rides, out of town rides, and VIA rides\n",
    "\n",
    "rides2022 = rides2022.loc[rides2022['hvfhs_license_num'] != VIA]\n",
    "\n",
    "rides2022 = rides2022.loc[rides2022['out_of_city'] == False]"
   ]
  },
  {
   "cell_type": "markdown",
   "id": "97afe332",
   "metadata": {},
   "source": [
    "## Driver Pay Analysis\n"
   ]
  },
  {
   "cell_type": "code",
   "execution_count": null,
   "id": "c33475df",
   "metadata": {},
   "outputs": [],
   "source": [
    "# Total driver pay across all rides\n",
    "\n",
    "rides2022['driver_pay'].sum()    "
   ]
  },
  {
   "cell_type": "markdown",
   "id": "234a39d8",
   "metadata": {},
   "source": [
    "#### Distribution of driver pay (in 2022 dollars)"
   ]
  },
  {
   "cell_type": "code",
   "execution_count": null,
   "id": "beedf34a",
   "metadata": {},
   "outputs": [],
   "source": [
    "rides2022.driver_pay.describe()"
   ]
  },
  {
   "cell_type": "code",
   "execution_count": null,
   "id": "33893fd0",
   "metadata": {},
   "outputs": [],
   "source": [
    "rides.min_rate.describe()"
   ]
  },
  {
   "cell_type": "markdown",
   "id": "753221ed",
   "metadata": {},
   "source": [
    "#### Distribution of percentage of driver earnings over the minimum required rate for the trip (In 2022 the bottom 25% of trips made less than 0.5% over the minimum rate, the top 25% of trips made at least 30% over the minimum rate, and the median percent made over the minimum rate was 7%)"
   ]
  },
  {
   "cell_type": "code",
   "execution_count": null,
   "id": "c26a8294",
   "metadata": {},
   "outputs": [],
   "source": [
    "rides2022.perc_over_min_rate.describe()"
   ]
  },
  {
   "cell_type": "markdown",
   "id": "9ff9c322",
   "metadata": {},
   "source": [
    "#### !! Percentage of rides where the driver made less than the minimum required rate"
   ]
  },
  {
   "cell_type": "code",
   "execution_count": null,
   "id": "b19df699",
   "metadata": {},
   "outputs": [],
   "source": [
    "bin_labels = ['less than 0%', '0% - 5%','5% - 10%', '10% - 15%', '15% and over']\n",
    "bins = [float('-inf'), 0, 0.05, 0.10, 0.15, float('inf')]\n",
    "\n",
    "rides2022['perc_over_range'] = pd.cut(rides2022['perc_over_min_rate'], bins= bins, labels=bin_labels)"
   ]
  },
  {
   "cell_type": "code",
   "execution_count": null,
   "id": "dcc3e181",
   "metadata": {},
   "outputs": [],
   "source": [
    "plt.bar(bin_labels, rides2022.groupby(\"perc_over_range\")[\"perc_over_range\"].count()*100/len(rides2022[\"perc_over_range\"]))\n",
    "plt.xticks(rotation = 45)\n",
    "plt.ylim([0, 60])\n",
    "plt.xlabel('Overpayment (% of minimum rate)')\n",
    "plt.ylabel('Proportion of rides (%)')\n",
    "plt.title('April 2022 Driver Overpayment as a Proportion of Minimum Rate')\n",
    "\n",
    "plt.show()"
   ]
  },
  {
   "cell_type": "code",
   "execution_count": null,
   "id": "ee3afdcd",
   "metadata": {},
   "outputs": [],
   "source": [
    "len(rides2022[rides2022.perc_over_min_rate < 0])/len(rides2022)"
   ]
  },
  {
   "cell_type": "markdown",
   "id": "33187b36",
   "metadata": {},
   "source": [
    "#### !! Percentage of rides where the driver made 1% or less over the minimum required rate"
   ]
  },
  {
   "cell_type": "code",
   "execution_count": null,
   "id": "794e127b",
   "metadata": {},
   "outputs": [],
   "source": [
    "len(rides2022[rides2022.perc_over_min_rate <= 0.01])/len(rides2022)"
   ]
  },
  {
   "cell_type": "markdown",
   "id": "c7f4f7ce",
   "metadata": {},
   "source": [
    "#### !! Percentage of rides where the driver made 10% or less over the minimum required rate"
   ]
  },
  {
   "cell_type": "code",
   "execution_count": null,
   "id": "24226e33",
   "metadata": {},
   "outputs": [],
   "source": [
    "len(rides2022[rides2022.perc_over_min_rate <= 0.10])/len(rides2022)"
   ]
  },
  {
   "cell_type": "markdown",
   "id": "1123a281",
   "metadata": {},
   "source": [
    "#### Percentage of rides where the driver made more than 5% of the minimum required rate"
   ]
  },
  {
   "cell_type": "code",
   "execution_count": null,
   "id": "63a20ee8",
   "metadata": {},
   "outputs": [],
   "source": [
    "len(rides2022[rides2022.perc_over_min_rate > 0.05])/len(rides2022)"
   ]
  },
  {
   "cell_type": "markdown",
   "id": "3a98f814",
   "metadata": {},
   "source": [
    "#### Percentage of rides where the driver made more than 10% of the minimum required rate"
   ]
  },
  {
   "cell_type": "code",
   "execution_count": null,
   "id": "97c66e0e",
   "metadata": {},
   "outputs": [],
   "source": [
    "len(rides2022[rides2022.perc_over_min_rate > 0.10])/len(rides2022)"
   ]
  },
  {
   "cell_type": "markdown",
   "id": "e7fecb6d",
   "metadata": {},
   "source": [
    "#### Percentage of rides where the driver made more than 20% of the minimum required rate"
   ]
  },
  {
   "cell_type": "code",
   "execution_count": null,
   "id": "31b8d205",
   "metadata": {},
   "outputs": [],
   "source": [
    "len(rides2022[rides2022.perc_over_min_rate > 0.20])/len(rides2022)"
   ]
  },
  {
   "cell_type": "markdown",
   "id": "7d7ba8d3",
   "metadata": {},
   "source": [
    "#### Distribution of driver pay for rides where the driver made less than the minimum rate"
   ]
  },
  {
   "cell_type": "code",
   "execution_count": null,
   "id": "18989640",
   "metadata": {
    "scrolled": true
   },
   "outputs": [],
   "source": [
    "rides2022[rides2022.perc_over_min_rate < 0].driver_pay.describe()"
   ]
  },
  {
   "cell_type": "markdown",
   "id": "7064fa18",
   "metadata": {},
   "source": [
    "#### Distribution of underpayment for rides where the driver made less than the minimum rate"
   ]
  },
  {
   "cell_type": "code",
   "execution_count": null,
   "id": "66d4dd2a",
   "metadata": {},
   "outputs": [],
   "source": [
    "rides2022[rides2022.perc_over_min_rate < 0].over_min_rate.describe()"
   ]
  },
  {
   "cell_type": "markdown",
   "id": "160a1aa9",
   "metadata": {},
   "source": [
    "#### (NEW) Distribution of proportion underpaid for rides where the driver made less than the minimum rate"
   ]
  },
  {
   "cell_type": "code",
   "execution_count": null,
   "id": "ca6b92dd",
   "metadata": {},
   "outputs": [],
   "source": [
    "rides2022[rides2022.perc_over_min_rate < 0].perc_over_min_rate.describe()"
   ]
  },
  {
   "cell_type": "markdown",
   "id": "bb91bb0e",
   "metadata": {},
   "source": [
    "#### Distribution of minimum rate (in dollars) for rides where the driver made less than minimum rate"
   ]
  },
  {
   "cell_type": "code",
   "execution_count": null,
   "id": "254bfe0c",
   "metadata": {},
   "outputs": [],
   "source": [
    "rides2022[rides2022.perc_over_min_rate < 0].min_rate.describe()"
   ]
  },
  {
   "cell_type": "markdown",
   "id": "f58427a6",
   "metadata": {},
   "source": [
    "#### Distribution of ride length for rides where the driver made less than minimum rate"
   ]
  },
  {
   "cell_type": "code",
   "execution_count": null,
   "id": "245a0e4f",
   "metadata": {},
   "outputs": [],
   "source": [
    "rides2022[rides2022.perc_over_min_rate < 0].trip_miles.describe()"
   ]
  },
  {
   "cell_type": "markdown",
   "id": "e57747ac",
   "metadata": {},
   "source": [
    "#### (NEW) Distribution of ride length (in minutes) for rides where the driver made less than minimum rate"
   ]
  },
  {
   "cell_type": "code",
   "execution_count": null,
   "id": "c3954193",
   "metadata": {
    "scrolled": true
   },
   "outputs": [],
   "source": [
    "rides2022[\"trip_time_min\"] = rides2022[\"trip_time\"]/60\n",
    "rides2022[rides2022.perc_over_min_rate < 0][\"trip_time_min\"].describe()"
   ]
  },
  {
   "cell_type": "code",
   "execution_count": 9,
   "id": "d780be29",
   "metadata": {},
   "outputs": [
    {
     "data": {
      "text/plain": [
       "0.010471530476580077"
      ]
     },
     "execution_count": 9,
     "metadata": {},
     "output_type": "execute_result"
    }
   ],
   "source": [
    "num_underpaid = len(rides2022[rides2022.perc_over_min_rate < 0])\n",
    "\n",
    "len(rides2022[rides2022.perc_over_min_rate <= -0.01])/num_underpaid"
   ]
  },
  {
   "cell_type": "markdown",
   "id": "1dcfafaa",
   "metadata": {},
   "source": [
    "#### Percent of underpaid trips underpaid by 2% or more"
   ]
  },
  {
   "cell_type": "code",
   "execution_count": null,
   "id": "5c5bd3fd",
   "metadata": {},
   "outputs": [],
   "source": [
    "len(rides2022[rides2022.perc_over_min_rate <= -0.02])/num_underpaid"
   ]
  },
  {
   "cell_type": "markdown",
   "id": "92c91988",
   "metadata": {},
   "source": [
    "#### Percent of underpaid trips underpaid by 5% or more"
   ]
  },
  {
   "cell_type": "code",
   "execution_count": null,
   "id": "bace29d0",
   "metadata": {},
   "outputs": [],
   "source": [
    "len(rides2022[rides2022.perc_over_min_rate <= -0.05])/num_underpaid"
   ]
  },
  {
   "cell_type": "markdown",
   "id": "fcdce398",
   "metadata": {},
   "source": [
    "#### Percent of underpaid trips underpaid by 10% or more"
   ]
  },
  {
   "cell_type": "code",
   "execution_count": null,
   "id": "9962c80e",
   "metadata": {},
   "outputs": [],
   "source": [
    "len(rides2022[rides2022.perc_over_min_rate <= -0.10])/num_underpaid"
   ]
  },
  {
   "cell_type": "markdown",
   "id": "d62ec418",
   "metadata": {},
   "source": [
    "#### Percent of underpaid trips underpaid by 25% or more"
   ]
  },
  {
   "cell_type": "code",
   "execution_count": null,
   "id": "4c592904",
   "metadata": {},
   "outputs": [],
   "source": [
    "len(rides2022[rides2022.perc_over_min_rate <= -0.25])/num_underpaid"
   ]
  },
  {
   "cell_type": "markdown",
   "id": "80f14fe6",
   "metadata": {},
   "source": [
    "#### Percent of underpaid trips underpaid by 50% or more"
   ]
  },
  {
   "cell_type": "code",
   "execution_count": null,
   "id": "edb8b673",
   "metadata": {},
   "outputs": [],
   "source": [
    "len(rides2022[rides2022.perc_over_min_rate <= -0.50])/num_underpaid"
   ]
  },
  {
   "cell_type": "markdown",
   "id": "33f6ec21",
   "metadata": {},
   "source": [
    "#### Percent of underpaid trips underpaid by 0 - 5%"
   ]
  },
  {
   "cell_type": "code",
   "execution_count": null,
   "id": "a813926c",
   "metadata": {},
   "outputs": [],
   "source": [
    "len(rides2022[(rides2022.perc_over_min_rate < 0) & (rides2022.perc_over_min_rate >= -0.05)])/num_underpaid"
   ]
  },
  {
   "cell_type": "markdown",
   "id": "e1075e5c",
   "metadata": {},
   "source": [
    "#### Percent of underpaid trips underpaid by 5- 10%"
   ]
  },
  {
   "cell_type": "code",
   "execution_count": null,
   "id": "76bf91b3",
   "metadata": {},
   "outputs": [],
   "source": [
    "len(rides2022[(rides2022.perc_over_min_rate < -0.05) & (rides2022.perc_over_min_rate >= -0.1)])/num_underpaid"
   ]
  },
  {
   "cell_type": "markdown",
   "id": "ebc159ec",
   "metadata": {},
   "source": [
    "#### Percent of underpaid trips underpaid by 10 - 15%"
   ]
  },
  {
   "cell_type": "code",
   "execution_count": null,
   "id": "c029a24f",
   "metadata": {},
   "outputs": [],
   "source": [
    "len(rides2022[(rides2022.perc_over_min_rate < -0.1) & (rides2022.perc_over_min_rate >= -.15)])/num_underpaid"
   ]
  },
  {
   "cell_type": "markdown",
   "id": "1247820e",
   "metadata": {},
   "source": [
    "#### Percent of underpaid trips underpaid by 15 - 20%"
   ]
  },
  {
   "cell_type": "code",
   "execution_count": null,
   "id": "d8e80b6b",
   "metadata": {},
   "outputs": [],
   "source": [
    "len(rides2022[(rides2022.perc_over_min_rate < -0.15) & (rides2022.perc_over_min_rate >= -.2)])/num_underpaid"
   ]
  },
  {
   "cell_type": "markdown",
   "id": "5a742867",
   "metadata": {},
   "source": [
    "#### Percent of underpaid trips underpaid by 20% or more"
   ]
  },
  {
   "cell_type": "code",
   "execution_count": null,
   "id": "16fa4b8b",
   "metadata": {
    "scrolled": false
   },
   "outputs": [],
   "source": [
    "len(rides2022[(rides2022.perc_over_min_rate < -0.20)])/num_underpaid"
   ]
  },
  {
   "cell_type": "markdown",
   "id": "ff4a2ad1",
   "metadata": {},
   "source": [
    "#### Percent of underpaid trips underpaid by 0 - 0.5%"
   ]
  },
  {
   "cell_type": "code",
   "execution_count": null,
   "id": "765f1b1b",
   "metadata": {},
   "outputs": [],
   "source": [
    "len(rides2022[(rides2022.perc_over_min_rate < 0) & (rides2022.perc_over_min_rate >= -0.005)])/num_underpaid"
   ]
  },
  {
   "cell_type": "code",
   "execution_count": 10,
   "id": "1ebc01f9",
   "metadata": {
    "scrolled": true
   },
   "outputs": [],
   "source": [
    "underpaid = pd.DataFrame(data = rides2022[rides2022[\"perc_over_min_rate\"] < 0], columns = [\"perc_over_min_rate\"]).reset_index(drop = True)"
   ]
  },
  {
   "cell_type": "code",
   "execution_count": 11,
   "id": "28ac6bd2",
   "metadata": {},
   "outputs": [],
   "source": [
    "underpaid['perc_under'] = underpaid[underpaid[\"perc_over_min_rate\"] < 0][\"perc_over_min_rate\"]*(-1)"
   ]
  },
  {
   "cell_type": "code",
   "execution_count": 12,
   "id": "eeba598a",
   "metadata": {},
   "outputs": [],
   "source": [
    "bin_labels = ['0% - 5%','5% - 10%', '10% - 15%', '15% - 20%', '20% and over']\n",
    "bins = [0, 0.05, 0.10, 0.15, 0.2, float('inf')]\n",
    "\n",
    "underpaid['perc_under_range'] = pd.cut(underpaid[\"perc_under\"], bins= bins, labels=bin_labels)"
   ]
  },
  {
   "cell_type": "code",
   "execution_count": 14,
   "id": "e35726be",
   "metadata": {},
   "outputs": [
    {
     "data": {
      "image/png": "[encoded data removed]",
      "text/plain": [
       "<Figure size 640x480 with 1 Axes>"
      ]
     },
     "metadata": {},
     "output_type": "display_data"
    }
   ],
   "source": [
    "plt.bar(bin_labels, underpaid.groupby(\"perc_under_range\")[\"perc_under_range\"].count()*100/len(underpaid[\"perc_under_range\"]))\n",
    "plt.ylim([0, 100])\n",
    "plt.xticks(rotation = 45)\n",
    "plt.xlabel('Underpayment (% of minimum rate)')\n",
    "plt.ylabel('Proportion of underpaid rides (%)')\n",
    "plt.title('April 2022 Driver Underpayment as a Proportion of Minimum Rate')\n",
    "\n",
    "plt.show()"
   ]
  },
  {
   "cell_type": "markdown",
   "id": "d382b425",
   "metadata": {},
   "source": [
    "#### Percent of underpaid trips underpaid by \\\\$0.50 or more"
   ]
  },
  {
   "cell_type": "code",
   "execution_count": 15,
   "id": "ae23d99b",
   "metadata": {},
   "outputs": [
    {
     "data": {
      "text/plain": [
       "0.010203070668848435"
      ]
     },
     "execution_count": 15,
     "metadata": {},
     "output_type": "execute_result"
    }
   ],
   "source": [
    "len(rides2022[(rides2022.over_min_rate <= -0.50)])/num_underpaid"
   ]
  },
  {
   "cell_type": "markdown",
   "id": "742cc463",
   "metadata": {},
   "source": [
    "#### Percent of underpaid trips underpaid by \\\\$1.00 or more"
   ]
  },
  {
   "cell_type": "code",
   "execution_count": 16,
   "id": "a61f7870",
   "metadata": {},
   "outputs": [
    {
     "data": {
      "text/plain": [
       "0.009693316629167519"
      ]
     },
     "execution_count": 16,
     "metadata": {},
     "output_type": "execute_result"
    }
   ],
   "source": [
    "len(rides2022[(rides2022.over_min_rate <= -1.00)])/num_underpaid"
   ]
  },
  {
   "cell_type": "markdown",
   "id": "8e0eaafe",
   "metadata": {},
   "source": [
    "#### Percent of underpaid trips underpaid by \\\\$1.50 or more"
   ]
  },
  {
   "cell_type": "code",
   "execution_count": 17,
   "id": "ee83e2e9",
   "metadata": {},
   "outputs": [
    {
     "data": {
      "text/plain": [
       "0.009253873491511556"
      ]
     },
     "execution_count": 17,
     "metadata": {},
     "output_type": "execute_result"
    }
   ],
   "source": [
    "len(rides2022[(rides2022.over_min_rate <= -1.50)])/num_underpaid"
   ]
  },
  {
   "cell_type": "markdown",
   "id": "e8f8935c",
   "metadata": {},
   "source": [
    "#### Percent of underpaid trips underpaid by \\\\$2.00 or more"
   ]
  },
  {
   "cell_type": "code",
   "execution_count": 18,
   "id": "f9d25ef3",
   "metadata": {},
   "outputs": [
    {
     "data": {
      "text/plain": [
       "0.008891133156064634"
      ]
     },
     "execution_count": 18,
     "metadata": {},
     "output_type": "execute_result"
    }
   ],
   "source": [
    "len(rides2022[(rides2022.over_min_rate <= -2.00)])/num_underpaid"
   ]
  },
  {
   "cell_type": "code",
   "execution_count": 21,
   "id": "6f2724e4",
   "metadata": {},
   "outputs": [],
   "source": [
    "underpaid_dollar = pd.DataFrame(data = rides2022[rides2022[\"over_min_rate\"] < 0], columns = [\"over_min_rate\"]).reset_index(drop = True)"
   ]
  },
  {
   "cell_type": "code",
   "execution_count": 22,
   "id": "ec64f90a",
   "metadata": {},
   "outputs": [
    {
     "data": {
      "text/html": [
       "<div>\n",
       "<style scoped>\n",
       "    .dataframe tbody tr th:only-of-type {\n",
       "        vertical-align: middle;\n",
       "    }\n",
       "\n",
       "    .dataframe tbody tr th {\n",
       "        vertical-align: top;\n",
       "    }\n",
       "\n",
       "    .dataframe thead th {\n",
       "        text-align: right;\n",
       "    }\n",
       "</style>\n",
       "<table border=\"1\" class=\"dataframe\">\n",
       "  <thead>\n",
       "    <tr style=\"text-align: right;\">\n",
       "      <th></th>\n",
       "      <th>over_min_rate</th>\n",
       "      <th>dollar_under</th>\n",
       "    </tr>\n",
       "  </thead>\n",
       "  <tbody>\n",
       "    <tr>\n",
       "      <th>0</th>\n",
       "      <td>-0.00537</td>\n",
       "      <td>0.00537</td>\n",
       "    </tr>\n",
       "    <tr>\n",
       "      <th>1</th>\n",
       "      <td>-0.00324</td>\n",
       "      <td>0.00324</td>\n",
       "    </tr>\n",
       "    <tr>\n",
       "      <th>2</th>\n",
       "      <td>-0.00528</td>\n",
       "      <td>0.00528</td>\n",
       "    </tr>\n",
       "    <tr>\n",
       "      <th>3</th>\n",
       "      <td>-0.00037</td>\n",
       "      <td>0.00037</td>\n",
       "    </tr>\n",
       "    <tr>\n",
       "      <th>4</th>\n",
       "      <td>-0.00249</td>\n",
       "      <td>0.00249</td>\n",
       "    </tr>\n",
       "    <tr>\n",
       "      <th>...</th>\n",
       "      <td>...</td>\n",
       "      <td>...</td>\n",
       "    </tr>\n",
       "    <tr>\n",
       "      <th>625787</th>\n",
       "      <td>-0.00140</td>\n",
       "      <td>0.00140</td>\n",
       "    </tr>\n",
       "    <tr>\n",
       "      <th>625788</th>\n",
       "      <td>-0.00046</td>\n",
       "      <td>0.00046</td>\n",
       "    </tr>\n",
       "    <tr>\n",
       "      <th>625789</th>\n",
       "      <td>-0.00338</td>\n",
       "      <td>0.00338</td>\n",
       "    </tr>\n",
       "    <tr>\n",
       "      <th>625790</th>\n",
       "      <td>-0.00302</td>\n",
       "      <td>0.00302</td>\n",
       "    </tr>\n",
       "    <tr>\n",
       "      <th>625791</th>\n",
       "      <td>-0.00360</td>\n",
       "      <td>0.00360</td>\n",
       "    </tr>\n",
       "  </tbody>\n",
       "</table>\n",
       "<p>625792 rows × 2 columns</p>\n",
       "</div>"
      ],
      "text/plain": [
       "        over_min_rate  dollar_under\n",
       "0            -0.00537       0.00537\n",
       "1            -0.00324       0.00324\n",
       "2            -0.00528       0.00528\n",
       "3            -0.00037       0.00037\n",
       "4            -0.00249       0.00249\n",
       "...               ...           ...\n",
       "625787       -0.00140       0.00140\n",
       "625788       -0.00046       0.00046\n",
       "625789       -0.00338       0.00338\n",
       "625790       -0.00302       0.00302\n",
       "625791       -0.00360       0.00360\n",
       "\n",
       "[625792 rows x 2 columns]"
      ]
     },
     "execution_count": 22,
     "metadata": {},
     "output_type": "execute_result"
    }
   ],
   "source": [
    "underpaid_dollar['dollar_under'] = underpaid_dollar[\"over_min_rate\"]*(-1)\n",
    "underpaid_dollar"
   ]
  },
  {
   "cell_type": "code",
   "execution_count": 23,
   "id": "9db6e2c4",
   "metadata": {},
   "outputs": [],
   "source": [
    "bin_labels = ['\\$0.00 to \\$0.50','\\$0.50 to \\$1.00', '\\$1.00 to \\$1.50','\\$1.50 to \\$2.00','\\$2.00 to \\$2.50','\\$2.50 to \\$3.00', '\\$3.00 to \\$3.50', '\\$3.50 or more']\n",
    "bins = [0, 0.50, 1.00, 1.50, 2.00, 2.50, 3.00, 3.50, float('inf')]\n",
    "\n",
    "underpaid_dollar['dollar_under_range'] = pd.cut(underpaid_dollar['dollar_under'], bins= bins, labels=bin_labels)"
   ]
  },
  {
   "cell_type": "code",
   "execution_count": 25,
   "id": "77573bff",
   "metadata": {
    "scrolled": true
   },
   "outputs": [
    {
     "data": {
      "image/png": "[encoded data removed]",
      "text/plain": [
       "<Figure size 640x480 with 1 Axes>"
      ]
     },
     "metadata": {},
     "output_type": "display_data"
    }
   ],
   "source": [
    "plt.bar(bin_labels, underpaid_dollar.groupby(\"dollar_under_range\")[\"dollar_under_range\"].count()*100/len(underpaid_dollar[\"dollar_under_range\"]))\n",
    "plt.ylim([0, 100])\n",
    "plt.xticks(rotation = 45)\n",
    "plt.xlabel('Underpayment ($ under minimum rate)')\n",
    "plt.ylabel('Proportion of rides (%)')\n",
    "plt.title('April 2022 Driver Underpayment in Dollars')\n",
    "\n",
    "plt.show()"
   ]
  },
  {
   "cell_type": "markdown",
   "id": "4becf7fe",
   "metadata": {},
   "source": [
    "#### Distribution of driver pay for rides where the driver made over 20% of the minimum rate"
   ]
  },
  {
   "cell_type": "code",
   "execution_count": null,
   "id": "cf28cf26",
   "metadata": {},
   "outputs": [],
   "source": [
    "rides2022[rides2022.perc_over_min_rate > .2].driver_pay.describe()"
   ]
  },
  {
   "cell_type": "markdown",
   "id": "c4f951bc",
   "metadata": {},
   "source": [
    "#### Distribution of overage (in dollars) for rides where the driver made over 20% of the minimum rate"
   ]
  },
  {
   "cell_type": "code",
   "execution_count": null,
   "id": "eb45f183",
   "metadata": {},
   "outputs": [],
   "source": [
    "rides2022[rides2022.perc_over_min_rate > .2][\"over_min_rate\"].describe()"
   ]
  },
  {
   "cell_type": "markdown",
   "id": "15f64b6f",
   "metadata": {},
   "source": [
    "#### Distribution of minimum rate (in dollars) for rides where the driver made over 20% of the minimum rate"
   ]
  },
  {
   "cell_type": "code",
   "execution_count": null,
   "id": "2062b781",
   "metadata": {
    "scrolled": true
   },
   "outputs": [],
   "source": [
    "rides2022[rides2022.perc_over_min_rate > .2][\"min_rate\"].describe()"
   ]
  },
  {
   "cell_type": "code",
   "execution_count": null,
   "id": "6372e7fc",
   "metadata": {},
   "outputs": [],
   "source": []
  },
  {
   "cell_type": "markdown",
   "id": "fe1188dc",
   "metadata": {},
   "source": [
    "#### Distribution of driver pay for rides where the driver made over 20% of the minimum rate (2022 dollars)"
   ]
  },
  {
   "cell_type": "code",
   "execution_count": null,
   "id": "9694d221",
   "metadata": {},
   "outputs": [],
   "source": [
    "rides2022[rides2022.perc_over_min_rate > .2].driver_pay.describe()"
   ]
  },
  {
   "cell_type": "markdown",
   "id": "45a23378",
   "metadata": {},
   "source": [
    "#### !! Percent of trips where overage is more than \\$1"
   ]
  },
  {
   "cell_type": "code",
   "execution_count": null,
   "id": "511c927e",
   "metadata": {},
   "outputs": [],
   "source": [
    "len(rides2022[rides2022['over_min_rate'] > 1])/len(rides2022)"
   ]
  },
  {
   "cell_type": "markdown",
   "id": "cd6b88e1",
   "metadata": {},
   "source": [
    "#### !! Percent of trips where overage was \\$20 or more"
   ]
  },
  {
   "cell_type": "code",
   "execution_count": null,
   "id": "03056c6e",
   "metadata": {
    "scrolled": true
   },
   "outputs": [],
   "source": [
    "len(rides2022[rides2022['over_min_rate'] > 20])/len(rides2022)"
   ]
  },
  {
   "cell_type": "markdown",
   "id": "d9e4efad",
   "metadata": {},
   "source": [
    "#### !! Average overage of all trips in dollars"
   ]
  },
  {
   "cell_type": "code",
   "execution_count": null,
   "id": "03244509",
   "metadata": {},
   "outputs": [],
   "source": [
    "rides2022['over_min_rate'].describe()"
   ]
  },
  {
   "cell_type": "markdown",
   "id": "8815d208",
   "metadata": {},
   "source": [
    "#### !! Average overage of trips that were 10% or less over in dollars"
   ]
  },
  {
   "cell_type": "code",
   "execution_count": null,
   "id": "b61af5b3",
   "metadata": {},
   "outputs": [],
   "source": [
    "rides2022[rides2022['perc_over_min_rate'] < .1]['over_min_rate'].describe()"
   ]
  },
  {
   "cell_type": "markdown",
   "id": "522a2084",
   "metadata": {},
   "source": [
    "#### !! Average overage of all trips which are over pay rules in dollars"
   ]
  },
  {
   "cell_type": "code",
   "execution_count": null,
   "id": "c322507b",
   "metadata": {},
   "outputs": [],
   "source": [
    "rides2022[rides2022['over_min_rate'] > 0]['over_min_rate'].describe()"
   ]
  },
  {
   "cell_type": "markdown",
   "id": "dbbffd9a",
   "metadata": {},
   "source": [
    "#### Driver Pay min/mile"
   ]
  },
  {
   "cell_type": "code",
   "execution_count": null,
   "id": "0ef18040",
   "metadata": {},
   "outputs": [],
   "source": [
    "rides2022['driver_pay_mile'] = rides2022.driver_pay/rides2022.trip_miles\n",
    "rides2022['driver_pay_min'] = rides2022.driver_pay/(rides2022.trip_time/60)"
   ]
  },
  {
   "cell_type": "code",
   "execution_count": null,
   "id": "a2e8dccf",
   "metadata": {},
   "outputs": [],
   "source": [
    "np.mean(rides2022['driver_pay_mile'])"
   ]
  },
  {
   "cell_type": "code",
   "execution_count": null,
   "id": "28a80664",
   "metadata": {},
   "outputs": [],
   "source": [
    "np.mean(rides2022['driver_pay_min'])"
   ]
  },
  {
   "cell_type": "markdown",
   "id": "4aa0a0c2",
   "metadata": {},
   "source": [
    "## Passenger Fare Analysis"
   ]
  },
  {
   "cell_type": "code",
   "execution_count": null,
   "id": "f7c43af3",
   "metadata": {},
   "outputs": [],
   "source": [
    "# Total passenger fare across all rides\n",
    "\n",
    "rides2022['base_passenger_fare'].sum()  "
   ]
  },
  {
   "cell_type": "markdown",
   "id": "e466d954",
   "metadata": {},
   "source": [
    "#### Distribution of passenger fare (2022 Dollars)"
   ]
  },
  {
   "cell_type": "code",
   "execution_count": null,
   "id": "a48abf3d",
   "metadata": {},
   "outputs": [],
   "source": [
    "rides2022.base_passenger_fare.describe()"
   ]
  },
  {
   "cell_type": "markdown",
   "id": "3097cc09",
   "metadata": {},
   "source": [
    "#### Average fare per minute cost (2022 Dollars)"
   ]
  },
  {
   "cell_type": "code",
   "execution_count": null,
   "id": "e5280d71",
   "metadata": {},
   "outputs": [],
   "source": [
    "np.mean(rides2022['passenger_fare_min'])"
   ]
  },
  {
   "cell_type": "markdown",
   "id": "0ff81479",
   "metadata": {},
   "source": [
    "#### Average fare per mile cost (2022 Dollars)"
   ]
  },
  {
   "cell_type": "code",
   "execution_count": null,
   "id": "63982acd",
   "metadata": {},
   "outputs": [],
   "source": [
    "np.mean(rides2022['passenger_fare_mile'])"
   ]
  },
  {
   "cell_type": "markdown",
   "id": "f05a3427",
   "metadata": {},
   "source": [
    "#### Regression of minutes and miles by passenger fare (In 2022, each additional mile per trip increases the fare by 2.03 dollars and each additional minute per trip increases the fare by 0.47 dollars)\n",
    "\n"
   ]
  },
  {
   "cell_type": "code",
   "execution_count": null,
   "id": "f28d4015",
   "metadata": {},
   "outputs": [],
   "source": [
    "# convert trip time to minutes\n",
    "rides2022['trip_time_min'] = rides2022.trip_time/60"
   ]
  },
  {
   "cell_type": "code",
   "execution_count": null,
   "id": "b4201fc9",
   "metadata": {},
   "outputs": [],
   "source": [
    "result = sm.ols(formula=\"base_passenger_fare ~ trip_miles + trip_time_min\", data=rides2022).fit()\n",
    "print(result.params)"
   ]
  },
  {
   "cell_type": "markdown",
   "id": "14cbf47b",
   "metadata": {},
   "source": [
    "## Drivers' earnings compared to passenger fare"
   ]
  },
  {
   "cell_type": "code",
   "execution_count": null,
   "id": "5a9ecc0e",
   "metadata": {},
   "outputs": [],
   "source": [
    "rides2022['perc_earnings_fare'] = rides2022[\"driver_pay\"]/rides2022[\"base_passenger_fare\"]\n",
    "\n",
    "rides2022[\"perc_earnings_fare\"].describe()"
   ]
  },
  {
   "cell_type": "code",
   "execution_count": null,
   "id": "85e193f0",
   "metadata": {},
   "outputs": [],
   "source": [
    "len(rides2022[rides2022[\"perc_earnings_fare\"] > 1])/len(rides2022[\"perc_earnings_fare\"])"
   ]
  },
  {
   "cell_type": "code",
   "execution_count": null,
   "id": "57015840",
   "metadata": {},
   "outputs": [],
   "source": [
    "rides2022[rides2022[\"perc_earnings_fare\"] > 1][\"over_min_rate\"].describe()"
   ]
  },
  {
   "cell_type": "markdown",
   "id": "fa3c422b",
   "metadata": {},
   "source": [
    "### Plot of proportion of passenger fare that the company takes"
   ]
  },
  {
   "cell_type": "code",
   "execution_count": null,
   "id": "8413ff60",
   "metadata": {},
   "outputs": [],
   "source": [
    "rides2022['perc_uber_takes'] = 1 - rides2022[\"driver_pay\"]/rides2022[\"base_passenger_fare\"]"
   ]
  },
  {
   "cell_type": "code",
   "execution_count": null,
   "id": "5299bba0",
   "metadata": {},
   "outputs": [],
   "source": [
    "bin_labels = ['less than 0%', '0% - 10%','10% - 20%', '20% - 30%', '30% - 40%', '40% and over']\n",
    "bins = [float('-inf'), 0, 0.10, 0.20, 0.30, 0.40, float('inf')]\n",
    "\n",
    "rides2022['perc_uber_takes_range'] = pd.cut(rides2022['perc_uber_takes'], bins= bins, labels=bin_labels)"
   ]
  },
  {
   "cell_type": "code",
   "execution_count": null,
   "id": "f09438e8",
   "metadata": {},
   "outputs": [],
   "source": [
    "plt.bar(bin_labels, rides2022.groupby(\"perc_uber_takes_range\")[\"perc_uber_takes_range\"].count()*100/len(rides2022[\"perc_uber_takes_range\"]))\n",
    "plt.ylim([0, 35])\n",
    "plt.xticks(rotation = 45)\n",
    "plt.xlabel('Amount Taken (% of passenger fare)')\n",
    "plt.ylabel('Proportion of rides (%)')\n",
    "plt.title('April 2022, Proportion of Passenger Fare that the Company Takes')\n",
    "\n",
    "plt.show()"
   ]
  },
  {
   "cell_type": "markdown",
   "id": "7f1099d0",
   "metadata": {},
   "source": [
    "## Trip lengths"
   ]
  },
  {
   "cell_type": "code",
   "execution_count": null,
   "id": "4eb8c621",
   "metadata": {},
   "outputs": [],
   "source": [
    "rides2022[\"trip_time_min\"].describe()"
   ]
  },
  {
   "cell_type": "code",
   "execution_count": null,
   "id": "b687492d",
   "metadata": {},
   "outputs": [],
   "source": [
    "rides2022[\"trip_miles\"].describe()"
   ]
  },
  {
   "cell_type": "code",
   "execution_count": null,
   "id": "35a67117",
   "metadata": {},
   "outputs": [],
   "source": []
  }
 ],
 "metadata": {
  "kernelspec": {
   "display_name": "Python 3",
   "language": "python",
   "name": "python3"
  },
  "language_info": {
   "codemirror_mode": {
    "name": "ipython",
    "version": 3
   },
   "file_extension": ".py",
   "mimetype": "text/x-python",
   "name": "python",
   "nbconvert_exporter": "python",
   "pygments_lexer": "ipython3",
   "version": "3.7.11"
  }
 },
 "nbformat": 4,
 "nbformat_minor": 5
}
